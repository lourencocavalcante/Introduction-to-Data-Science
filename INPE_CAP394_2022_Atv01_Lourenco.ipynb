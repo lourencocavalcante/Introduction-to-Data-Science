{
  "nbformat": 4,
  "nbformat_minor": 0,
  "metadata": {
    "colab": {
      "name": "INPE_CAP394_2022_Atv01_Lourenco.ipynb",
      "provenance": [],
      "collapsed_sections": [],
      "machine_shape": "hm"
    },
    "kernelspec": {
      "name": "python3",
      "display_name": "Python 3"
    },
    "language_info": {
      "name": "python"
    },
    "accelerator": "GPU",
    "gpuClass": "standard"
  },
  "cells": [
    {
      "cell_type": "markdown",
      "source": [
        ""
      ],
      "metadata": {
        "id": "j4hUnCKmmHCu"
      }
    },
    {
      "cell_type": "markdown",
      "source": [
        "[<img src=\"https://github.com/lourencocavalcante/LogosINPE/blob/main/logoinpe.png?raw=true\" width = 500 align=\"left\">](https://www.gov.br/inpe/pt-br)\n",
        "\n",
        "[<img src=\"https://github.com/lourencocavalcante/LogosINPE/blob/main/LogoCAP.png?raw=true\" width = 300 align=\"right\">](http://www.inpe.br/posgraduacao/cap/)"
      ],
      "metadata": {
        "id": "OCGrfcaNk9Ju"
      }
    },
    {
      "cell_type": "markdown",
      "source": [
        "# **CAP-394 – Introdução à Ciência de Dados (2022)**\n",
        "\n",
        "**Professores:**\n",
        "*Dr. Rafael Duarte Coelho Dos Santos e Dr. Gilberto Ribeiro De Queiroz*\n",
        "\n",
        "**Aluno :**\n",
        "*Lourenço José Cavalcante Neto*\n",
        "\n",
        "---\n",
        "\n",
        "**ATIVIDADE 01:  Análise básica do Dataset**\n",
        "\n",
        "**Descrição da Atividade:**\n",
        "\n",
        "1. Preparar o primeiro notebook contendo uma análise básica dos dados, demonstrando:\n",
        "  * A estrutura dos dados;\n",
        "  * Visualização básica dos dados;\n",
        "  * etc...\n"
      ],
      "metadata": {
        "id": "88RwBLoykL2t"
      }
    },
    {
      "cell_type": "markdown",
      "source": [
        "# **Introdução**\n",
        "\n",
        "A ciência de dados é a prática de mineração de grandes conjuntos de dados brutos, estruturados e não estruturados, para identificar padrões e extrair deles insights acionáveis. Este é um campo interdisciplinar, e os fundamentos da ciência de dados incluem estatísticas, inferência, ciência da computação, análise preditiva, desenvolvimento de algoritmos de aprendizado de máquina e novas tecnologias para obter insights de big data.\n",
        "\n",
        "Para definir a ciência de dados e melhorar o gerenciamento de projetos de ciência de dados, comece com seu ciclo de vida. O primeiro estágio no fluxo de trabalho do pipeline de ciência de dados envolve a captura: adquirir dados, às vezes extraí-los e inseri-los no sistema. O próximo estágio é a manutenção, que inclui armazenamento de dados, limpeza de dados, processamento de dados, preparação de dados e arquitetura de dados.\n",
        "\n",
        "Este notebook contém uma análise básica de dados, tal qual procurou-se demonstrar a sua estrutura,visualização básica etc. Para isso, foi selecionado um dataset no qual a sua origem é de um equipamento chamado **Disdrômetro RD80** (também chamado de **Joss**),instalado nas proximidades da torre **ATTO**, em um sítio chamado Campina, na região Amazônica. O disdrômetro RD80 mede a distribuição das gotas de chuva que chegam à superfície.\n",
        "\n",
        "\n",
        "Este notebook pode ser acessado no **github**: https://github.com/lourencocavalcante/Introduction-to-Data-Science.git"
      ],
      "metadata": {
        "id": "UTePmjPO0HTy"
      }
    },
    {
      "cell_type": "markdown",
      "source": [
        "# **Dataset**\n",
        " \n",
        "Os Dados são de dois equipamentos instalados próximo à torre **ATTO**, em um sítio chamado Campina, na região amazônica. **Radiômetro de microondas MP3000A:** Este mede diversas variáveis: Ambiente, Radiância no espectro de onda do microonda em diversos canais e Estimativas de parâmetros de nuvens. \n",
        "**Disdrômetro RD80 (Joss):** Mede adistribuição das gotas de chuva que chegam à superfície;\n",
        "\n",
        "\n",
        "<img src=\"https://github.com/lourencocavalcante/Introduction-to-Data-Science/blob/e47238ac99a525a4972b534bf9c4950ee85b1b89/Figuras/disdrometro-rd80.gif?raw=true\" width = 500 align=\"left\">\n",
        "\n",
        "\n",
        "Os dois equipamentos estão instalados próximos à torre ATTO, em um sítio chamado Campina, na região amazônica;\n",
        "\n",
        "\n",
        "Período de dados: De 17 de março de 2020 a 07 Julho 2022.\n",
        "\n"
      ],
      "metadata": {
        "id": "X7YHpTbLpR3L"
      }
    },
    {
      "cell_type": "markdown",
      "source": [
        "```\n",
        "level1_output_sfc\n",
        "Neste arquivo estão os dados do ambiente próximo à superfície.\n",
        "Mês, dia, Ano (YY), Hora, Minuto, segundos, Tamb(K), Rh(%), Pres(mb), Tir(K), Rain, DataQuality \n",
        "Tamb - Temperatura do Ambiente\n",
        "Rh - Umidade Relativa\n",
        "Pres - Pressão\n",
        "Tir - Temperatura no canal Infravermelho\n",
        "\n",
        "level1_output_bt\n",
        "Neste arquivos estão os dados das medidas dos canais do microonda.\n",
        "Mês, dia, Ano (YY), Hora, Minuto, segundos, Ch  22.234, Ch  22.500, Ch  23.034, Ch  23.834,\n",
        "Ch  25.000, Ch  26.234, Ch  28.000, Ch  30.000, Ch  51.248, Ch  51.760, Ch  52.280, Ch  52.804, Ch  53.336, Ch  53.848, Ch  54.400, Ch  54.940,\n",
        "Ch  55.500, Ch  56.020, Ch  56.660, Ch  57.288, Ch  57.964, Ch  58.800, DataQuality\n",
        "A unidade é K (Kelvin). Assim como é para Tamb e Tir.\n",
        "\n",
        "level2_output_cld_atto\n",
        "Neste arquivos estão as variáveis estimadas associadas a parâmetros de nuvens.\n",
        "Mês, dia, Ano (YY), Hora, Minuto, segundos, Int. Vapor(cm),Int. Liquid(mm),Cloud Base(km),DataQuality\n",
        "Int. Vapor - Vapor integrado na atmosfera\n",
        "Int. Liquid - Conteúdo de água líquida integrado na nuvem\n",
        "Cloud Base - A altura da base da nuvem\n",
        "\n",
        "JWD_campina_report_RZLwcDmDtNdrop_b2.1_report\n",
        "Ano (YYYY), mês, dia, hora, minuto, segundos,Rain Intensity (mm/h), radar\n",
        " reflectivity (1/mm6m3),Liquid watercontent (g/m3),Mean weight diameter(mm),\n",
        "  Time integration (s), N(D)(20 colunas associadas aos diametros dasgotas de chuva)\n",
        "\n",
        "```"
      ],
      "metadata": {
        "id": "cL8IzViK3Gsc"
      }
    },
    {
      "cell_type": "markdown",
      "source": [
        "**Bibliotecas**\n",
        "\n",
        "A célula abaixo faz a importação das bibliotecas que serão utilizadas na análise dos dados."
      ],
      "metadata": {
        "id": "FxA9_U4DVVcF"
      }
    },
    {
      "cell_type": "code",
      "execution_count": 1,
      "metadata": {
        "id": "3jZRmEf4Kha7"
      },
      "outputs": [],
      "source": [
        "import pandas as pd\n",
        "\n",
        "import numpy as np\n",
        "import seaborn as sns\n",
        "\n",
        "import matplotlib.pyplot as plt\n",
        "from matplotlib.pyplot import figure\n",
        "import math\n",
        "\n",
        "import datetime\n"
      ]
    },
    {
      "cell_type": "code",
      "source": [
        "from google.colab import drive\n",
        "drive.mount('/content/drive')"
      ],
      "metadata": {
        "colab": {
          "base_uri": "https://localhost:8080/"
        },
        "id": "uUNLtcavMCOk",
        "outputId": "c2af5212-6f33-4f84-b78d-fdd5bde4ab46"
      },
      "execution_count": 2,
      "outputs": [
        {
          "output_type": "stream",
          "name": "stdout",
          "text": [
            "Mounted at /content/drive\n"
          ]
        }
      ]
    },
    {
      "cell_type": "markdown",
      "source": [
        "**Importando os dados e definição dos Dataframes**\n"
      ],
      "metadata": {
        "id": "EyIldOmMMLJ7"
      }
    },
    {
      "cell_type": "code",
      "source": [
        "#Dados do disdrômetro RD80. Chamado comumente de Joss. \n",
        "#Este equipamento mede adistribuição das gotas de chuva que chegam à superfície. (df_rd80_joss)\n",
        "df_rd80_joss = pd.read_table('/content/drive/MyDrive/MestradoCAP/Lourenco/cap351/Datasets/JWD_campina_report_RZLwcDmDtNdrop_b2.1_report.txt',header=None,delim_whitespace=True)\n",
        "\n",
        "\n",
        "#Dados do radiômetro de microondas MP3000A. Esse instrumento mede diversas variáveis:\n",
        "\n",
        "#Variáveis de ambiente (dados_ambi_superficie)\n",
        "df_mp3000A_1 = pd.read_table('/content/drive/MyDrive/MestradoCAP/Lourenco/cap351/Datasets/level1_output_sfc.txt',header=None,delim_whitespace=True)\n",
        "#Radiância no espectro de onda do microonda em diversos canais (dados_med_canais_micro)\n",
        "df_mp3000A_2 = pd.read_table('/content/drive/MyDrive/MestradoCAP/Lourenco/cap351/Datasets/level1_output_bt.txt',header=None,delim_whitespace=True)\n",
        "#Estimativas de parâmetros de nuvens (dados_est_param_nuvens)\n",
        "df_mp3000A_3 = pd.read_table('/content/drive/MyDrive/MestradoCAP/Lourenco/cap351/Datasets/level2_output_cld_atto.txt',header=None,delim_whitespace=True)\n"
      ],
      "metadata": {
        "id": "DEtGyJ2cMvfW"
      },
      "execution_count": 27,
      "outputs": []
    },
    {
      "cell_type": "code",
      "source": [
        "list_datasets = [df_rd80_joss, df_mp3000A_1, df_mp3000A_2, df_mp3000A_3]"
      ],
      "metadata": {
        "id": "7q-hAZeweIJ5"
      },
      "execution_count": 34,
      "outputs": []
    },
    {
      "cell_type": "markdown",
      "source": [
        "**Tamanho do Dataset**"
      ],
      "metadata": {
        "id": "iUN9UCu6DxSX"
      }
    },
    {
      "cell_type": "code",
      "source": [
        "for item in list_datasets:\n",
        "  print('Tamanho do dataset: ',item.shape[0], ', quantiade de atributos: ', item.shape[1])"
      ],
      "metadata": {
        "id": "4u0Sdt9hWFhW",
        "outputId": "6cff165a-ae12-47b4-a214-c1f123486c77",
        "colab": {
          "base_uri": "https://localhost:8080/"
        }
      },
      "execution_count": 35,
      "outputs": [
        {
          "output_type": "stream",
          "name": "stdout",
          "text": [
            "Tamanho do dataset:  315420 , quantiade de atributos:  31\n",
            "Tamanho do dataset:  639828 , quantiade de atributos:  12\n",
            "Tamanho do dataset:  639694 , quantiade de atributos:  29\n",
            "Tamanho do dataset:  639542 , quantiade de atributos:  10\n"
          ]
        }
      ]
    },
    {
      "cell_type": "markdown",
      "source": [
        "Visualizando as colunas do Dataset"
      ],
      "metadata": {
        "id": "CKVZf-z5Y6iy"
      }
    },
    {
      "cell_type": "code",
      "source": [
        "for itemColumns in list_datasets:\n",
        "  print(itemColumns.columns,'\\n')"
      ],
      "metadata": {
        "colab": {
          "base_uri": "https://localhost:8080/"
        },
        "id": "SgHCYEPmehzC",
        "outputId": "8e67df90-c896-4592-e62a-aaf277e21fe9"
      },
      "execution_count": 40,
      "outputs": [
        {
          "output_type": "stream",
          "name": "stdout",
          "text": [
            "Int64Index([ 0,  1,  2,  3,  4,  5,  6,  7,  8,  9, 10, 11, 12, 13, 14, 15, 16,\n",
            "            17, 18, 19, 20, 21, 22, 23, 24, 25, 26, 27, 28, 29, 30],\n",
            "           dtype='int64') \n",
            "\n",
            "Int64Index([0, 1, 2, 3, 4, 5, 6, 7, 8, 9, 10, 11], dtype='int64') \n",
            "\n",
            "Int64Index([ 0,  1,  2,  3,  4,  5,  6,  7,  8,  9, 10, 11, 12, 13, 14, 15, 16,\n",
            "            17, 18, 19, 20, 21, 22, 23, 24, 25, 26, 27, 28],\n",
            "           dtype='int64') \n",
            "\n",
            "Int64Index([0, 1, 2, 3, 4, 5, 6, 7, 8, 9], dtype='int64') \n",
            "\n"
          ]
        }
      ]
    },
    {
      "cell_type": "markdown",
      "source": [
        "**Vamos investigar os tipos de dados que há em cada coluna**"
      ],
      "metadata": {
        "id": "5uo04x65drKY"
      }
    },
    {
      "cell_type": "code",
      "source": [
        "for itemDtypes in list_datasets:\n",
        "  print(itemDtypes.dtypes,'\\n')"
      ],
      "metadata": {
        "colab": {
          "base_uri": "https://localhost:8080/"
        },
        "id": "hzKbmyKSdvyn",
        "outputId": "a55927cb-28f4-41e2-fb78-5e4cafc91bc5"
      },
      "execution_count": 41,
      "outputs": [
        {
          "output_type": "stream",
          "name": "stdout",
          "text": [
            "0     float64\n",
            "1     float64\n",
            "2     float64\n",
            "3     float64\n",
            "4     float64\n",
            "5     float64\n",
            "6     float64\n",
            "7     float64\n",
            "8     float64\n",
            "9     float64\n",
            "10    float64\n",
            "11    float64\n",
            "12    float64\n",
            "13    float64\n",
            "14    float64\n",
            "15    float64\n",
            "16    float64\n",
            "17    float64\n",
            "18    float64\n",
            "19    float64\n",
            "20    float64\n",
            "21    float64\n",
            "22    float64\n",
            "23    float64\n",
            "24    float64\n",
            "25    float64\n",
            "26    float64\n",
            "27    float64\n",
            "28    float64\n",
            "29    float64\n",
            "30    float64\n",
            "dtype: object \n",
            "\n",
            "0     float64\n",
            "1     float64\n",
            "2     float64\n",
            "3     float64\n",
            "4     float64\n",
            "5     float64\n",
            "6     float64\n",
            "7     float64\n",
            "8     float64\n",
            "9     float64\n",
            "10    float64\n",
            "11    float64\n",
            "dtype: object \n",
            "\n",
            "0     float64\n",
            "1     float64\n",
            "2     float64\n",
            "3     float64\n",
            "4     float64\n",
            "5     float64\n",
            "6     float64\n",
            "7     float64\n",
            "8     float64\n",
            "9     float64\n",
            "10    float64\n",
            "11    float64\n",
            "12     object\n",
            "13    float64\n",
            "14    float64\n",
            "15    float64\n",
            "16    float64\n",
            "17    float64\n",
            "18    float64\n",
            "19    float64\n",
            "20    float64\n",
            "21    float64\n",
            "22    float64\n",
            "23    float64\n",
            "24    float64\n",
            "25    float64\n",
            "26    float64\n",
            "27    float64\n",
            "28    float64\n",
            "dtype: object \n",
            "\n",
            "0    float64\n",
            "1    float64\n",
            "2    float64\n",
            "3    float64\n",
            "4    float64\n",
            "5    float64\n",
            "6    float64\n",
            "7    float64\n",
            "8    float64\n",
            "9    float64\n",
            "dtype: object \n",
            "\n"
          ]
        }
      ]
    },
    {
      "cell_type": "markdown",
      "source": [
        "Visualização rápida dos dados"
      ],
      "metadata": {
        "id": "Yfj1L6xgD5iv"
      }
    },
    {
      "cell_type": "code",
      "source": [
        "for itemHead in list_datasets:\n",
        "  print(itemHead.head(),'\\n')"
      ],
      "metadata": {
        "colab": {
          "base_uri": "https://localhost:8080/"
        },
        "id": "n06ikA28fJ2C",
        "outputId": "454b0b75-32f2-441c-c000-282819a69776"
      },
      "execution_count": 44,
      "outputs": [
        {
          "output_type": "stream",
          "name": "stdout",
          "text": [
            "       0    1     2     3     4    5    6    7    8    9   ...   21   22   23  \\\n",
            "0  2020.0  3.0  17.0  13.0  52.0  0.0  0.0  0.0  0.0  0.0  ...  0.0  0.0  0.0   \n",
            "1  2020.0  3.0  17.0  13.0  53.0  0.0  0.0  0.0  0.0  0.0  ...  0.0  0.0  0.0   \n",
            "2  2020.0  3.0  17.0  13.0  54.0  0.0  0.0  0.0  0.0  0.0  ...  0.0  0.0  0.0   \n",
            "3  2020.0  3.0  17.0  13.0  55.0  0.0  0.0  0.0  0.0  0.0  ...  0.0  0.0  0.0   \n",
            "4  2020.0  3.0  17.0  13.0  56.0  0.0  0.0  0.0  0.0  0.0  ...  0.0  0.0  0.0   \n",
            "\n",
            "    24   25   26   27   28   29   30  \n",
            "0  0.0  0.0  0.0  0.0  0.0  0.0  0.0  \n",
            "1  0.0  0.0  0.0  0.0  0.0  0.0  0.0  \n",
            "2  0.0  0.0  0.0  0.0  0.0  0.0  0.0  \n",
            "3  0.0  0.0  0.0  0.0  0.0  0.0  0.0  \n",
            "4  0.0  0.0  0.0  0.0  0.0  0.0  0.0  \n",
            "\n",
            "[5 rows x 31 columns] \n",
            "\n",
            "    0     1     2     3     4     5       6      7        8       9    10   11\n",
            "0  7.0  27.0  21.0  18.0  13.0  14.0  294.66  59.58  1007.91  300.24  0.0  1.0\n",
            "1  7.0  27.0  21.0  18.0  13.0  47.0  294.61  59.31  1008.01  300.23  0.0  1.0\n",
            "2  7.0  27.0  21.0  18.0  14.0  20.0  294.61  59.00  1007.91  300.08  0.0  1.0\n",
            "3  7.0  27.0  21.0  18.0  14.0  52.0  294.59  58.53  1008.01  300.39  0.0  1.0\n",
            "4  7.0  27.0  21.0  18.0  15.0  25.0  294.60  57.99  1008.01  300.22  0.0  1.0 \n",
            "\n",
            "    0     1     2     3     4     5        6        7        8        9   ...  \\\n",
            "0  7.0  27.0  21.0  18.0  13.0  43.0  299.553  298.792  299.311  299.058  ...   \n",
            "1  7.0  27.0  21.0  18.0  14.0  16.0  298.621  297.995  298.545  298.243  ...   \n",
            "2  7.0  27.0  21.0  18.0  14.0  49.0  298.661  298.165  298.656  298.803  ...   \n",
            "3  7.0  27.0  21.0  18.0  15.0  22.0  298.311  298.222  298.527  298.198  ...   \n",
            "4  7.0  27.0  21.0  18.0  15.0  54.0  298.477  298.240  298.745  298.681  ...   \n",
            "\n",
            "        19       20       21       22       23       24       25       26  \\\n",
            "0  300.183  300.143  299.012  299.483  299.548  299.959  299.148  299.191   \n",
            "1  300.666  300.709  300.292  300.012  299.761  299.947  300.099  300.532   \n",
            "2  300.163  299.355  299.336  299.576  299.548  300.128  300.154  300.136   \n",
            "3  299.725  299.342  299.012  300.198  299.698  299.540  298.886  299.406   \n",
            "4  299.777  299.608  300.736  300.437  299.300  299.938  299.248  300.069   \n",
            "\n",
            "        27   28  \n",
            "0  297.988  1.0  \n",
            "1  299.782  1.0  \n",
            "2  299.668  1.0  \n",
            "3  298.950  1.0  \n",
            "4  299.175  1.0  \n",
            "\n",
            "[5 rows x 29 columns] \n",
            "\n",
            "     0     1     2     3     4     5       6       7    8    9\n",
            "0  7.0  27.0  21.0  18.0  13.0  45.0  11.642  19.680  0.0  1.0\n",
            "1  7.0  27.0  21.0  18.0  14.0  18.0  11.523  19.684  0.2  1.0\n",
            "2  7.0  27.0  21.0  18.0  14.0  50.0  11.544  19.686  0.2  1.0\n",
            "3  7.0  27.0  21.0  18.0  15.0  23.0  11.459  19.733  0.0  1.0\n",
            "4  7.0  27.0  21.0  18.0  15.0  56.0  11.461  19.722  0.2  1.0 \n",
            "\n"
          ]
        }
      ]
    },
    {
      "cell_type": "markdown",
      "source": [
        "Como vimos, a colunas de dados não vieram com seus nomes. Vamos resolver isso adicionando nome das colunas dos dados do instrumento **rd80** executando a célula abaixo:"
      ],
      "metadata": {
        "id": "LSBJTX5vEC2A"
      }
    },
    {
      "cell_type": "code",
      "source": [
        "#Vamos adicionar os títulos das colunas:\n",
        "df_rd80_joss.columns = ['Ano', 'Mes', 'dia', 'H', 'M', 'S','Rain_Intensity', 'radar_reflectivity','Liquid_watercontent',\n",
        "'Mean_weight_diameter_mm', 'Time_integration', 'N(D)', 'N(D)', 'N(D)', 'N(D)', 'N(D)', 'N(D)', 'N(D)', 'N(D)', 'N(D)', 'N(D)', 'N(D)', 'N(D)', 'N(D)', 'N(D)', 'N(D)', 'N(D)', 'N(D)', 'N(D)', 'N(D)', 'N(D)']\n"
      ],
      "metadata": {
        "id": "-2l0Z-i3OsO7"
      },
      "execution_count": 45,
      "outputs": []
    },
    {
      "cell_type": "code",
      "source": [
        "#Modificanto o tipo de dado das colunas referentes a Data e Horário para Inteiro(int)\n",
        "df_rd80_joss[['Ano', 'Mes', 'dia', 'H', 'M', 'S']] = df_rd80_joss[['Ano', 'Mes', 'dia', 'H', 'M', 'S']].astype(int)"
      ],
      "metadata": {
        "id": "RCTnKH4LO_Rs"
      },
      "execution_count": 46,
      "outputs": []
    },
    {
      "cell_type": "markdown",
      "source": [
        "Vamos visualizar novamente os nossos dados, após definirmos o nome das colunas, de acordo com as suas especificidades:"
      ],
      "metadata": {
        "id": "Fjti0cEeEfro"
      }
    },
    {
      "cell_type": "code",
      "source": [
        "df_rd80_joss.head()"
      ],
      "metadata": {
        "colab": {
          "base_uri": "https://localhost:8080/",
          "height": 300
        },
        "id": "_dtslv8_iPuJ",
        "outputId": "7ba69f2c-6dab-4664-cd78-4fce69b108a8"
      },
      "execution_count": 47,
      "outputs": [
        {
          "output_type": "execute_result",
          "data": {
            "text/plain": [
              "    Ano  Mes  dia   H   M  S  Rain_Intensity  radar_reflectivity  \\\n",
              "0  2020    3   17  13  52  0             0.0                 0.0   \n",
              "1  2020    3   17  13  53  0             0.0                 0.0   \n",
              "2  2020    3   17  13  54  0             0.0                 0.0   \n",
              "3  2020    3   17  13  55  0             0.0                 0.0   \n",
              "4  2020    3   17  13  56  0             0.0                 0.0   \n",
              "\n",
              "   Liquid_watercontent  Mean_weight_diameter_mm  ...  N(D)  N(D)  N(D)  N(D)  \\\n",
              "0                  0.0                      0.0  ...   0.0   0.0   0.0   0.0   \n",
              "1                  0.0                      0.0  ...   0.0   0.0   0.0   0.0   \n",
              "2                  0.0                      0.0  ...   0.0   0.0   0.0   0.0   \n",
              "3                  0.0                      0.0  ...   0.0   0.0   0.0   0.0   \n",
              "4                  0.0                      0.0  ...   0.0   0.0   0.0   0.0   \n",
              "\n",
              "   N(D)  N(D)  N(D)  N(D)  N(D)  N(D)  \n",
              "0   0.0   0.0   0.0   0.0   0.0   0.0  \n",
              "1   0.0   0.0   0.0   0.0   0.0   0.0  \n",
              "2   0.0   0.0   0.0   0.0   0.0   0.0  \n",
              "3   0.0   0.0   0.0   0.0   0.0   0.0  \n",
              "4   0.0   0.0   0.0   0.0   0.0   0.0  \n",
              "\n",
              "[5 rows x 31 columns]"
            ],
            "text/html": [
              "\n",
              "  <div id=\"df-3a67afdf-4daa-411c-a012-06605fc54a23\">\n",
              "    <div class=\"colab-df-container\">\n",
              "      <div>\n",
              "<style scoped>\n",
              "    .dataframe tbody tr th:only-of-type {\n",
              "        vertical-align: middle;\n",
              "    }\n",
              "\n",
              "    .dataframe tbody tr th {\n",
              "        vertical-align: top;\n",
              "    }\n",
              "\n",
              "    .dataframe thead th {\n",
              "        text-align: right;\n",
              "    }\n",
              "</style>\n",
              "<table border=\"1\" class=\"dataframe\">\n",
              "  <thead>\n",
              "    <tr style=\"text-align: right;\">\n",
              "      <th></th>\n",
              "      <th>Ano</th>\n",
              "      <th>Mes</th>\n",
              "      <th>dia</th>\n",
              "      <th>H</th>\n",
              "      <th>M</th>\n",
              "      <th>S</th>\n",
              "      <th>Rain_Intensity</th>\n",
              "      <th>radar_reflectivity</th>\n",
              "      <th>Liquid_watercontent</th>\n",
              "      <th>Mean_weight_diameter_mm</th>\n",
              "      <th>...</th>\n",
              "      <th>N(D)</th>\n",
              "      <th>N(D)</th>\n",
              "      <th>N(D)</th>\n",
              "      <th>N(D)</th>\n",
              "      <th>N(D)</th>\n",
              "      <th>N(D)</th>\n",
              "      <th>N(D)</th>\n",
              "      <th>N(D)</th>\n",
              "      <th>N(D)</th>\n",
              "      <th>N(D)</th>\n",
              "    </tr>\n",
              "  </thead>\n",
              "  <tbody>\n",
              "    <tr>\n",
              "      <th>0</th>\n",
              "      <td>2020</td>\n",
              "      <td>3</td>\n",
              "      <td>17</td>\n",
              "      <td>13</td>\n",
              "      <td>52</td>\n",
              "      <td>0</td>\n",
              "      <td>0.0</td>\n",
              "      <td>0.0</td>\n",
              "      <td>0.0</td>\n",
              "      <td>0.0</td>\n",
              "      <td>...</td>\n",
              "      <td>0.0</td>\n",
              "      <td>0.0</td>\n",
              "      <td>0.0</td>\n",
              "      <td>0.0</td>\n",
              "      <td>0.0</td>\n",
              "      <td>0.0</td>\n",
              "      <td>0.0</td>\n",
              "      <td>0.0</td>\n",
              "      <td>0.0</td>\n",
              "      <td>0.0</td>\n",
              "    </tr>\n",
              "    <tr>\n",
              "      <th>1</th>\n",
              "      <td>2020</td>\n",
              "      <td>3</td>\n",
              "      <td>17</td>\n",
              "      <td>13</td>\n",
              "      <td>53</td>\n",
              "      <td>0</td>\n",
              "      <td>0.0</td>\n",
              "      <td>0.0</td>\n",
              "      <td>0.0</td>\n",
              "      <td>0.0</td>\n",
              "      <td>...</td>\n",
              "      <td>0.0</td>\n",
              "      <td>0.0</td>\n",
              "      <td>0.0</td>\n",
              "      <td>0.0</td>\n",
              "      <td>0.0</td>\n",
              "      <td>0.0</td>\n",
              "      <td>0.0</td>\n",
              "      <td>0.0</td>\n",
              "      <td>0.0</td>\n",
              "      <td>0.0</td>\n",
              "    </tr>\n",
              "    <tr>\n",
              "      <th>2</th>\n",
              "      <td>2020</td>\n",
              "      <td>3</td>\n",
              "      <td>17</td>\n",
              "      <td>13</td>\n",
              "      <td>54</td>\n",
              "      <td>0</td>\n",
              "      <td>0.0</td>\n",
              "      <td>0.0</td>\n",
              "      <td>0.0</td>\n",
              "      <td>0.0</td>\n",
              "      <td>...</td>\n",
              "      <td>0.0</td>\n",
              "      <td>0.0</td>\n",
              "      <td>0.0</td>\n",
              "      <td>0.0</td>\n",
              "      <td>0.0</td>\n",
              "      <td>0.0</td>\n",
              "      <td>0.0</td>\n",
              "      <td>0.0</td>\n",
              "      <td>0.0</td>\n",
              "      <td>0.0</td>\n",
              "    </tr>\n",
              "    <tr>\n",
              "      <th>3</th>\n",
              "      <td>2020</td>\n",
              "      <td>3</td>\n",
              "      <td>17</td>\n",
              "      <td>13</td>\n",
              "      <td>55</td>\n",
              "      <td>0</td>\n",
              "      <td>0.0</td>\n",
              "      <td>0.0</td>\n",
              "      <td>0.0</td>\n",
              "      <td>0.0</td>\n",
              "      <td>...</td>\n",
              "      <td>0.0</td>\n",
              "      <td>0.0</td>\n",
              "      <td>0.0</td>\n",
              "      <td>0.0</td>\n",
              "      <td>0.0</td>\n",
              "      <td>0.0</td>\n",
              "      <td>0.0</td>\n",
              "      <td>0.0</td>\n",
              "      <td>0.0</td>\n",
              "      <td>0.0</td>\n",
              "    </tr>\n",
              "    <tr>\n",
              "      <th>4</th>\n",
              "      <td>2020</td>\n",
              "      <td>3</td>\n",
              "      <td>17</td>\n",
              "      <td>13</td>\n",
              "      <td>56</td>\n",
              "      <td>0</td>\n",
              "      <td>0.0</td>\n",
              "      <td>0.0</td>\n",
              "      <td>0.0</td>\n",
              "      <td>0.0</td>\n",
              "      <td>...</td>\n",
              "      <td>0.0</td>\n",
              "      <td>0.0</td>\n",
              "      <td>0.0</td>\n",
              "      <td>0.0</td>\n",
              "      <td>0.0</td>\n",
              "      <td>0.0</td>\n",
              "      <td>0.0</td>\n",
              "      <td>0.0</td>\n",
              "      <td>0.0</td>\n",
              "      <td>0.0</td>\n",
              "    </tr>\n",
              "  </tbody>\n",
              "</table>\n",
              "<p>5 rows × 31 columns</p>\n",
              "</div>\n",
              "      <button class=\"colab-df-convert\" onclick=\"convertToInteractive('df-3a67afdf-4daa-411c-a012-06605fc54a23')\"\n",
              "              title=\"Convert this dataframe to an interactive table.\"\n",
              "              style=\"display:none;\">\n",
              "        \n",
              "  <svg xmlns=\"http://www.w3.org/2000/svg\" height=\"24px\"viewBox=\"0 0 24 24\"\n",
              "       width=\"24px\">\n",
              "    <path d=\"M0 0h24v24H0V0z\" fill=\"none\"/>\n",
              "    <path d=\"M18.56 5.44l.94 2.06.94-2.06 2.06-.94-2.06-.94-.94-2.06-.94 2.06-2.06.94zm-11 1L8.5 8.5l.94-2.06 2.06-.94-2.06-.94L8.5 2.5l-.94 2.06-2.06.94zm10 10l.94 2.06.94-2.06 2.06-.94-2.06-.94-.94-2.06-.94 2.06-2.06.94z\"/><path d=\"M17.41 7.96l-1.37-1.37c-.4-.4-.92-.59-1.43-.59-.52 0-1.04.2-1.43.59L10.3 9.45l-7.72 7.72c-.78.78-.78 2.05 0 2.83L4 21.41c.39.39.9.59 1.41.59.51 0 1.02-.2 1.41-.59l7.78-7.78 2.81-2.81c.8-.78.8-2.07 0-2.86zM5.41 20L4 18.59l7.72-7.72 1.47 1.35L5.41 20z\"/>\n",
              "  </svg>\n",
              "      </button>\n",
              "      \n",
              "  <style>\n",
              "    .colab-df-container {\n",
              "      display:flex;\n",
              "      flex-wrap:wrap;\n",
              "      gap: 12px;\n",
              "    }\n",
              "\n",
              "    .colab-df-convert {\n",
              "      background-color: #E8F0FE;\n",
              "      border: none;\n",
              "      border-radius: 50%;\n",
              "      cursor: pointer;\n",
              "      display: none;\n",
              "      fill: #1967D2;\n",
              "      height: 32px;\n",
              "      padding: 0 0 0 0;\n",
              "      width: 32px;\n",
              "    }\n",
              "\n",
              "    .colab-df-convert:hover {\n",
              "      background-color: #E2EBFA;\n",
              "      box-shadow: 0px 1px 2px rgba(60, 64, 67, 0.3), 0px 1px 3px 1px rgba(60, 64, 67, 0.15);\n",
              "      fill: #174EA6;\n",
              "    }\n",
              "\n",
              "    [theme=dark] .colab-df-convert {\n",
              "      background-color: #3B4455;\n",
              "      fill: #D2E3FC;\n",
              "    }\n",
              "\n",
              "    [theme=dark] .colab-df-convert:hover {\n",
              "      background-color: #434B5C;\n",
              "      box-shadow: 0px 1px 3px 1px rgba(0, 0, 0, 0.15);\n",
              "      filter: drop-shadow(0px 1px 2px rgba(0, 0, 0, 0.3));\n",
              "      fill: #FFFFFF;\n",
              "    }\n",
              "  </style>\n",
              "\n",
              "      <script>\n",
              "        const buttonEl =\n",
              "          document.querySelector('#df-3a67afdf-4daa-411c-a012-06605fc54a23 button.colab-df-convert');\n",
              "        buttonEl.style.display =\n",
              "          google.colab.kernel.accessAllowed ? 'block' : 'none';\n",
              "\n",
              "        async function convertToInteractive(key) {\n",
              "          const element = document.querySelector('#df-3a67afdf-4daa-411c-a012-06605fc54a23');\n",
              "          const dataTable =\n",
              "            await google.colab.kernel.invokeFunction('convertToInteractive',\n",
              "                                                     [key], {});\n",
              "          if (!dataTable) return;\n",
              "\n",
              "          const docLinkHtml = 'Like what you see? Visit the ' +\n",
              "            '<a target=\"_blank\" href=https://colab.research.google.com/notebooks/data_table.ipynb>data table notebook</a>'\n",
              "            + ' to learn more about interactive tables.';\n",
              "          element.innerHTML = '';\n",
              "          dataTable['output_type'] = 'display_data';\n",
              "          await google.colab.output.renderOutput(dataTable, element);\n",
              "          const docLink = document.createElement('div');\n",
              "          docLink.innerHTML = docLinkHtml;\n",
              "          element.appendChild(docLink);\n",
              "        }\n",
              "      </script>\n",
              "    </div>\n",
              "  </div>\n",
              "  "
            ]
          },
          "metadata": {},
          "execution_count": 47
        }
      ]
    },
    {
      "cell_type": "markdown",
      "source": [
        "Pelo que podemos ver, nos dados do **rd80** temos muitas variáveis e os dados referente a data e hora não estão organizados numa mesma coluna. Sendo assim, na célula abaixo iremos remover as colunas que não são do nosso interesse para a análise no momento e também vamos organizar os dados de data e hora numa única coluna (Datetime) e definir o índice. "
      ],
      "metadata": {
        "id": "_KBGNb-RZ-Pb"
      }
    },
    {
      "cell_type": "code",
      "source": [
        "df_rd80_joss['Datetime'] = df_rd80_joss[['dia','Mes','Ano', 'H', 'M', 'S']].apply(lambda row:\n",
        "                    datetime.datetime(year=row['Ano'], month=row['Mes'],day=row['dia'], hour=row['H'], minute=row[\"M\"], second=row[\"S\"]),axis=1)\n",
        "\n",
        "df_rd80_joss = df_rd80_joss.drop(columns=['Ano', 'Mes', 'dia', 'H', 'M', 'S','N(D)', 'N(D)', 'N(D)', 'N(D)', 'N(D)', 'N(D)', 'N(D)', 'N(D)', 'N(D)', 'N(D)', 'N(D)', 'N(D)', 'N(D)', 'N(D)', 'N(D)', 'N(D)', 'N(D)', 'N(D)', 'N(D)', 'N(D)'])\n",
        "df_rd80_joss = df_rd80_joss.set_index('Datetime')\n",
        "df_rd80_joss.sort_values('Datetime',ascending=True,inplace=True)\n",
        "df_rd80_joss.head()"
      ],
      "metadata": {
        "colab": {
          "base_uri": "https://localhost:8080/",
          "height": 238
        },
        "id": "3DYt6qT2UTNS",
        "outputId": "ee4e7343-7277-4110-9f7a-aecbf7c38232"
      },
      "execution_count": 48,
      "outputs": [
        {
          "output_type": "execute_result",
          "data": {
            "text/plain": [
              "                     Rain_Intensity  radar_reflectivity  Liquid_watercontent  \\\n",
              "Datetime                                                                       \n",
              "2020-03-17 13:52:00             0.0                 0.0                  0.0   \n",
              "2020-03-17 13:53:00             0.0                 0.0                  0.0   \n",
              "2020-03-17 13:54:00             0.0                 0.0                  0.0   \n",
              "2020-03-17 13:55:00             0.0                 0.0                  0.0   \n",
              "2020-03-17 13:56:00             0.0                 0.0                  0.0   \n",
              "\n",
              "                     Mean_weight_diameter_mm  Time_integration  \n",
              "Datetime                                                        \n",
              "2020-03-17 13:52:00                      0.0              60.0  \n",
              "2020-03-17 13:53:00                      0.0              60.0  \n",
              "2020-03-17 13:54:00                      0.0              60.0  \n",
              "2020-03-17 13:55:00                      0.0              60.0  \n",
              "2020-03-17 13:56:00                      0.0              60.0  "
            ],
            "text/html": [
              "\n",
              "  <div id=\"df-3ca14e5f-6886-4ada-a919-e8f071c72ba1\">\n",
              "    <div class=\"colab-df-container\">\n",
              "      <div>\n",
              "<style scoped>\n",
              "    .dataframe tbody tr th:only-of-type {\n",
              "        vertical-align: middle;\n",
              "    }\n",
              "\n",
              "    .dataframe tbody tr th {\n",
              "        vertical-align: top;\n",
              "    }\n",
              "\n",
              "    .dataframe thead th {\n",
              "        text-align: right;\n",
              "    }\n",
              "</style>\n",
              "<table border=\"1\" class=\"dataframe\">\n",
              "  <thead>\n",
              "    <tr style=\"text-align: right;\">\n",
              "      <th></th>\n",
              "      <th>Rain_Intensity</th>\n",
              "      <th>radar_reflectivity</th>\n",
              "      <th>Liquid_watercontent</th>\n",
              "      <th>Mean_weight_diameter_mm</th>\n",
              "      <th>Time_integration</th>\n",
              "    </tr>\n",
              "    <tr>\n",
              "      <th>Datetime</th>\n",
              "      <th></th>\n",
              "      <th></th>\n",
              "      <th></th>\n",
              "      <th></th>\n",
              "      <th></th>\n",
              "    </tr>\n",
              "  </thead>\n",
              "  <tbody>\n",
              "    <tr>\n",
              "      <th>2020-03-17 13:52:00</th>\n",
              "      <td>0.0</td>\n",
              "      <td>0.0</td>\n",
              "      <td>0.0</td>\n",
              "      <td>0.0</td>\n",
              "      <td>60.0</td>\n",
              "    </tr>\n",
              "    <tr>\n",
              "      <th>2020-03-17 13:53:00</th>\n",
              "      <td>0.0</td>\n",
              "      <td>0.0</td>\n",
              "      <td>0.0</td>\n",
              "      <td>0.0</td>\n",
              "      <td>60.0</td>\n",
              "    </tr>\n",
              "    <tr>\n",
              "      <th>2020-03-17 13:54:00</th>\n",
              "      <td>0.0</td>\n",
              "      <td>0.0</td>\n",
              "      <td>0.0</td>\n",
              "      <td>0.0</td>\n",
              "      <td>60.0</td>\n",
              "    </tr>\n",
              "    <tr>\n",
              "      <th>2020-03-17 13:55:00</th>\n",
              "      <td>0.0</td>\n",
              "      <td>0.0</td>\n",
              "      <td>0.0</td>\n",
              "      <td>0.0</td>\n",
              "      <td>60.0</td>\n",
              "    </tr>\n",
              "    <tr>\n",
              "      <th>2020-03-17 13:56:00</th>\n",
              "      <td>0.0</td>\n",
              "      <td>0.0</td>\n",
              "      <td>0.0</td>\n",
              "      <td>0.0</td>\n",
              "      <td>60.0</td>\n",
              "    </tr>\n",
              "  </tbody>\n",
              "</table>\n",
              "</div>\n",
              "      <button class=\"colab-df-convert\" onclick=\"convertToInteractive('df-3ca14e5f-6886-4ada-a919-e8f071c72ba1')\"\n",
              "              title=\"Convert this dataframe to an interactive table.\"\n",
              "              style=\"display:none;\">\n",
              "        \n",
              "  <svg xmlns=\"http://www.w3.org/2000/svg\" height=\"24px\"viewBox=\"0 0 24 24\"\n",
              "       width=\"24px\">\n",
              "    <path d=\"M0 0h24v24H0V0z\" fill=\"none\"/>\n",
              "    <path d=\"M18.56 5.44l.94 2.06.94-2.06 2.06-.94-2.06-.94-.94-2.06-.94 2.06-2.06.94zm-11 1L8.5 8.5l.94-2.06 2.06-.94-2.06-.94L8.5 2.5l-.94 2.06-2.06.94zm10 10l.94 2.06.94-2.06 2.06-.94-2.06-.94-.94-2.06-.94 2.06-2.06.94z\"/><path d=\"M17.41 7.96l-1.37-1.37c-.4-.4-.92-.59-1.43-.59-.52 0-1.04.2-1.43.59L10.3 9.45l-7.72 7.72c-.78.78-.78 2.05 0 2.83L4 21.41c.39.39.9.59 1.41.59.51 0 1.02-.2 1.41-.59l7.78-7.78 2.81-2.81c.8-.78.8-2.07 0-2.86zM5.41 20L4 18.59l7.72-7.72 1.47 1.35L5.41 20z\"/>\n",
              "  </svg>\n",
              "      </button>\n",
              "      \n",
              "  <style>\n",
              "    .colab-df-container {\n",
              "      display:flex;\n",
              "      flex-wrap:wrap;\n",
              "      gap: 12px;\n",
              "    }\n",
              "\n",
              "    .colab-df-convert {\n",
              "      background-color: #E8F0FE;\n",
              "      border: none;\n",
              "      border-radius: 50%;\n",
              "      cursor: pointer;\n",
              "      display: none;\n",
              "      fill: #1967D2;\n",
              "      height: 32px;\n",
              "      padding: 0 0 0 0;\n",
              "      width: 32px;\n",
              "    }\n",
              "\n",
              "    .colab-df-convert:hover {\n",
              "      background-color: #E2EBFA;\n",
              "      box-shadow: 0px 1px 2px rgba(60, 64, 67, 0.3), 0px 1px 3px 1px rgba(60, 64, 67, 0.15);\n",
              "      fill: #174EA6;\n",
              "    }\n",
              "\n",
              "    [theme=dark] .colab-df-convert {\n",
              "      background-color: #3B4455;\n",
              "      fill: #D2E3FC;\n",
              "    }\n",
              "\n",
              "    [theme=dark] .colab-df-convert:hover {\n",
              "      background-color: #434B5C;\n",
              "      box-shadow: 0px 1px 3px 1px rgba(0, 0, 0, 0.15);\n",
              "      filter: drop-shadow(0px 1px 2px rgba(0, 0, 0, 0.3));\n",
              "      fill: #FFFFFF;\n",
              "    }\n",
              "  </style>\n",
              "\n",
              "      <script>\n",
              "        const buttonEl =\n",
              "          document.querySelector('#df-3ca14e5f-6886-4ada-a919-e8f071c72ba1 button.colab-df-convert');\n",
              "        buttonEl.style.display =\n",
              "          google.colab.kernel.accessAllowed ? 'block' : 'none';\n",
              "\n",
              "        async function convertToInteractive(key) {\n",
              "          const element = document.querySelector('#df-3ca14e5f-6886-4ada-a919-e8f071c72ba1');\n",
              "          const dataTable =\n",
              "            await google.colab.kernel.invokeFunction('convertToInteractive',\n",
              "                                                     [key], {});\n",
              "          if (!dataTable) return;\n",
              "\n",
              "          const docLinkHtml = 'Like what you see? Visit the ' +\n",
              "            '<a target=\"_blank\" href=https://colab.research.google.com/notebooks/data_table.ipynb>data table notebook</a>'\n",
              "            + ' to learn more about interactive tables.';\n",
              "          element.innerHTML = '';\n",
              "          dataTable['output_type'] = 'display_data';\n",
              "          await google.colab.output.renderOutput(dataTable, element);\n",
              "          const docLink = document.createElement('div');\n",
              "          docLink.innerHTML = docLinkHtml;\n",
              "          element.appendChild(docLink);\n",
              "        }\n",
              "      </script>\n",
              "    </div>\n",
              "  </div>\n",
              "  "
            ]
          },
          "metadata": {},
          "execution_count": 48
        }
      ]
    },
    {
      "cell_type": "markdown",
      "source": [
        "Para nossa análise, vamos realizar uma normalização no Dataset do **RD80**. Faremos a substituição dos valores da variável **Rain_Intensity (mm/h)**, que forem menores que 0.1, por 0(zero)."
      ],
      "metadata": {
        "id": "DIKfXFR4cCaJ"
      }
    },
    {
      "cell_type": "code",
      "source": [
        "df_rd80_joss['Rain_Intensity'][df_rd80_joss['Rain_Intensity'] < 0.1] = 0"
      ],
      "metadata": {
        "id": "Jsqf8diZMPnj"
      },
      "execution_count": 49,
      "outputs": []
    },
    {
      "cell_type": "markdown",
      "source": [
        "Visualização das estatísticas descritivas"
      ],
      "metadata": {
        "id": "WPxw7ftHdKlZ"
      }
    },
    {
      "cell_type": "code",
      "source": [
        "#Visualização das estatísticas descritivas\n",
        "df_rd80_joss.describe()"
      ],
      "metadata": {
        "colab": {
          "base_uri": "https://localhost:8080/",
          "height": 300
        },
        "id": "bp3ACD8LdVyD",
        "outputId": "6ff39647-1d81-410b-991c-0c4d188d716e"
      },
      "execution_count": 50,
      "outputs": [
        {
          "output_type": "execute_result",
          "data": {
            "text/plain": [
              "       Rain_Intensity  radar_reflectivity  Liquid_watercontent  \\\n",
              "count   315420.000000       315420.000000        315420.000000   \n",
              "mean         0.372430          309.362454             0.018214   \n",
              "std          3.418582         4704.699349             0.147274   \n",
              "min          0.000000            0.000000             0.000000   \n",
              "25%          0.000000            0.000000             0.000000   \n",
              "50%          0.000000            0.000000             0.000000   \n",
              "75%          0.000000            0.000000             0.000000   \n",
              "max        128.895370       550486.250000             4.893830   \n",
              "\n",
              "       Mean_weight_diameter_mm  Time_integration  \n",
              "count            315420.000000          315420.0  \n",
              "mean                  0.114891              60.0  \n",
              "std                   0.356634               0.0  \n",
              "min                   0.000000              60.0  \n",
              "25%                   0.000000              60.0  \n",
              "50%                   0.000000              60.0  \n",
              "75%                   0.000000              60.0  \n",
              "max                   5.361310              60.0  "
            ],
            "text/html": [
              "\n",
              "  <div id=\"df-83620454-3d18-48e3-868f-f0dde691a1c9\">\n",
              "    <div class=\"colab-df-container\">\n",
              "      <div>\n",
              "<style scoped>\n",
              "    .dataframe tbody tr th:only-of-type {\n",
              "        vertical-align: middle;\n",
              "    }\n",
              "\n",
              "    .dataframe tbody tr th {\n",
              "        vertical-align: top;\n",
              "    }\n",
              "\n",
              "    .dataframe thead th {\n",
              "        text-align: right;\n",
              "    }\n",
              "</style>\n",
              "<table border=\"1\" class=\"dataframe\">\n",
              "  <thead>\n",
              "    <tr style=\"text-align: right;\">\n",
              "      <th></th>\n",
              "      <th>Rain_Intensity</th>\n",
              "      <th>radar_reflectivity</th>\n",
              "      <th>Liquid_watercontent</th>\n",
              "      <th>Mean_weight_diameter_mm</th>\n",
              "      <th>Time_integration</th>\n",
              "    </tr>\n",
              "  </thead>\n",
              "  <tbody>\n",
              "    <tr>\n",
              "      <th>count</th>\n",
              "      <td>315420.000000</td>\n",
              "      <td>315420.000000</td>\n",
              "      <td>315420.000000</td>\n",
              "      <td>315420.000000</td>\n",
              "      <td>315420.0</td>\n",
              "    </tr>\n",
              "    <tr>\n",
              "      <th>mean</th>\n",
              "      <td>0.372430</td>\n",
              "      <td>309.362454</td>\n",
              "      <td>0.018214</td>\n",
              "      <td>0.114891</td>\n",
              "      <td>60.0</td>\n",
              "    </tr>\n",
              "    <tr>\n",
              "      <th>std</th>\n",
              "      <td>3.418582</td>\n",
              "      <td>4704.699349</td>\n",
              "      <td>0.147274</td>\n",
              "      <td>0.356634</td>\n",
              "      <td>0.0</td>\n",
              "    </tr>\n",
              "    <tr>\n",
              "      <th>min</th>\n",
              "      <td>0.000000</td>\n",
              "      <td>0.000000</td>\n",
              "      <td>0.000000</td>\n",
              "      <td>0.000000</td>\n",
              "      <td>60.0</td>\n",
              "    </tr>\n",
              "    <tr>\n",
              "      <th>25%</th>\n",
              "      <td>0.000000</td>\n",
              "      <td>0.000000</td>\n",
              "      <td>0.000000</td>\n",
              "      <td>0.000000</td>\n",
              "      <td>60.0</td>\n",
              "    </tr>\n",
              "    <tr>\n",
              "      <th>50%</th>\n",
              "      <td>0.000000</td>\n",
              "      <td>0.000000</td>\n",
              "      <td>0.000000</td>\n",
              "      <td>0.000000</td>\n",
              "      <td>60.0</td>\n",
              "    </tr>\n",
              "    <tr>\n",
              "      <th>75%</th>\n",
              "      <td>0.000000</td>\n",
              "      <td>0.000000</td>\n",
              "      <td>0.000000</td>\n",
              "      <td>0.000000</td>\n",
              "      <td>60.0</td>\n",
              "    </tr>\n",
              "    <tr>\n",
              "      <th>max</th>\n",
              "      <td>128.895370</td>\n",
              "      <td>550486.250000</td>\n",
              "      <td>4.893830</td>\n",
              "      <td>5.361310</td>\n",
              "      <td>60.0</td>\n",
              "    </tr>\n",
              "  </tbody>\n",
              "</table>\n",
              "</div>\n",
              "      <button class=\"colab-df-convert\" onclick=\"convertToInteractive('df-83620454-3d18-48e3-868f-f0dde691a1c9')\"\n",
              "              title=\"Convert this dataframe to an interactive table.\"\n",
              "              style=\"display:none;\">\n",
              "        \n",
              "  <svg xmlns=\"http://www.w3.org/2000/svg\" height=\"24px\"viewBox=\"0 0 24 24\"\n",
              "       width=\"24px\">\n",
              "    <path d=\"M0 0h24v24H0V0z\" fill=\"none\"/>\n",
              "    <path d=\"M18.56 5.44l.94 2.06.94-2.06 2.06-.94-2.06-.94-.94-2.06-.94 2.06-2.06.94zm-11 1L8.5 8.5l.94-2.06 2.06-.94-2.06-.94L8.5 2.5l-.94 2.06-2.06.94zm10 10l.94 2.06.94-2.06 2.06-.94-2.06-.94-.94-2.06-.94 2.06-2.06.94z\"/><path d=\"M17.41 7.96l-1.37-1.37c-.4-.4-.92-.59-1.43-.59-.52 0-1.04.2-1.43.59L10.3 9.45l-7.72 7.72c-.78.78-.78 2.05 0 2.83L4 21.41c.39.39.9.59 1.41.59.51 0 1.02-.2 1.41-.59l7.78-7.78 2.81-2.81c.8-.78.8-2.07 0-2.86zM5.41 20L4 18.59l7.72-7.72 1.47 1.35L5.41 20z\"/>\n",
              "  </svg>\n",
              "      </button>\n",
              "      \n",
              "  <style>\n",
              "    .colab-df-container {\n",
              "      display:flex;\n",
              "      flex-wrap:wrap;\n",
              "      gap: 12px;\n",
              "    }\n",
              "\n",
              "    .colab-df-convert {\n",
              "      background-color: #E8F0FE;\n",
              "      border: none;\n",
              "      border-radius: 50%;\n",
              "      cursor: pointer;\n",
              "      display: none;\n",
              "      fill: #1967D2;\n",
              "      height: 32px;\n",
              "      padding: 0 0 0 0;\n",
              "      width: 32px;\n",
              "    }\n",
              "\n",
              "    .colab-df-convert:hover {\n",
              "      background-color: #E2EBFA;\n",
              "      box-shadow: 0px 1px 2px rgba(60, 64, 67, 0.3), 0px 1px 3px 1px rgba(60, 64, 67, 0.15);\n",
              "      fill: #174EA6;\n",
              "    }\n",
              "\n",
              "    [theme=dark] .colab-df-convert {\n",
              "      background-color: #3B4455;\n",
              "      fill: #D2E3FC;\n",
              "    }\n",
              "\n",
              "    [theme=dark] .colab-df-convert:hover {\n",
              "      background-color: #434B5C;\n",
              "      box-shadow: 0px 1px 3px 1px rgba(0, 0, 0, 0.15);\n",
              "      filter: drop-shadow(0px 1px 2px rgba(0, 0, 0, 0.3));\n",
              "      fill: #FFFFFF;\n",
              "    }\n",
              "  </style>\n",
              "\n",
              "      <script>\n",
              "        const buttonEl =\n",
              "          document.querySelector('#df-83620454-3d18-48e3-868f-f0dde691a1c9 button.colab-df-convert');\n",
              "        buttonEl.style.display =\n",
              "          google.colab.kernel.accessAllowed ? 'block' : 'none';\n",
              "\n",
              "        async function convertToInteractive(key) {\n",
              "          const element = document.querySelector('#df-83620454-3d18-48e3-868f-f0dde691a1c9');\n",
              "          const dataTable =\n",
              "            await google.colab.kernel.invokeFunction('convertToInteractive',\n",
              "                                                     [key], {});\n",
              "          if (!dataTable) return;\n",
              "\n",
              "          const docLinkHtml = 'Like what you see? Visit the ' +\n",
              "            '<a target=\"_blank\" href=https://colab.research.google.com/notebooks/data_table.ipynb>data table notebook</a>'\n",
              "            + ' to learn more about interactive tables.';\n",
              "          element.innerHTML = '';\n",
              "          dataTable['output_type'] = 'display_data';\n",
              "          await google.colab.output.renderOutput(dataTable, element);\n",
              "          const docLink = document.createElement('div');\n",
              "          docLink.innerHTML = docLinkHtml;\n",
              "          element.appendChild(docLink);\n",
              "        }\n",
              "      </script>\n",
              "    </div>\n",
              "  </div>\n",
              "  "
            ]
          },
          "metadata": {},
          "execution_count": 50
        }
      ]
    },
    {
      "cell_type": "code",
      "source": [
        "#Exportando o Dataframe para o formato CSV\n",
        "df_rd80_joss.to_csv('/content/drive/MyDrive/MestradoCAP/Lourenco/cap351/Datasets/df_final_rd80_joss.csv')"
      ],
      "metadata": {
        "id": "YoI3z8BU9CVi"
      },
      "execution_count": 52,
      "outputs": []
    },
    {
      "cell_type": "markdown",
      "source": [
        "# **Algumas análises**\n",
        "\n"
      ],
      "metadata": {
        "id": "CPSisBHdFNlx"
      }
    },
    {
      "cell_type": "markdown",
      "source": [
        "Na célula abaixo iremos plotar a correlação entre as variáveis do **rd80**:"
      ],
      "metadata": {
        "id": "gODABQ-cgY7i"
      }
    },
    {
      "cell_type": "code",
      "source": [
        "sns.set(style='whitegrid')"
      ],
      "metadata": {
        "id": "wysmg8f0lypJ"
      },
      "execution_count": 66,
      "outputs": []
    },
    {
      "cell_type": "code",
      "source": [
        "corr = df_rd80_joss.corr()\n",
        "plt.figure(figsize=(10, 10))\n",
        "sns.heatmap(corr[(corr >= 0.30) | (corr <= -0.30)],cmap='viridis', vmax=1.0, vmin=-1.0, linewidths=0.1, annot=True, annot_kws={\"size\": 14}, square=True);"
      ],
      "metadata": {
        "id": "v9pz9gxXfHl8",
        "colab": {
          "base_uri": "https://localhost:8080/",
          "height": 695
        },
        "outputId": "13253b8c-7109-4278-d550-d33470b2fce1"
      },
      "execution_count": 67,
      "outputs": [
        {
          "output_type": "display_data",
          "data": {
            "text/plain": [
              "<Figure size 720x720 with 2 Axes>"
            ],
            "image/png": "[encoded data removed]"
          },
          "metadata": {}
        }
      ]
    },
    {
      "cell_type": "markdown",
      "source": [
        "Rain Intensity (mm/h) X Mean weight diameter(mm)"
      ],
      "metadata": {
        "id": "VcMym0_LgfDc"
      }
    },
    {
      "cell_type": "code",
      "source": [
        "plt.figure(figsize=(15, 8))\n",
        "plt.scatter(df_rd80_joss.Rain_Intensity, df_rd80_joss.Mean_weight_diameter_mm)\n",
        "plt.title(\"Interação entre Intensidade da chuva e Diâmetro do peso médio\", size=15)\n",
        "plt.xlabel('Intensidade da chuva (Rain_Intensity)')\n",
        "plt.ylabel('Diâmetro do peso médio (Mean_weight_diameter_mm)')\n",
        "plt.show()"
      ],
      "metadata": {
        "colab": {
          "base_uri": "https://localhost:8080/",
          "height": 521
        },
        "id": "QyBeqPkFhhDf",
        "outputId": "400f0924-c669-46e9-9eab-6befc34b0e9a"
      },
      "execution_count": 68,
      "outputs": [
        {
          "output_type": "display_data",
          "data": {
            "text/plain": [
              "<Figure size 1080x576 with 1 Axes>"
            ],
            "image/png": "[encoded data removed]"
          },
          "metadata": {}
        }
      ]
    },
    {
      "cell_type": "code",
      "source": [
        "df_rd80_joss.isna().sum()"
      ],
      "metadata": {
        "id": "T1gMpwTN4S7O",
        "colab": {
          "base_uri": "https://localhost:8080/"
        },
        "outputId": "ae10006f-4575-4088-d9d6-33b96359e191"
      },
      "execution_count": 70,
      "outputs": [
        {
          "output_type": "execute_result",
          "data": {
            "text/plain": [
              "Rain_Intensity             0\n",
              "radar_reflectivity         0\n",
              "Liquid_watercontent        0\n",
              "Mean_weight_diameter_mm    0\n",
              "Time_integration           0\n",
              "dtype: int64"
            ]
          },
          "metadata": {},
          "execution_count": 70
        }
      ]
    },
    {
      "cell_type": "code",
      "source": [
        "df_rd80_joss.dropna(inplace=True)\n",
        "df_rd80_joss.reset_index(inplace=True, drop=True)"
      ],
      "metadata": {
        "id": "Pi3jj700efOk"
      },
      "execution_count": 71,
      "outputs": []
    },
    {
      "cell_type": "markdown",
      "source": [
        "# **References**\n",
        "\n",
        "ROSE, T.; CREWELL, S.; LÖHNERT, U.; SIMMER, C. A network suitable microwave radiometer for operational monitoring of the cloudy atmosphere, Atmos. Res., 75, 183–200, 2005.\n",
        "\n",
        "Tukey, John (1977). Exploratory Data Analysis. Addison-Wesley Publishing Company."
      ],
      "metadata": {
        "id": "HiSM5MhRw0Qj"
      }
    }
  ]
}