{
  "nbformat": 4,
  "nbformat_minor": 0,
  "metadata": {
    "colab": {
      "name": "INPE_CAP394_2022_Atv01_Lourenco.ipynb",
      "provenance": [],
      "collapsed_sections": [],
      "machine_shape": "hm"
    },
    "kernelspec": {
      "name": "python3",
      "display_name": "Python 3"
    },
    "language_info": {
      "name": "python"
    },
    "accelerator": "GPU",
    "gpuClass": "standard"
  },
  "cells": [
    {
      "cell_type": "markdown",
      "source": [
        ""
      ],
      "metadata": {
        "id": "j4hUnCKmmHCu"
      }
    },
    {
      "cell_type": "markdown",
      "source": [
        "[<img src=\"https://github.com/lourencocavalcante/LogosINPE/blob/main/logoinpe.png?raw=true\" width = 500 align=\"left\">](https://www.gov.br/inpe/pt-br)\n",
        "\n",
        "[<img src=\"https://github.com/lourencocavalcante/LogosINPE/blob/main/LogoCAP.png?raw=true\" width = 300 align=\"right\">](http://www.inpe.br/posgraduacao/cap/)"
      ],
      "metadata": {
        "id": "OCGrfcaNk9Ju"
      }
    },
    {
      "cell_type": "markdown",
      "source": [
        "# **CAP-394 – Introdução à Ciência de Dados (2022)**\n",
        "\n",
        "**Professores:**\n",
        "*Dr. Rafael Duarte Coelho Dos Santos e Dr. Gilberto Ribeiro De Queiroz*\n",
        "\n",
        "**Aluno :**\n",
        "*Lourenço José Cavalcante Neto*\n",
        "\n",
        "---\n",
        "\n",
        "**ATIVIDADE 01:  Análise básica do Dataset**\n",
        "\n",
        "**Descrição da Atividade:**\n",
        "\n",
        "1. Preparar o primeiro notebook contendo uma análise básica dos dados, demonstrando:\n",
        "  * A estrutura dos dados;\n",
        "  * Visualização básica dos dados;\n",
        "  * etc...\n"
      ],
      "metadata": {
        "id": "88RwBLoykL2t"
      }
    },
    {
      "cell_type": "markdown",
      "source": [
        "# **Introdução**\n",
        "\n",
        "A ciência de dados é a prática de mineração de grandes conjuntos de dados brutos, estruturados e não estruturados, para identificar padrões e extrair deles insights acionáveis. Este é um campo interdisciplinar, e os fundamentos da ciência de dados incluem estatísticas, inferência, ciência da computação, análise preditiva, desenvolvimento de algoritmos de aprendizado de máquina e novas tecnologias para obter insights de big data.\n",
        "\n",
        "Para definir a ciência de dados e melhorar o gerenciamento de projetos de ciência de dados, comece com seu ciclo de vida. O primeiro estágio no fluxo de trabalho do pipeline de ciência de dados envolve a captura: adquirir dados, às vezes extraí-los e inseri-los no sistema. O próximo estágio é a manutenção, que inclui armazenamento de dados, limpeza de dados, processamento de dados, preparação de dados e arquitetura de dados.\n",
        "\n",
        "Este notebook contém uma análise básica de dados, tal qual procurou-se demonstrar a sua estrutura,visualização básica etc. Para isso, foi selecionado um dataset no qual a sua origem é de um equipamento chamado **Disdrômetro RD80** (também chamado de **Joss**),instalado nas proximidades da torre **ATTO**, em um sítio chamado Campina, na região Amazônica. O disdrômetro RD80 mede a distribuição das gotas de chuva que chegam à superfície.\n",
        "\n",
        "\n",
        "Este notebook pode ser acessado no **github**: https://github.com/lourencocavalcante/Introduction-to-Data-Science.git"
      ],
      "metadata": {
        "id": "UTePmjPO0HTy"
      }
    },
    {
      "cell_type": "markdown",
      "source": [
        "# **Dataset**\n",
        " \n",
        "Os Dados são de dois equipamentos instalados próximo à torre **ATTO**, em um sítio chamado Campina, na região amazônica. **Radiômetro de microondas MP3000A:** Este mede diversas variáveis: Ambiente, Radiância no espectro de onda do microonda em diversos canais e Estimativas de parâmetros de nuvens. \n",
        "**Disdrômetro RD80 (Joss):** Mede adistribuição das gotas de chuva que chegam à superfície;\n",
        "\n",
        "\n",
        "<img src=\"https://github.com/lourencocavalcante/Introduction-to-Data-Science/blob/e47238ac99a525a4972b534bf9c4950ee85b1b89/Figuras/disdrometro-rd80.gif?raw=true\" width = 500 align=\"left\">\n",
        "\n",
        "\n",
        "Os dois equipamentos estão instalados próximos à torre ATTO, em um sítio chamado Campina, na região amazônica;\n",
        "\n",
        "\n",
        "Período de dados: De 17 de março de 2020 a 07 Julho 2022.\n",
        "\n",
        "Obs.: Nesta primeira parte da análise somente os dados do **Disdrômetro RD80 (Joss)** serão utilizados.\n",
        "\n"
      ],
      "metadata": {
        "id": "X7YHpTbLpR3L"
      }
    },
    {
      "cell_type": "markdown",
      "source": [
        "```\n",
        "level1_output_sfc\n",
        "Neste arquivo estão os dados do ambiente próximo à superfície.\n",
        "Mês, dia, Ano (YY), Hora, Minuto, segundos, Tamb(K), Rh(%), Pres(mb), Tir(K), Rain, DataQuality \n",
        "Tamb - Temperatura do Ambiente\n",
        "Rh - Umidade Relativa\n",
        "Pres - Pressão\n",
        "Tir - Temperatura no canal Infravermelho\n",
        "\n",
        "level1_output_bt\n",
        "Neste arquivos estão os dados das medidas dos canais do microonda.\n",
        "Mês, dia, Ano (YY), Hora, Minuto, segundos, Ch  22.234, Ch  22.500, Ch  23.034, Ch  23.834,\n",
        "Ch  25.000, Ch  26.234, Ch  28.000, Ch  30.000, Ch  51.248, Ch  51.760, Ch  52.280, Ch  52.804, Ch  53.336, Ch  53.848, Ch  54.400, Ch  54.940,\n",
        "Ch  55.500, Ch  56.020, Ch  56.660, Ch  57.288, Ch  57.964, Ch  58.800, DataQuality\n",
        "A unidade é K (Kelvin). Assim como é para Tamb e Tir.\n",
        "\n",
        "level2_output_cld_atto\n",
        "Neste arquivos estão as variáveis estimadas associadas a parâmetros de nuvens.\n",
        "Mês, dia, Ano (YY), Hora, Minuto, segundos, Int. Vapor(cm),Int. Liquid(mm),Cloud Base(km),DataQuality\n",
        "Int. Vapor - Vapor integrado na atmosfera\n",
        "Int. Liquid - Conteúdo de água líquida integrado na nuvem\n",
        "Cloud Base - A altura da base da nuvem\n",
        "\n",
        "JWD_campina_report_RZLwcDmDtNdrop_b2.1_report\n",
        "Ano (YYYY), mês, dia, hora, minuto, segundos,Rain Intensity (mm/h), radar\n",
        " reflectivity (1/mm6m3),Liquid watercontent (g/m3),Mean weight diameter(mm),\n",
        "  Time integration (s), N(D)(20 colunas associadas aos diametros dasgotas de chuva)\n",
        "\n",
        "```"
      ],
      "metadata": {
        "id": "cL8IzViK3Gsc"
      }
    },
    {
      "cell_type": "markdown",
      "source": [
        "**Bibliotecas**\n",
        "\n",
        "A célula abaixo faz a importação das bibliotecas que serão utilizadas na análise dos dados."
      ],
      "metadata": {
        "id": "FxA9_U4DVVcF"
      }
    },
    {
      "cell_type": "code",
      "execution_count": 2,
      "metadata": {
        "id": "3jZRmEf4Kha7"
      },
      "outputs": [],
      "source": [
        "import pandas as pd\n",
        "\n",
        "import numpy as np\n",
        "import seaborn as sns\n",
        "\n",
        "import matplotlib.pyplot as plt\n",
        "from matplotlib.pyplot import figure\n",
        "import math\n",
        "import calendar\n",
        "import datetime\n"
      ]
    },
    {
      "cell_type": "code",
      "source": [
        "from google.colab import drive\n",
        "drive.mount('/content/drive')"
      ],
      "metadata": {
        "colab": {
          "base_uri": "https://localhost:8080/"
        },
        "id": "uUNLtcavMCOk",
        "outputId": "ee4c4c92-9e43-4463-e0fe-68ec3a7f930c"
      },
      "execution_count": 3,
      "outputs": [
        {
          "output_type": "stream",
          "name": "stdout",
          "text": [
            "Mounted at /content/drive\n"
          ]
        }
      ]
    },
    {
      "cell_type": "markdown",
      "source": [
        "**Importando os dados e definição dos Dataframes**\n"
      ],
      "metadata": {
        "id": "EyIldOmMMLJ7"
      }
    },
    {
      "cell_type": "code",
      "source": [
        "#Dados do disdrômetro RD80. Chamado comumente de Joss. \n",
        "#Este equipamento mede adistribuição das gotas de chuva que chegam à superfície. (df_rd80_joss)\n",
        "df_rd80_joss = pd.read_table('/content/drive/MyDrive/MestradoCAP/Lourenco/cap351/Datasets/JWD_campina_report_RZLwcDmDtNdrop_b2.1_report.txt',header=None,delim_whitespace=True)\n",
        "\n",
        "\n",
        "#Dados do radiômetro de microondas MP3000A. Esse instrumento mede diversas variáveis:\n",
        "\n",
        "#Variáveis de ambiente (dados_ambi_superficie)\n",
        "df_mp3000A_1 = pd.read_table('/content/drive/MyDrive/MestradoCAP/Lourenco/cap351/Datasets/level1_output_sfc.txt',header=None,delim_whitespace=True)\n",
        "#Radiância no espectro de onda do microonda em diversos canais (dados_med_canais_micro)\n",
        "df_mp3000A_2 = pd.read_table('/content/drive/MyDrive/MestradoCAP/Lourenco/cap351/Datasets/level1_output_bt.txt',header=None,delim_whitespace=True)\n",
        "#Estimativas de parâmetros de nuvens (dados_est_param_nuvens)\n",
        "df_mp3000A_3 = pd.read_table('/content/drive/MyDrive/MestradoCAP/Lourenco/cap351/Datasets/level2_output_cld_atto.txt',header=None,delim_whitespace=True)\n"
      ],
      "metadata": {
        "id": "DEtGyJ2cMvfW"
      },
      "execution_count": 18,
      "outputs": []
    },
    {
      "cell_type": "code",
      "source": [
        "list_datasets = [df_rd80_joss, df_mp3000A_1, df_mp3000A_2, df_mp3000A_3]"
      ],
      "metadata": {
        "id": "7q-hAZeweIJ5"
      },
      "execution_count": 19,
      "outputs": []
    },
    {
      "cell_type": "markdown",
      "source": [
        "**Tamanho do Dataset**\n",
        "\n"
      ],
      "metadata": {
        "id": "iUN9UCu6DxSX"
      }
    },
    {
      "cell_type": "code",
      "source": [
        "for item in list_datasets:\n",
        "  print('Tamanho do dataset: ',item.shape[0], ', quantiade de atributos: ', item.shape[1])"
      ],
      "metadata": {
        "id": "4u0Sdt9hWFhW",
        "outputId": "23b12f8b-aaa9-4b6a-9d3e-963e93457554",
        "colab": {
          "base_uri": "https://localhost:8080/"
        }
      },
      "execution_count": 20,
      "outputs": [
        {
          "output_type": "stream",
          "name": "stdout",
          "text": [
            "Tamanho do dataset:  315420 , quantiade de atributos:  31\n",
            "Tamanho do dataset:  639828 , quantiade de atributos:  12\n",
            "Tamanho do dataset:  639694 , quantiade de atributos:  29\n",
            "Tamanho do dataset:  639542 , quantiade de atributos:  10\n"
          ]
        }
      ]
    },
    {
      "cell_type": "markdown",
      "source": [
        "**Visualizando as colunas do Dataset**"
      ],
      "metadata": {
        "id": "CKVZf-z5Y6iy"
      }
    },
    {
      "cell_type": "code",
      "source": [
        "for itemColumns in list_datasets:\n",
        "  print(itemColumns.columns,'\\n')"
      ],
      "metadata": {
        "colab": {
          "base_uri": "https://localhost:8080/"
        },
        "id": "SgHCYEPmehzC",
        "outputId": "eaec16b4-295a-4c49-8d96-c3ef72dc507a"
      },
      "execution_count": 21,
      "outputs": [
        {
          "output_type": "stream",
          "name": "stdout",
          "text": [
            "Int64Index([ 0,  1,  2,  3,  4,  5,  6,  7,  8,  9, 10, 11, 12, 13, 14, 15, 16,\n",
            "            17, 18, 19, 20, 21, 22, 23, 24, 25, 26, 27, 28, 29, 30],\n",
            "           dtype='int64') \n",
            "\n",
            "Int64Index([0, 1, 2, 3, 4, 5, 6, 7, 8, 9, 10, 11], dtype='int64') \n",
            "\n",
            "Int64Index([ 0,  1,  2,  3,  4,  5,  6,  7,  8,  9, 10, 11, 12, 13, 14, 15, 16,\n",
            "            17, 18, 19, 20, 21, 22, 23, 24, 25, 26, 27, 28],\n",
            "           dtype='int64') \n",
            "\n",
            "Int64Index([0, 1, 2, 3, 4, 5, 6, 7, 8, 9], dtype='int64') \n",
            "\n"
          ]
        }
      ]
    },
    {
      "cell_type": "markdown",
      "source": [
        "**Vamos investigar os tipos de dados que há em cada coluna**"
      ],
      "metadata": {
        "id": "5uo04x65drKY"
      }
    },
    {
      "cell_type": "code",
      "source": [
        "for itemDtypes in list_datasets:\n",
        "  print(itemDtypes.dtypes,'\\n')"
      ],
      "metadata": {
        "id": "hzKbmyKSdvyn"
      },
      "execution_count": null,
      "outputs": []
    },
    {
      "cell_type": "markdown",
      "source": [
        "**Visualização rápida dos dados**"
      ],
      "metadata": {
        "id": "Yfj1L6xgD5iv"
      }
    },
    {
      "cell_type": "code",
      "source": [
        "for itemHead in list_datasets:\n",
        "  print(itemHead.head(),'\\n')"
      ],
      "metadata": {
        "colab": {
          "base_uri": "https://localhost:8080/"
        },
        "id": "n06ikA28fJ2C",
        "outputId": "ab86925b-378d-4d73-a152-110dd7bbfad9"
      },
      "execution_count": 22,
      "outputs": [
        {
          "output_type": "stream",
          "name": "stdout",
          "text": [
            "       0    1     2     3     4    5    6    7    8    9   ...   21   22   23  \\\n",
            "0  2020.0  3.0  17.0  13.0  52.0  0.0  0.0  0.0  0.0  0.0  ...  0.0  0.0  0.0   \n",
            "1  2020.0  3.0  17.0  13.0  53.0  0.0  0.0  0.0  0.0  0.0  ...  0.0  0.0  0.0   \n",
            "2  2020.0  3.0  17.0  13.0  54.0  0.0  0.0  0.0  0.0  0.0  ...  0.0  0.0  0.0   \n",
            "3  2020.0  3.0  17.0  13.0  55.0  0.0  0.0  0.0  0.0  0.0  ...  0.0  0.0  0.0   \n",
            "4  2020.0  3.0  17.0  13.0  56.0  0.0  0.0  0.0  0.0  0.0  ...  0.0  0.0  0.0   \n",
            "\n",
            "    24   25   26   27   28   29   30  \n",
            "0  0.0  0.0  0.0  0.0  0.0  0.0  0.0  \n",
            "1  0.0  0.0  0.0  0.0  0.0  0.0  0.0  \n",
            "2  0.0  0.0  0.0  0.0  0.0  0.0  0.0  \n",
            "3  0.0  0.0  0.0  0.0  0.0  0.0  0.0  \n",
            "4  0.0  0.0  0.0  0.0  0.0  0.0  0.0  \n",
            "\n",
            "[5 rows x 31 columns] \n",
            "\n",
            "    0     1     2     3     4     5       6      7        8       9    10   11\n",
            "0  7.0  27.0  21.0  18.0  13.0  14.0  294.66  59.58  1007.91  300.24  0.0  1.0\n",
            "1  7.0  27.0  21.0  18.0  13.0  47.0  294.61  59.31  1008.01  300.23  0.0  1.0\n",
            "2  7.0  27.0  21.0  18.0  14.0  20.0  294.61  59.00  1007.91  300.08  0.0  1.0\n",
            "3  7.0  27.0  21.0  18.0  14.0  52.0  294.59  58.53  1008.01  300.39  0.0  1.0\n",
            "4  7.0  27.0  21.0  18.0  15.0  25.0  294.60  57.99  1008.01  300.22  0.0  1.0 \n",
            "\n",
            "    0     1     2     3     4     5        6        7        8        9   ...  \\\n",
            "0  7.0  27.0  21.0  18.0  13.0  43.0  299.553  298.792  299.311  299.058  ...   \n",
            "1  7.0  27.0  21.0  18.0  14.0  16.0  298.621  297.995  298.545  298.243  ...   \n",
            "2  7.0  27.0  21.0  18.0  14.0  49.0  298.661  298.165  298.656  298.803  ...   \n",
            "3  7.0  27.0  21.0  18.0  15.0  22.0  298.311  298.222  298.527  298.198  ...   \n",
            "4  7.0  27.0  21.0  18.0  15.0  54.0  298.477  298.240  298.745  298.681  ...   \n",
            "\n",
            "        19       20       21       22       23       24       25       26  \\\n",
            "0  300.183  300.143  299.012  299.483  299.548  299.959  299.148  299.191   \n",
            "1  300.666  300.709  300.292  300.012  299.761  299.947  300.099  300.532   \n",
            "2  300.163  299.355  299.336  299.576  299.548  300.128  300.154  300.136   \n",
            "3  299.725  299.342  299.012  300.198  299.698  299.540  298.886  299.406   \n",
            "4  299.777  299.608  300.736  300.437  299.300  299.938  299.248  300.069   \n",
            "\n",
            "        27   28  \n",
            "0  297.988  1.0  \n",
            "1  299.782  1.0  \n",
            "2  299.668  1.0  \n",
            "3  298.950  1.0  \n",
            "4  299.175  1.0  \n",
            "\n",
            "[5 rows x 29 columns] \n",
            "\n",
            "     0     1     2     3     4     5       6       7    8    9\n",
            "0  7.0  27.0  21.0  18.0  13.0  45.0  11.642  19.680  0.0  1.0\n",
            "1  7.0  27.0  21.0  18.0  14.0  18.0  11.523  19.684  0.2  1.0\n",
            "2  7.0  27.0  21.0  18.0  14.0  50.0  11.544  19.686  0.2  1.0\n",
            "3  7.0  27.0  21.0  18.0  15.0  23.0  11.459  19.733  0.0  1.0\n",
            "4  7.0  27.0  21.0  18.0  15.0  56.0  11.461  19.722  0.2  1.0 \n",
            "\n"
          ]
        }
      ]
    },
    {
      "cell_type": "markdown",
      "source": [
        "Como vimos, a colunas de dados não vieram com seus nomes. Vamos resolver isso adicionando nome das colunas dos dados do instrumento **rd80** executando a célula abaixo:"
      ],
      "metadata": {
        "id": "LSBJTX5vEC2A"
      }
    },
    {
      "cell_type": "code",
      "source": [
        "#Vamos adicionar os títulos das colunas:\n",
        "df_rd80_joss.columns = ['Ano', 'Mes', 'dia', 'H', 'M', 'S','Rain_Intensity', 'radar_reflectivity','Liquid_watercontent',\n",
        "'Mean_weight_diameter_mm', 'Time_integration', 'N(D)', 'N(D)', 'N(D)', 'N(D)', 'N(D)', 'N(D)', 'N(D)', 'N(D)', 'N(D)', 'N(D)', 'N(D)', 'N(D)', 'N(D)', 'N(D)', 'N(D)', 'N(D)', 'N(D)', 'N(D)', 'N(D)', 'N(D)']\n"
      ],
      "metadata": {
        "id": "-2l0Z-i3OsO7"
      },
      "execution_count": 23,
      "outputs": []
    },
    {
      "cell_type": "code",
      "source": [
        "#Modificanto o tipo de dado das colunas referentes a Data e Horário para Inteiro(int)\n",
        "df_rd80_joss[['Ano', 'Mes', 'dia', 'H', 'M', 'S']] = df_rd80_joss[['Ano', 'Mes', 'dia', 'H', 'M', 'S']].astype(int)"
      ],
      "metadata": {
        "id": "RCTnKH4LO_Rs"
      },
      "execution_count": 24,
      "outputs": []
    },
    {
      "cell_type": "markdown",
      "source": [
        "Conforme visto acima, o tamanho do nosso Dataset é de 315.420, o que ocasionar um custo computacional muito elevado durante o processamento e análise. Sendo assim, será utilizado apenas 1/3 dos dados."
      ],
      "metadata": {
        "id": "_KBGNb-RZ-Pb"
      }
    },
    {
      "cell_type": "code",
      "source": [
        "df_rd80_joss['Datetime'] = df_rd80_joss[['dia','Mes','Ano', 'H', 'M', 'S']].apply(lambda row:\n",
        "                    datetime.datetime(year=row['Ano'], month=row['Mes'],day=row['dia'], hour=row['H'], minute=row[\"M\"], second=row[\"S\"]),axis=1)\n",
        "\n",
        "df_rd80_joss = df_rd80_joss.drop(columns=['H', 'M', 'S','Time_integration', 'N(D)', 'N(D)', 'N(D)', 'N(D)', 'N(D)', 'N(D)', 'N(D)', 'N(D)', 'N(D)', 'N(D)', 'N(D)', 'N(D)', 'N(D)', 'N(D)', 'N(D)', 'N(D)', 'N(D)', 'N(D)', 'N(D)', 'N(D)'])\n",
        "df_rd80_joss = df_rd80_joss.set_index('Datetime')\n",
        "\n"
      ],
      "metadata": {
        "id": "3DYt6qT2UTNS"
      },
      "execution_count": 25,
      "outputs": []
    },
    {
      "cell_type": "code",
      "source": [
        "#Definindo a parte do Dataset tal qual será utilizada neste trabalho\n",
        "limit_date = datetime.datetime(year=2022, month=1,day=1)\n",
        "\n",
        "df_rd80 = df_rd80_joss.loc[df_rd80_joss.index >= str(limit_date)]\n",
        "#df_rd80 = df_rd80.loc[df_rd80['Rain Intensity (mm/h)'] > 0]\n",
        "df_rd80.reset_index(inplace=True)\n",
        "\n",
        "print('Tamanho do Dataset que será utilizado: ', df_rd80.shape[0])"
      ],
      "metadata": {
        "colab": {
          "base_uri": "https://localhost:8080/"
        },
        "id": "WaK_KUXsE0Yr",
        "outputId": "e8309caf-6f7b-4fbc-c7dc-c5af8e4fd0d7"
      },
      "execution_count": 26,
      "outputs": [
        {
          "output_type": "stream",
          "name": "stdout",
          "text": [
            "Tamanho do Dataset que será utilizado:  222513\n"
          ]
        }
      ]
    },
    {
      "cell_type": "markdown",
      "source": [
        "Vamos visualizar novamente os nossos dados, após definirmos o nome das colunas, de acordo com as suas especificidades:"
      ],
      "metadata": {
        "id": "Fjti0cEeEfro"
      }
    },
    {
      "cell_type": "code",
      "source": [
        "df_rd80_joss.head()"
      ],
      "metadata": {
        "colab": {
          "base_uri": "https://localhost:8080/",
          "height": 237
        },
        "id": "wS2fk-sMFr67",
        "outputId": "8cd3cb96-2e9d-4c6c-9b18-cbff4c02c648"
      },
      "execution_count": 27,
      "outputs": [
        {
          "output_type": "execute_result",
          "data": {
            "text/plain": [
              "                      Ano  Mes  dia  Rain_Intensity  radar_reflectivity  \\\n",
              "Datetime                                                                  \n",
              "2020-03-17 13:52:00  2020    3   17             0.0                 0.0   \n",
              "2020-03-17 13:53:00  2020    3   17             0.0                 0.0   \n",
              "2020-03-17 13:54:00  2020    3   17             0.0                 0.0   \n",
              "2020-03-17 13:55:00  2020    3   17             0.0                 0.0   \n",
              "2020-03-17 13:56:00  2020    3   17             0.0                 0.0   \n",
              "\n",
              "                     Liquid_watercontent  Mean_weight_diameter_mm  \n",
              "Datetime                                                           \n",
              "2020-03-17 13:52:00                  0.0                      0.0  \n",
              "2020-03-17 13:53:00                  0.0                      0.0  \n",
              "2020-03-17 13:54:00                  0.0                      0.0  \n",
              "2020-03-17 13:55:00                  0.0                      0.0  \n",
              "2020-03-17 13:56:00                  0.0                      0.0  "
            ],
            "text/html": [
              "\n",
              "  <div id=\"df-7c9a7999-9bcd-4559-abbd-fdeea465cd25\">\n",
              "    <div class=\"colab-df-container\">\n",
              "      <div>\n",
              "<style scoped>\n",
              "    .dataframe tbody tr th:only-of-type {\n",
              "        vertical-align: middle;\n",
              "    }\n",
              "\n",
              "    .dataframe tbody tr th {\n",
              "        vertical-align: top;\n",
              "    }\n",
              "\n",
              "    .dataframe thead th {\n",
              "        text-align: right;\n",
              "    }\n",
              "</style>\n",
              "<table border=\"1\" class=\"dataframe\">\n",
              "  <thead>\n",
              "    <tr style=\"text-align: right;\">\n",
              "      <th></th>\n",
              "      <th>Ano</th>\n",
              "      <th>Mes</th>\n",
              "      <th>dia</th>\n",
              "      <th>Rain_Intensity</th>\n",
              "      <th>radar_reflectivity</th>\n",
              "      <th>Liquid_watercontent</th>\n",
              "      <th>Mean_weight_diameter_mm</th>\n",
              "    </tr>\n",
              "    <tr>\n",
              "      <th>Datetime</th>\n",
              "      <th></th>\n",
              "      <th></th>\n",
              "      <th></th>\n",
              "      <th></th>\n",
              "      <th></th>\n",
              "      <th></th>\n",
              "      <th></th>\n",
              "    </tr>\n",
              "  </thead>\n",
              "  <tbody>\n",
              "    <tr>\n",
              "      <th>2020-03-17 13:52:00</th>\n",
              "      <td>2020</td>\n",
              "      <td>3</td>\n",
              "      <td>17</td>\n",
              "      <td>0.0</td>\n",
              "      <td>0.0</td>\n",
              "      <td>0.0</td>\n",
              "      <td>0.0</td>\n",
              "    </tr>\n",
              "    <tr>\n",
              "      <th>2020-03-17 13:53:00</th>\n",
              "      <td>2020</td>\n",
              "      <td>3</td>\n",
              "      <td>17</td>\n",
              "      <td>0.0</td>\n",
              "      <td>0.0</td>\n",
              "      <td>0.0</td>\n",
              "      <td>0.0</td>\n",
              "    </tr>\n",
              "    <tr>\n",
              "      <th>2020-03-17 13:54:00</th>\n",
              "      <td>2020</td>\n",
              "      <td>3</td>\n",
              "      <td>17</td>\n",
              "      <td>0.0</td>\n",
              "      <td>0.0</td>\n",
              "      <td>0.0</td>\n",
              "      <td>0.0</td>\n",
              "    </tr>\n",
              "    <tr>\n",
              "      <th>2020-03-17 13:55:00</th>\n",
              "      <td>2020</td>\n",
              "      <td>3</td>\n",
              "      <td>17</td>\n",
              "      <td>0.0</td>\n",
              "      <td>0.0</td>\n",
              "      <td>0.0</td>\n",
              "      <td>0.0</td>\n",
              "    </tr>\n",
              "    <tr>\n",
              "      <th>2020-03-17 13:56:00</th>\n",
              "      <td>2020</td>\n",
              "      <td>3</td>\n",
              "      <td>17</td>\n",
              "      <td>0.0</td>\n",
              "      <td>0.0</td>\n",
              "      <td>0.0</td>\n",
              "      <td>0.0</td>\n",
              "    </tr>\n",
              "  </tbody>\n",
              "</table>\n",
              "</div>\n",
              "      <button class=\"colab-df-convert\" onclick=\"convertToInteractive('df-7c9a7999-9bcd-4559-abbd-fdeea465cd25')\"\n",
              "              title=\"Convert this dataframe to an interactive table.\"\n",
              "              style=\"display:none;\">\n",
              "        \n",
              "  <svg xmlns=\"http://www.w3.org/2000/svg\" height=\"24px\"viewBox=\"0 0 24 24\"\n",
              "       width=\"24px\">\n",
              "    <path d=\"M0 0h24v24H0V0z\" fill=\"none\"/>\n",
              "    <path d=\"M18.56 5.44l.94 2.06.94-2.06 2.06-.94-2.06-.94-.94-2.06-.94 2.06-2.06.94zm-11 1L8.5 8.5l.94-2.06 2.06-.94-2.06-.94L8.5 2.5l-.94 2.06-2.06.94zm10 10l.94 2.06.94-2.06 2.06-.94-2.06-.94-.94-2.06-.94 2.06-2.06.94z\"/><path d=\"M17.41 7.96l-1.37-1.37c-.4-.4-.92-.59-1.43-.59-.52 0-1.04.2-1.43.59L10.3 9.45l-7.72 7.72c-.78.78-.78 2.05 0 2.83L4 21.41c.39.39.9.59 1.41.59.51 0 1.02-.2 1.41-.59l7.78-7.78 2.81-2.81c.8-.78.8-2.07 0-2.86zM5.41 20L4 18.59l7.72-7.72 1.47 1.35L5.41 20z\"/>\n",
              "  </svg>\n",
              "      </button>\n",
              "      \n",
              "  <style>\n",
              "    .colab-df-container {\n",
              "      display:flex;\n",
              "      flex-wrap:wrap;\n",
              "      gap: 12px;\n",
              "    }\n",
              "\n",
              "    .colab-df-convert {\n",
              "      background-color: #E8F0FE;\n",
              "      border: none;\n",
              "      border-radius: 50%;\n",
              "      cursor: pointer;\n",
              "      display: none;\n",
              "      fill: #1967D2;\n",
              "      height: 32px;\n",
              "      padding: 0 0 0 0;\n",
              "      width: 32px;\n",
              "    }\n",
              "\n",
              "    .colab-df-convert:hover {\n",
              "      background-color: #E2EBFA;\n",
              "      box-shadow: 0px 1px 2px rgba(60, 64, 67, 0.3), 0px 1px 3px 1px rgba(60, 64, 67, 0.15);\n",
              "      fill: #174EA6;\n",
              "    }\n",
              "\n",
              "    [theme=dark] .colab-df-convert {\n",
              "      background-color: #3B4455;\n",
              "      fill: #D2E3FC;\n",
              "    }\n",
              "\n",
              "    [theme=dark] .colab-df-convert:hover {\n",
              "      background-color: #434B5C;\n",
              "      box-shadow: 0px 1px 3px 1px rgba(0, 0, 0, 0.15);\n",
              "      filter: drop-shadow(0px 1px 2px rgba(0, 0, 0, 0.3));\n",
              "      fill: #FFFFFF;\n",
              "    }\n",
              "  </style>\n",
              "\n",
              "      <script>\n",
              "        const buttonEl =\n",
              "          document.querySelector('#df-7c9a7999-9bcd-4559-abbd-fdeea465cd25 button.colab-df-convert');\n",
              "        buttonEl.style.display =\n",
              "          google.colab.kernel.accessAllowed ? 'block' : 'none';\n",
              "\n",
              "        async function convertToInteractive(key) {\n",
              "          const element = document.querySelector('#df-7c9a7999-9bcd-4559-abbd-fdeea465cd25');\n",
              "          const dataTable =\n",
              "            await google.colab.kernel.invokeFunction('convertToInteractive',\n",
              "                                                     [key], {});\n",
              "          if (!dataTable) return;\n",
              "\n",
              "          const docLinkHtml = 'Like what you see? Visit the ' +\n",
              "            '<a target=\"_blank\" href=https://colab.research.google.com/notebooks/data_table.ipynb>data table notebook</a>'\n",
              "            + ' to learn more about interactive tables.';\n",
              "          element.innerHTML = '';\n",
              "          dataTable['output_type'] = 'display_data';\n",
              "          await google.colab.output.renderOutput(dataTable, element);\n",
              "          const docLink = document.createElement('div');\n",
              "          docLink.innerHTML = docLinkHtml;\n",
              "          element.appendChild(docLink);\n",
              "        }\n",
              "      </script>\n",
              "    </div>\n",
              "  </div>\n",
              "  "
            ]
          },
          "metadata": {},
          "execution_count": 27
        }
      ]
    },
    {
      "cell_type": "code",
      "source": [
        "df_rd80_joss = df_rd80_joss.reset_index('Datetime')"
      ],
      "metadata": {
        "id": "hKS2FbzZNimp"
      },
      "execution_count": 28,
      "outputs": []
    },
    {
      "cell_type": "code",
      "source": [
        "#Vamos converter o \"Datetime\" em um objeto datetime para que seja mais fácil realizar outras manipulações\n",
        "df_rd80_joss['Datetime'] = df_rd80_joss.Datetime.astype('datetime64')\n",
        "\n",
        "# Criar uma coluna data\n",
        "df_rd80_joss['Date'] = df_rd80_joss['Datetime'].dt.date\n",
        "\n",
        "# Criar uma coluna ano\n",
        "df_rd80_joss['Year'] = df_rd80_joss['Datetime'].dt.year\n",
        "\n",
        "# Criar uma coluna mês\n",
        "df_rd80_joss['Month'] = df_rd80_joss['Datetime'].dt.month\n",
        "df_rd80_joss['Month'] = df_rd80_joss['Month'].apply(lambda x: calendar.month_abbr[x])"
      ],
      "metadata": {
        "id": "LJUdQhc3LwsN"
      },
      "execution_count": 29,
      "outputs": []
    },
    {
      "cell_type": "code",
      "source": [
        "# Ordenando a coluna do mês do ano\n",
        "df_rd80_joss['Month'] = pd.Categorical(df_rd80_joss['Month'], \n",
        "                                 categories= ['Jan','Feb','Mar','Apr','May','Jun', 'Jul',\n",
        "                                             'Aug','Sep','Oct','Nov','Dec'],\n",
        "                                              ordered = True)\n"
      ],
      "metadata": {
        "id": "NcZHM0kRNs2N"
      },
      "execution_count": 30,
      "outputs": []
    },
    {
      "cell_type": "code",
      "source": [
        "# Criando uma coluna de dia da semana\n",
        "\n",
        "df_rd80_joss['Day_of_week'] = [d.day_name() for d in df_rd80_joss['Datetime']]"
      ],
      "metadata": {
        "id": "oTyhWnYyTgPg"
      },
      "execution_count": 31,
      "outputs": []
    },
    {
      "cell_type": "code",
      "source": [
        "# Ordenando a coluna do dia da semana\n",
        "\n",
        "df_rd80_joss['Day_of_week'] = pd.Categorical(df_rd80_joss['Day_of_week'], \n",
        "                                 categories= ['Monday','Tuesday','Wednesday','Thursday','Friday','Saturday', 'Sunday'],\n",
        "                                              ordered = True)"
      ],
      "metadata": {
        "id": "IVwky57iT2B1"
      },
      "execution_count": 32,
      "outputs": []
    },
    {
      "cell_type": "code",
      "source": [
        "# Criando a coluna hora do dia\n",
        "\n",
        "df_rd80_joss['Time'] = [d.time() for d in df_rd80_joss['Datetime']]"
      ],
      "metadata": {
        "id": "D6g_jKLOUCir"
      },
      "execution_count": 33,
      "outputs": []
    },
    {
      "cell_type": "code",
      "source": [
        "# Dividindo a coluna hora do dia em diferentes sessões em um dia\n",
        "\n",
        "df_rd80_joss=df_rd80_joss.assign(session=pd.cut(df_rd80_joss.Datetime.dt.hour,\n",
        "                            [0,6,12,18,23],\n",
        "                            labels=['Night','Morning','Afternoon','Evening'],\n",
        "                            include_lowest=True))"
      ],
      "metadata": {
        "id": "8_63DpGaUO-O"
      },
      "execution_count": 34,
      "outputs": []
    },
    {
      "cell_type": "code",
      "source": [
        "df_rd80_joss.head()"
      ],
      "metadata": {
        "colab": {
          "base_uri": "https://localhost:8080/",
          "height": 250
        },
        "id": "BYZjUKSGNV1l",
        "outputId": "22b5fbf9-5429-462f-dfec-d14ccb11ff7a"
      },
      "execution_count": 36,
      "outputs": [
        {
          "output_type": "execute_result",
          "data": {
            "text/plain": [
              "             Datetime   Ano  Mes  dia  Rain_Intensity  radar_reflectivity  \\\n",
              "0 2020-03-17 13:52:00  2020    3   17             0.0                 0.0   \n",
              "1 2020-03-17 13:53:00  2020    3   17             0.0                 0.0   \n",
              "2 2020-03-17 13:54:00  2020    3   17             0.0                 0.0   \n",
              "3 2020-03-17 13:55:00  2020    3   17             0.0                 0.0   \n",
              "4 2020-03-17 13:56:00  2020    3   17             0.0                 0.0   \n",
              "\n",
              "   Liquid_watercontent  Mean_weight_diameter_mm        Date  Year Month  \\\n",
              "0                  0.0                      0.0  2020-03-17  2020   Mar   \n",
              "1                  0.0                      0.0  2020-03-17  2020   Mar   \n",
              "2                  0.0                      0.0  2020-03-17  2020   Mar   \n",
              "3                  0.0                      0.0  2020-03-17  2020   Mar   \n",
              "4                  0.0                      0.0  2020-03-17  2020   Mar   \n",
              "\n",
              "  Day_of_week      Time    session  \n",
              "0     Tuesday  13:52:00  Afternoon  \n",
              "1     Tuesday  13:53:00  Afternoon  \n",
              "2     Tuesday  13:54:00  Afternoon  \n",
              "3     Tuesday  13:55:00  Afternoon  \n",
              "4     Tuesday  13:56:00  Afternoon  "
            ],
            "text/html": [
              "\n",
              "  <div id=\"df-2b728475-7dd7-4867-b68d-bddaaac19774\">\n",
              "    <div class=\"colab-df-container\">\n",
              "      <div>\n",
              "<style scoped>\n",
              "    .dataframe tbody tr th:only-of-type {\n",
              "        vertical-align: middle;\n",
              "    }\n",
              "\n",
              "    .dataframe tbody tr th {\n",
              "        vertical-align: top;\n",
              "    }\n",
              "\n",
              "    .dataframe thead th {\n",
              "        text-align: right;\n",
              "    }\n",
              "</style>\n",
              "<table border=\"1\" class=\"dataframe\">\n",
              "  <thead>\n",
              "    <tr style=\"text-align: right;\">\n",
              "      <th></th>\n",
              "      <th>Datetime</th>\n",
              "      <th>Ano</th>\n",
              "      <th>Mes</th>\n",
              "      <th>dia</th>\n",
              "      <th>Rain_Intensity</th>\n",
              "      <th>radar_reflectivity</th>\n",
              "      <th>Liquid_watercontent</th>\n",
              "      <th>Mean_weight_diameter_mm</th>\n",
              "      <th>Date</th>\n",
              "      <th>Year</th>\n",
              "      <th>Month</th>\n",
              "      <th>Day_of_week</th>\n",
              "      <th>Time</th>\n",
              "      <th>session</th>\n",
              "    </tr>\n",
              "  </thead>\n",
              "  <tbody>\n",
              "    <tr>\n",
              "      <th>0</th>\n",
              "      <td>2020-03-17 13:52:00</td>\n",
              "      <td>2020</td>\n",
              "      <td>3</td>\n",
              "      <td>17</td>\n",
              "      <td>0.0</td>\n",
              "      <td>0.0</td>\n",
              "      <td>0.0</td>\n",
              "      <td>0.0</td>\n",
              "      <td>2020-03-17</td>\n",
              "      <td>2020</td>\n",
              "      <td>Mar</td>\n",
              "      <td>Tuesday</td>\n",
              "      <td>13:52:00</td>\n",
              "      <td>Afternoon</td>\n",
              "    </tr>\n",
              "    <tr>\n",
              "      <th>1</th>\n",
              "      <td>2020-03-17 13:53:00</td>\n",
              "      <td>2020</td>\n",
              "      <td>3</td>\n",
              "      <td>17</td>\n",
              "      <td>0.0</td>\n",
              "      <td>0.0</td>\n",
              "      <td>0.0</td>\n",
              "      <td>0.0</td>\n",
              "      <td>2020-03-17</td>\n",
              "      <td>2020</td>\n",
              "      <td>Mar</td>\n",
              "      <td>Tuesday</td>\n",
              "      <td>13:53:00</td>\n",
              "      <td>Afternoon</td>\n",
              "    </tr>\n",
              "    <tr>\n",
              "      <th>2</th>\n",
              "      <td>2020-03-17 13:54:00</td>\n",
              "      <td>2020</td>\n",
              "      <td>3</td>\n",
              "      <td>17</td>\n",
              "      <td>0.0</td>\n",
              "      <td>0.0</td>\n",
              "      <td>0.0</td>\n",
              "      <td>0.0</td>\n",
              "      <td>2020-03-17</td>\n",
              "      <td>2020</td>\n",
              "      <td>Mar</td>\n",
              "      <td>Tuesday</td>\n",
              "      <td>13:54:00</td>\n",
              "      <td>Afternoon</td>\n",
              "    </tr>\n",
              "    <tr>\n",
              "      <th>3</th>\n",
              "      <td>2020-03-17 13:55:00</td>\n",
              "      <td>2020</td>\n",
              "      <td>3</td>\n",
              "      <td>17</td>\n",
              "      <td>0.0</td>\n",
              "      <td>0.0</td>\n",
              "      <td>0.0</td>\n",
              "      <td>0.0</td>\n",
              "      <td>2020-03-17</td>\n",
              "      <td>2020</td>\n",
              "      <td>Mar</td>\n",
              "      <td>Tuesday</td>\n",
              "      <td>13:55:00</td>\n",
              "      <td>Afternoon</td>\n",
              "    </tr>\n",
              "    <tr>\n",
              "      <th>4</th>\n",
              "      <td>2020-03-17 13:56:00</td>\n",
              "      <td>2020</td>\n",
              "      <td>3</td>\n",
              "      <td>17</td>\n",
              "      <td>0.0</td>\n",
              "      <td>0.0</td>\n",
              "      <td>0.0</td>\n",
              "      <td>0.0</td>\n",
              "      <td>2020-03-17</td>\n",
              "      <td>2020</td>\n",
              "      <td>Mar</td>\n",
              "      <td>Tuesday</td>\n",
              "      <td>13:56:00</td>\n",
              "      <td>Afternoon</td>\n",
              "    </tr>\n",
              "  </tbody>\n",
              "</table>\n",
              "</div>\n",
              "      <button class=\"colab-df-convert\" onclick=\"convertToInteractive('df-2b728475-7dd7-4867-b68d-bddaaac19774')\"\n",
              "              title=\"Convert this dataframe to an interactive table.\"\n",
              "              style=\"display:none;\">\n",
              "        \n",
              "  <svg xmlns=\"http://www.w3.org/2000/svg\" height=\"24px\"viewBox=\"0 0 24 24\"\n",
              "       width=\"24px\">\n",
              "    <path d=\"M0 0h24v24H0V0z\" fill=\"none\"/>\n",
              "    <path d=\"M18.56 5.44l.94 2.06.94-2.06 2.06-.94-2.06-.94-.94-2.06-.94 2.06-2.06.94zm-11 1L8.5 8.5l.94-2.06 2.06-.94-2.06-.94L8.5 2.5l-.94 2.06-2.06.94zm10 10l.94 2.06.94-2.06 2.06-.94-2.06-.94-.94-2.06-.94 2.06-2.06.94z\"/><path d=\"M17.41 7.96l-1.37-1.37c-.4-.4-.92-.59-1.43-.59-.52 0-1.04.2-1.43.59L10.3 9.45l-7.72 7.72c-.78.78-.78 2.05 0 2.83L4 21.41c.39.39.9.59 1.41.59.51 0 1.02-.2 1.41-.59l7.78-7.78 2.81-2.81c.8-.78.8-2.07 0-2.86zM5.41 20L4 18.59l7.72-7.72 1.47 1.35L5.41 20z\"/>\n",
              "  </svg>\n",
              "      </button>\n",
              "      \n",
              "  <style>\n",
              "    .colab-df-container {\n",
              "      display:flex;\n",
              "      flex-wrap:wrap;\n",
              "      gap: 12px;\n",
              "    }\n",
              "\n",
              "    .colab-df-convert {\n",
              "      background-color: #E8F0FE;\n",
              "      border: none;\n",
              "      border-radius: 50%;\n",
              "      cursor: pointer;\n",
              "      display: none;\n",
              "      fill: #1967D2;\n",
              "      height: 32px;\n",
              "      padding: 0 0 0 0;\n",
              "      width: 32px;\n",
              "    }\n",
              "\n",
              "    .colab-df-convert:hover {\n",
              "      background-color: #E2EBFA;\n",
              "      box-shadow: 0px 1px 2px rgba(60, 64, 67, 0.3), 0px 1px 3px 1px rgba(60, 64, 67, 0.15);\n",
              "      fill: #174EA6;\n",
              "    }\n",
              "\n",
              "    [theme=dark] .colab-df-convert {\n",
              "      background-color: #3B4455;\n",
              "      fill: #D2E3FC;\n",
              "    }\n",
              "\n",
              "    [theme=dark] .colab-df-convert:hover {\n",
              "      background-color: #434B5C;\n",
              "      box-shadow: 0px 1px 3px 1px rgba(0, 0, 0, 0.15);\n",
              "      filter: drop-shadow(0px 1px 2px rgba(0, 0, 0, 0.3));\n",
              "      fill: #FFFFFF;\n",
              "    }\n",
              "  </style>\n",
              "\n",
              "      <script>\n",
              "        const buttonEl =\n",
              "          document.querySelector('#df-2b728475-7dd7-4867-b68d-bddaaac19774 button.colab-df-convert');\n",
              "        buttonEl.style.display =\n",
              "          google.colab.kernel.accessAllowed ? 'block' : 'none';\n",
              "\n",
              "        async function convertToInteractive(key) {\n",
              "          const element = document.querySelector('#df-2b728475-7dd7-4867-b68d-bddaaac19774');\n",
              "          const dataTable =\n",
              "            await google.colab.kernel.invokeFunction('convertToInteractive',\n",
              "                                                     [key], {});\n",
              "          if (!dataTable) return;\n",
              "\n",
              "          const docLinkHtml = 'Like what you see? Visit the ' +\n",
              "            '<a target=\"_blank\" href=https://colab.research.google.com/notebooks/data_table.ipynb>data table notebook</a>'\n",
              "            + ' to learn more about interactive tables.';\n",
              "          element.innerHTML = '';\n",
              "          dataTable['output_type'] = 'display_data';\n",
              "          await google.colab.output.renderOutput(dataTable, element);\n",
              "          const docLink = document.createElement('div');\n",
              "          docLink.innerHTML = docLinkHtml;\n",
              "          element.appendChild(docLink);\n",
              "        }\n",
              "      </script>\n",
              "    </div>\n",
              "  </div>\n",
              "  "
            ]
          },
          "metadata": {},
          "execution_count": 36
        }
      ]
    },
    {
      "cell_type": "markdown",
      "source": [
        "Para nossa análise, vamos realizar uma normalização no Dataset do **RD80**. Faremos a substituição dos valores da variável **Rain_Intensity (mm/h)**, que forem menores que 0.1, por 0(zero)."
      ],
      "metadata": {
        "id": "DIKfXFR4cCaJ"
      }
    },
    {
      "cell_type": "code",
      "source": [
        "df_rd80_joss['Rain_Intensity'][df_rd80_joss['Rain_Intensity'] < 0.1] = 0"
      ],
      "metadata": {
        "id": "Jsqf8diZMPnj",
        "colab": {
          "base_uri": "https://localhost:8080/"
        },
        "outputId": "ad6c34c7-ea8e-4e2b-eee1-c0a4446fe020"
      },
      "execution_count": 37,
      "outputs": [
        {
          "output_type": "stream",
          "name": "stderr",
          "text": [
            "/usr/local/lib/python3.7/dist-packages/ipykernel_launcher.py:1: SettingWithCopyWarning: \n",
            "A value is trying to be set on a copy of a slice from a DataFrame\n",
            "\n",
            "See the caveats in the documentation: https://pandas.pydata.org/pandas-docs/stable/user_guide/indexing.html#returning-a-view-versus-a-copy\n",
            "  \"\"\"Entry point for launching an IPython kernel.\n"
          ]
        }
      ]
    },
    {
      "cell_type": "markdown",
      "source": [
        "Visualização das estatísticas descritivas"
      ],
      "metadata": {
        "id": "WPxw7ftHdKlZ"
      }
    },
    {
      "cell_type": "code",
      "source": [
        "#Visualização das estatísticas descritivas\n",
        "df_rd80_joss.describe()"
      ],
      "metadata": {
        "colab": {
          "base_uri": "https://localhost:8080/",
          "height": 300
        },
        "id": "bp3ACD8LdVyD",
        "outputId": "67db1674-cb20-4a5c-f856-ac19d5fcbae2"
      },
      "execution_count": 38,
      "outputs": [
        {
          "output_type": "execute_result",
          "data": {
            "text/plain": [
              "                 Ano            Mes            dia  Rain_Intensity  \\\n",
              "count  315420.000000  315420.000000  315420.000000   315420.000000   \n",
              "mean     2021.681193       5.694344      15.826948        0.372430   \n",
              "std         0.515444       3.569397       8.474641        3.418582   \n",
              "min      2020.000000       1.000000       1.000000        0.000000   \n",
              "25%      2021.000000       3.000000       8.000000        0.000000   \n",
              "50%      2022.000000       5.000000      16.000000        0.000000   \n",
              "75%      2022.000000       8.000000      23.000000        0.000000   \n",
              "max      2022.000000      12.000000      31.000000      128.895370   \n",
              "\n",
              "       radar_reflectivity  Liquid_watercontent  Mean_weight_diameter_mm  \\\n",
              "count       315420.000000        315420.000000            315420.000000   \n",
              "mean           309.362454             0.018214                 0.114891   \n",
              "std           4704.699349             0.147274                 0.356634   \n",
              "min              0.000000             0.000000                 0.000000   \n",
              "25%              0.000000             0.000000                 0.000000   \n",
              "50%              0.000000             0.000000                 0.000000   \n",
              "75%              0.000000             0.000000                 0.000000   \n",
              "max         550486.250000             4.893830                 5.361310   \n",
              "\n",
              "                Year  \n",
              "count  315420.000000  \n",
              "mean     2021.681193  \n",
              "std         0.515444  \n",
              "min      2020.000000  \n",
              "25%      2021.000000  \n",
              "50%      2022.000000  \n",
              "75%      2022.000000  \n",
              "max      2022.000000  "
            ],
            "text/html": [
              "\n",
              "  <div id=\"df-10a5f7b8-55d7-47fc-b7ca-2800bd605e78\">\n",
              "    <div class=\"colab-df-container\">\n",
              "      <div>\n",
              "<style scoped>\n",
              "    .dataframe tbody tr th:only-of-type {\n",
              "        vertical-align: middle;\n",
              "    }\n",
              "\n",
              "    .dataframe tbody tr th {\n",
              "        vertical-align: top;\n",
              "    }\n",
              "\n",
              "    .dataframe thead th {\n",
              "        text-align: right;\n",
              "    }\n",
              "</style>\n",
              "<table border=\"1\" class=\"dataframe\">\n",
              "  <thead>\n",
              "    <tr style=\"text-align: right;\">\n",
              "      <th></th>\n",
              "      <th>Ano</th>\n",
              "      <th>Mes</th>\n",
              "      <th>dia</th>\n",
              "      <th>Rain_Intensity</th>\n",
              "      <th>radar_reflectivity</th>\n",
              "      <th>Liquid_watercontent</th>\n",
              "      <th>Mean_weight_diameter_mm</th>\n",
              "      <th>Year</th>\n",
              "    </tr>\n",
              "  </thead>\n",
              "  <tbody>\n",
              "    <tr>\n",
              "      <th>count</th>\n",
              "      <td>315420.000000</td>\n",
              "      <td>315420.000000</td>\n",
              "      <td>315420.000000</td>\n",
              "      <td>315420.000000</td>\n",
              "      <td>315420.000000</td>\n",
              "      <td>315420.000000</td>\n",
              "      <td>315420.000000</td>\n",
              "      <td>315420.000000</td>\n",
              "    </tr>\n",
              "    <tr>\n",
              "      <th>mean</th>\n",
              "      <td>2021.681193</td>\n",
              "      <td>5.694344</td>\n",
              "      <td>15.826948</td>\n",
              "      <td>0.372430</td>\n",
              "      <td>309.362454</td>\n",
              "      <td>0.018214</td>\n",
              "      <td>0.114891</td>\n",
              "      <td>2021.681193</td>\n",
              "    </tr>\n",
              "    <tr>\n",
              "      <th>std</th>\n",
              "      <td>0.515444</td>\n",
              "      <td>3.569397</td>\n",
              "      <td>8.474641</td>\n",
              "      <td>3.418582</td>\n",
              "      <td>4704.699349</td>\n",
              "      <td>0.147274</td>\n",
              "      <td>0.356634</td>\n",
              "      <td>0.515444</td>\n",
              "    </tr>\n",
              "    <tr>\n",
              "      <th>min</th>\n",
              "      <td>2020.000000</td>\n",
              "      <td>1.000000</td>\n",
              "      <td>1.000000</td>\n",
              "      <td>0.000000</td>\n",
              "      <td>0.000000</td>\n",
              "      <td>0.000000</td>\n",
              "      <td>0.000000</td>\n",
              "      <td>2020.000000</td>\n",
              "    </tr>\n",
              "    <tr>\n",
              "      <th>25%</th>\n",
              "      <td>2021.000000</td>\n",
              "      <td>3.000000</td>\n",
              "      <td>8.000000</td>\n",
              "      <td>0.000000</td>\n",
              "      <td>0.000000</td>\n",
              "      <td>0.000000</td>\n",
              "      <td>0.000000</td>\n",
              "      <td>2021.000000</td>\n",
              "    </tr>\n",
              "    <tr>\n",
              "      <th>50%</th>\n",
              "      <td>2022.000000</td>\n",
              "      <td>5.000000</td>\n",
              "      <td>16.000000</td>\n",
              "      <td>0.000000</td>\n",
              "      <td>0.000000</td>\n",
              "      <td>0.000000</td>\n",
              "      <td>0.000000</td>\n",
              "      <td>2022.000000</td>\n",
              "    </tr>\n",
              "    <tr>\n",
              "      <th>75%</th>\n",
              "      <td>2022.000000</td>\n",
              "      <td>8.000000</td>\n",
              "      <td>23.000000</td>\n",
              "      <td>0.000000</td>\n",
              "      <td>0.000000</td>\n",
              "      <td>0.000000</td>\n",
              "      <td>0.000000</td>\n",
              "      <td>2022.000000</td>\n",
              "    </tr>\n",
              "    <tr>\n",
              "      <th>max</th>\n",
              "      <td>2022.000000</td>\n",
              "      <td>12.000000</td>\n",
              "      <td>31.000000</td>\n",
              "      <td>128.895370</td>\n",
              "      <td>550486.250000</td>\n",
              "      <td>4.893830</td>\n",
              "      <td>5.361310</td>\n",
              "      <td>2022.000000</td>\n",
              "    </tr>\n",
              "  </tbody>\n",
              "</table>\n",
              "</div>\n",
              "      <button class=\"colab-df-convert\" onclick=\"convertToInteractive('df-10a5f7b8-55d7-47fc-b7ca-2800bd605e78')\"\n",
              "              title=\"Convert this dataframe to an interactive table.\"\n",
              "              style=\"display:none;\">\n",
              "        \n",
              "  <svg xmlns=\"http://www.w3.org/2000/svg\" height=\"24px\"viewBox=\"0 0 24 24\"\n",
              "       width=\"24px\">\n",
              "    <path d=\"M0 0h24v24H0V0z\" fill=\"none\"/>\n",
              "    <path d=\"M18.56 5.44l.94 2.06.94-2.06 2.06-.94-2.06-.94-.94-2.06-.94 2.06-2.06.94zm-11 1L8.5 8.5l.94-2.06 2.06-.94-2.06-.94L8.5 2.5l-.94 2.06-2.06.94zm10 10l.94 2.06.94-2.06 2.06-.94-2.06-.94-.94-2.06-.94 2.06-2.06.94z\"/><path d=\"M17.41 7.96l-1.37-1.37c-.4-.4-.92-.59-1.43-.59-.52 0-1.04.2-1.43.59L10.3 9.45l-7.72 7.72c-.78.78-.78 2.05 0 2.83L4 21.41c.39.39.9.59 1.41.59.51 0 1.02-.2 1.41-.59l7.78-7.78 2.81-2.81c.8-.78.8-2.07 0-2.86zM5.41 20L4 18.59l7.72-7.72 1.47 1.35L5.41 20z\"/>\n",
              "  </svg>\n",
              "      </button>\n",
              "      \n",
              "  <style>\n",
              "    .colab-df-container {\n",
              "      display:flex;\n",
              "      flex-wrap:wrap;\n",
              "      gap: 12px;\n",
              "    }\n",
              "\n",
              "    .colab-df-convert {\n",
              "      background-color: #E8F0FE;\n",
              "      border: none;\n",
              "      border-radius: 50%;\n",
              "      cursor: pointer;\n",
              "      display: none;\n",
              "      fill: #1967D2;\n",
              "      height: 32px;\n",
              "      padding: 0 0 0 0;\n",
              "      width: 32px;\n",
              "    }\n",
              "\n",
              "    .colab-df-convert:hover {\n",
              "      background-color: #E2EBFA;\n",
              "      box-shadow: 0px 1px 2px rgba(60, 64, 67, 0.3), 0px 1px 3px 1px rgba(60, 64, 67, 0.15);\n",
              "      fill: #174EA6;\n",
              "    }\n",
              "\n",
              "    [theme=dark] .colab-df-convert {\n",
              "      background-color: #3B4455;\n",
              "      fill: #D2E3FC;\n",
              "    }\n",
              "\n",
              "    [theme=dark] .colab-df-convert:hover {\n",
              "      background-color: #434B5C;\n",
              "      box-shadow: 0px 1px 3px 1px rgba(0, 0, 0, 0.15);\n",
              "      filter: drop-shadow(0px 1px 2px rgba(0, 0, 0, 0.3));\n",
              "      fill: #FFFFFF;\n",
              "    }\n",
              "  </style>\n",
              "\n",
              "      <script>\n",
              "        const buttonEl =\n",
              "          document.querySelector('#df-10a5f7b8-55d7-47fc-b7ca-2800bd605e78 button.colab-df-convert');\n",
              "        buttonEl.style.display =\n",
              "          google.colab.kernel.accessAllowed ? 'block' : 'none';\n",
              "\n",
              "        async function convertToInteractive(key) {\n",
              "          const element = document.querySelector('#df-10a5f7b8-55d7-47fc-b7ca-2800bd605e78');\n",
              "          const dataTable =\n",
              "            await google.colab.kernel.invokeFunction('convertToInteractive',\n",
              "                                                     [key], {});\n",
              "          if (!dataTable) return;\n",
              "\n",
              "          const docLinkHtml = 'Like what you see? Visit the ' +\n",
              "            '<a target=\"_blank\" href=https://colab.research.google.com/notebooks/data_table.ipynb>data table notebook</a>'\n",
              "            + ' to learn more about interactive tables.';\n",
              "          element.innerHTML = '';\n",
              "          dataTable['output_type'] = 'display_data';\n",
              "          await google.colab.output.renderOutput(dataTable, element);\n",
              "          const docLink = document.createElement('div');\n",
              "          docLink.innerHTML = docLinkHtml;\n",
              "          element.appendChild(docLink);\n",
              "        }\n",
              "      </script>\n",
              "    </div>\n",
              "  </div>\n",
              "  "
            ]
          },
          "metadata": {},
          "execution_count": 38
        }
      ]
    },
    {
      "cell_type": "code",
      "source": [
        "#Exportando o Dataframe para o formato CSV\n",
        "df_rd80_joss.to_csv('/content/drive/MyDrive/MestradoCAP/Lourenco/cap351/Datasets/df_final_rd80_joss.csv')"
      ],
      "metadata": {
        "id": "YoI3z8BU9CVi"
      },
      "execution_count": 39,
      "outputs": []
    },
    {
      "cell_type": "markdown",
      "source": [
        "# **Algumas análises**\n",
        "\n"
      ],
      "metadata": {
        "id": "CPSisBHdFNlx"
      }
    },
    {
      "cell_type": "code",
      "source": [
        "sns.set(style='whitegrid')"
      ],
      "metadata": {
        "id": "wysmg8f0lypJ"
      },
      "execution_count": 80,
      "outputs": []
    },
    {
      "cell_type": "code",
      "source": [
        "df_rd80_joss.isna().sum()"
      ],
      "metadata": {
        "id": "T1gMpwTN4S7O",
        "colab": {
          "base_uri": "https://localhost:8080/"
        },
        "outputId": "aa77b71f-2e01-42b8-e079-19d2e5bb75b0"
      },
      "execution_count": 94,
      "outputs": [
        {
          "output_type": "execute_result",
          "data": {
            "text/plain": [
              "Datetime                   0\n",
              "Ano                        0\n",
              "Mes                        0\n",
              "dia                        0\n",
              "Rain_Intensity             0\n",
              "radar_reflectivity         0\n",
              "Liquid_watercontent        0\n",
              "Mean_weight_diameter_mm    0\n",
              "Date                       0\n",
              "Year                       0\n",
              "Month                      0\n",
              "Day_of_week                0\n",
              "Time                       0\n",
              "session                    0\n",
              "dtype: int64"
            ]
          },
          "metadata": {},
          "execution_count": 94
        }
      ]
    },
    {
      "cell_type": "code",
      "source": [
        "df_rd80_joss.dropna(inplace=True)\n",
        "df_rd80_joss.reset_index(inplace=True, drop=True)"
      ],
      "metadata": {
        "id": "Pi3jj700efOk"
      },
      "execution_count": 95,
      "outputs": []
    },
    {
      "cell_type": "markdown",
      "source": [
        "Na célula abaixo iremos plotar a correlação entre as variáveis do **rd80**:"
      ],
      "metadata": {
        "id": "gODABQ-cgY7i"
      }
    },
    {
      "cell_type": "code",
      "source": [
        "corr = df_rd80_joss.corr()\n",
        "plt.figure(figsize=(10, 10))\n",
        "plt.title('Correlação entre as variáveis do rd80', fontsize=20, fontfamily='serif')\n",
        "sns.heatmap(corr[(corr >= 0.30) | (corr <= -0.30)],cmap='viridis', vmax=1.0, vmin=-1.0, linewidths=0.1, annot=True, annot_kws={\"size\": 14}, square=True);"
      ],
      "metadata": {
        "id": "v9pz9gxXfHl8",
        "colab": {
          "base_uri": "https://localhost:8080/",
          "height": 695
        },
        "outputId": "1719fd1e-502c-447e-bf2d-fcedd3d72b13"
      },
      "execution_count": 96,
      "outputs": [
        {
          "output_type": "display_data",
          "data": {
            "text/plain": [
              "<Figure size 720x720 with 2 Axes>"
            ],
            "image/png": "[encoded data removed]"
          },
          "metadata": {}
        }
      ]
    },
    {
      "cell_type": "markdown",
      "source": [
        "Agora vamos plotar a série temporal da intensidade das chuvas, separando os dados por períodos do dia: **Night, Morning, Afternoon** e **Evening** (Noite, Manhã, Tarde e Começo da noite)."
      ],
      "metadata": {
        "id": "3-caVw2aBe-5"
      }
    },
    {
      "cell_type": "code",
      "source": [
        "labels=['Night','Morning','Afternoon','Evening']\n",
        "\n",
        "figure(figsize=(16,9),dpi=80)\n",
        "plt.suptitle('SÉRIE TEMPORAL DA INTENSIDADE DAS CHUVAS', size=14)\n",
        "for res in range(0,4):\n",
        "    tot = round(df_rd80_joss.Rain_Intensity.loc[df_rd80_joss.session == labels[res]].sum(),2)\n",
        "    plt.subplot(2,2,res+1)\n",
        "    plt.title(str(tot)+' milímetros de água no período('+labels[res]+')')\n",
        "    #plt.xlabel(\"\")\n",
        "    plt.ylabel(\"Intensidade das chuvas (mm/h)\")\n",
        "    plt.plot(df_rd80_joss.loc[df_rd80_joss.session == labels[res]]['Rain_Intensity'], label=labels[res], color='red')\n",
        "    plt.legend()\n",
        "plt.show()"
      ],
      "metadata": {
        "colab": {
          "base_uri": "https://localhost:8080/",
          "height": 672
        },
        "id": "u1w496lXLPE7",
        "outputId": "ce2fde99-4d76-467c-c716-1bd1968ceae9"
      },
      "execution_count": 105,
      "outputs": [
        {
          "output_type": "display_data",
          "data": {
            "text/plain": [
              "<Figure size 1280x720 with 4 Axes>"
            ],
            "image/png": "[encoded data removed]"
          },
          "metadata": {}
        }
      ]
    },
    {
      "cell_type": "markdown",
      "source": [
        "Como podemos ver, o período do dia em que apresentou a maior intensidade de chuva (acúmulo total no período observado) foi no horário da tarde (Afternoon). Vamos plotar este dado de forma separada agora na célula abaixo."
      ],
      "metadata": {
        "id": "p6kHjCZD-lMf"
      }
    },
    {
      "cell_type": "code",
      "source": [
        "#Plotando o acumulado da intensidade da chuva do período da tarde\n",
        "\n",
        "plt.figure(figsize=(20, 5))\n",
        "df_rd80_joss.loc[df_rd80_joss.session == 'Afternoon']['Rain_Intensity'].plot(legend=True, color='red')"
      ],
      "metadata": {
        "colab": {
          "base_uri": "https://localhost:8080/",
          "height": 339
        },
        "id": "Hm8tYhAAVDXN",
        "outputId": "d2fd94be-6e5a-4336-d4e0-f3a027ce6403"
      },
      "execution_count": 106,
      "outputs": [
        {
          "output_type": "execute_result",
          "data": {
            "text/plain": [
              "<matplotlib.axes._subplots.AxesSubplot at 0x7f7986f310d0>"
            ]
          },
          "metadata": {},
          "execution_count": 106
        },
        {
          "output_type": "display_data",
          "data": {
            "text/plain": [
              "<Figure size 1440x360 with 1 Axes>"
            ],
            "image/png": "[encoded data removed]"
          },
          "metadata": {}
        }
      ]
    },
    {
      "cell_type": "markdown",
      "source": [
        "Rain Intensity (mm/h) X Mean weight diameter(mm)"
      ],
      "metadata": {
        "id": "VcMym0_LgfDc"
      }
    },
    {
      "cell_type": "code",
      "source": [
        "plt.figure(figsize=(20, 5))\n",
        "plt.scatter(df_rd80_joss.Rain_Intensity, df_rd80_joss.Mean_weight_diameter_mm, color='red')\n",
        "plt.title(\"Interação entre Intensidade da chuva e Diâmetro do peso médio\", size=15)\n",
        "plt.xlabel('Intensidade da chuva (Rain_Intensity)')\n",
        "plt.ylabel('Diâmetro do peso médio (Mean_weight_diameter_mm)')\n",
        "plt.show()"
      ],
      "metadata": {
        "colab": {
          "base_uri": "https://localhost:8080/",
          "height": 369
        },
        "id": "QyBeqPkFhhDf",
        "outputId": "7421a598-7469-42f7-fd0a-32676650da09"
      },
      "execution_count": 107,
      "outputs": [
        {
          "output_type": "display_data",
          "data": {
            "text/plain": [
              "<Figure size 1440x360 with 1 Axes>"
            ],
            "image/png": "[encoded data removed]"
          },
          "metadata": {}
        }
      ]
    },
    {
      "cell_type": "markdown",
      "source": [
        "# **Considerações**"
      ],
      "metadata": {
        "id": "BdyYRr2GCYd5"
      }
    },
    {
      "cell_type": "markdown",
      "source": [
        "# **References**\n",
        "\n",
        "ROSE, T.; CREWELL, S.; LÖHNERT, U.; SIMMER, C. A network suitable microwave radiometer for operational monitoring of the cloudy atmosphere, Atmos. Res., 75, 183–200, 2005.\n",
        "\n",
        "Tukey, John (1977). Exploratory Data Analysis. Addison-Wesley Publishing Company."
      ],
      "metadata": {
        "id": "HiSM5MhRw0Qj"
      }
    }
  ]
}