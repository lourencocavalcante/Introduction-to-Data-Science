{
  "nbformat": 4,
  "nbformat_minor": 0,
  "metadata": {
    "colab": {
      "provenance": [],
      "authorship_tag": "ABX9TyOsir0iM1VEiX9SgihugRKx",
      "include_colab_link": true
    },
    "kernelspec": {
      "name": "python3",
      "display_name": "Python 3"
    },
    "language_info": {
      "name": "python"
    }
  },
  "cells": [
    {
      "cell_type": "markdown",
      "metadata": {
        "id": "view-in-github",
        "colab_type": "text"
      },
      "source": [
        "<a href=\"https://colab.research.google.com/github/lourencocavalcante/Introduction-to-Data-Science/blob/main/INPE_CAP394_2022_ProjetoFinal_Lourenco.ipynb\" target=\"_parent\"><img src=\"https://colab.research.google.com/assets/colab-badge.svg\" alt=\"Open In Colab\"/></a>"
      ]
    },
    {
      "cell_type": "markdown",
      "source": [
        "[<img src=\"https://github.com/lourencocavalcante/LogosINPE/blob/main/logoinpe.png?raw=true\" width = 500 align=\"left\">](https://www.gov.br/inpe/pt-br)\n",
        "\n",
        "[<img src=\"https://github.com/lourencocavalcante/LogosINPE/blob/main/LogoCAP.png?raw=true\" width = 300 align=\"right\">](http://www.inpe.br/posgraduacao/cap/)"
      ],
      "metadata": {
        "id": "OCGrfcaNk9Ju"
      }
    },
    {
      "cell_type": "markdown",
      "source": [
        "# <span style=\"color:#336699\">Análise Exploratória de Dados (EDA) para investigar ocorrência de valores não realísticos e indícios de dados do disdrômetro RD80 e do radiômetro de microondas MP3000A</span>\n",
        "<hr style=\"border:2px solid #0077b9;\">\n",
        "\n",
        "<br/>\n",
        "\n",
        "<div style=\"text-align: center;font-size: 100%;\">\n",
        "    Autor: Lourenço José Cavalcante Neto\n",
        "    <br/><br/>\n",
        "    Instituto Nacional de Pesquisas Espaciais (INPE)\n",
        "    <br/>\n",
        "    Avenida dos Astronautas, 1758, Jardim da Granja, São José dos Campos, SP 12227-010, Brazil\n",
        "    <br/><br/>\n",
        "    E-mail: <a href=\"mailto:lourenco.cavalcante@ifto.edu.b\">lourenco.cavalcante@ifto.edu.br</a>\n",
        "    <br/><br/>\n",
        "    Data de entrega: 16 de agosto de 2022\n",
        "    <br>\n",
        "    Professores: Dr. Rafael Duarte Coelho Dos Santos e Dr. Gilberto Ribeiro De Queiroz\n",
        "</div>\n",
        "\n",
        "<br/>\n",
        "\n",
        "<div style=\"text-align: justify;  margin-left: 25%; margin-right: 25%;\">\n",
        "<b>Objetivo.</b> Esse caderno Jupyter tem como objetivo apresentar o uso do MLP na tarefa de regressão, como parte do Projeto 1 da disciplina de Neurocomputação (CAP-351). Os dados utilizados são referentes ao conjunto de análises de eficiência energética considerando 12 tipos de edifícios diferentes. Os edifícios diferem quanto à área envidraçada, distribuição da área envidraçada, orientação, entre outros parâmetros. O conjunto de dados é composto por 768 amostras e 8 atributos, com o objetivo de prever duas respostas de valor real.\n",
        "</div>\n",
        "\n",
        "<br/>\n",
        "<div>\n",
        "    <b>Os dados podem ser encontrados em:</b>\n",
        "    <div style=\"margin-left: 10px; margin-right: 10px\">\n",
        "    https://\n",
        "    </div>\n",
        "</div>"
      ],
      "metadata": {
        "id": "ect6m7UiI28E"
      }
    }
  ]
}