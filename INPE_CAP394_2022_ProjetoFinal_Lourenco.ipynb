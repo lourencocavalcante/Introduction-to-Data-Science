{
  "nbformat": 4,
  "nbformat_minor": 0,
  "metadata": {
    "colab": {
      "provenance": [],
      "authorship_tag": "ABX9TyPyxlQz3v6rosOffCKgWQks",
      "include_colab_link": true
    },
    "kernelspec": {
      "name": "python3",
      "display_name": "Python 3"
    },
    "language_info": {
      "name": "python"
    }
  },
  "cells": [
    {
      "cell_type": "markdown",
      "metadata": {
        "id": "view-in-github",
        "colab_type": "text"
      },
      "source": [
        "<a href=\"https://colab.research.google.com/github/lourencocavalcante/Introduction-to-Data-Science/blob/main/INPE_CAP394_2022_ProjetoFinal_Lourenco.ipynb\" target=\"_parent\"><img src=\"https://colab.research.google.com/assets/colab-badge.svg\" alt=\"Open In Colab\"/></a>"
      ]
    },
    {
      "cell_type": "markdown",
      "source": [
        "[<img src=\"https://github.com/lourencocavalcante/LogosINPE/blob/main/logoinpe.png?raw=true\" width = 500 align=\"left\">](https://www.gov.br/inpe/pt-br)\n",
        "\n",
        "[<img src=\"https://github.com/lourencocavalcante/LogosINPE/blob/main/LogoCAP.png?raw=true\" width = 300 align=\"right\">](http://www.inpe.br/posgraduacao/cap/)"
      ],
      "metadata": {
        "id": "OCGrfcaNk9Ju"
      }
    },
    {
      "cell_type": "markdown",
      "source": [
        "# <span style=\"color:#336699\">Análise Exploratória de Dados (EDA) para investigar ocorrência de valores não realísticos e indícios de dados do disdrômetro RD80 e do radiômetro de microondas MP3000A</span>\n",
        "<hr style=\"border:2px solid #0077b9;\">\n",
        "\n",
        "<br/>\n",
        "\n",
        "<div style=\"text-align: center;font-size: 100%;\">\n",
        "    <b>CAP-394 – Introdução à Ciência de Dados</b>\n",
        "    <br/>\n",
        "    <b>Docentes:</b> Dr. Rafael Duarte Coelho dos Santos e Dr. Gilberto Ribeiro de Queiroz\n",
        "    <br/><br/>\n",
        "    <b>Discente:</b> Lourenço José Cavalcante Neto\n",
        "    <br/>\n",
        "    <b>E-mail:</b> <a href=\"mailto:lourenco.cavalcante@ifto.edu.b\">lourenco.cavalcante@ifto.edu.br</a>\n",
        "\n",
        "</div>\n",
        "\n",
        "<br/>\n",
        "\n",
        "<div style=\"text-align: justify;  margin-left: 20%; margin-right: 20%;\">\n",
        "<b>Motivação: </b> O presente projeto compõe o trabalho final da disciplina CAP-394 - Introdução à Data Scienc, e é parte dos requisitos mínimos para aprovação na referida, no curso de Mestrado em Computação Aplicada do Instituto Nacional de Pesquisas Espaciais (INPE) e ministrada pelos professores Dr. Rafael Duarte Coelho dos Santos e Dr. Gilberto Ribeiro de Queiroz. O principal objetivo é analizar dados meteorológicos oriundos dos equipamentos Radiômetro de Microondas MP3000A e do Disdrômetro RD80, nos quais estão instalados próximos à torre ATTO, em sítio chamado Campina, na região amazônica. \n",
        "</div>\n",
        "\n",
        "<br/>\n",
        "<div>\n",
        "    <b>Os dados podem ser encontrados em:</b>\n",
        "    <div style=\"margin-left: 5px; margin-right: 5px\">\n",
        "    https://\n",
        "    </div>\n",
        "</div>"
      ],
      "metadata": {
        "id": "ect6m7UiI28E"
      }
    }
  ]
}