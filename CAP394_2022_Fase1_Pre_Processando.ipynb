{
  "nbformat": 4,
  "nbformat_minor": 0,
  "metadata": {
    "colab": {
      "provenance": [],
      "authorship_tag": "ABX9TyOUn+oYzFKaOPpqcvYdWtrw",
      "include_colab_link": true
    },
    "kernelspec": {
      "name": "python3",
      "display_name": "Python 3"
    },
    "language_info": {
      "name": "python"
    }
  },
  "cells": [
    {
      "cell_type": "markdown",
      "metadata": {
        "id": "view-in-github",
        "colab_type": "text"
      },
      "source": [
        "<a href=\"https://colab.research.google.com/github/lourencocavalcante/Introduction-to-Data-Science/blob/main/CAP394_2022_Fase1_Pre_Processando.ipynb\" target=\"_parent\"><img src=\"https://colab.research.google.com/assets/colab-badge.svg\" alt=\"Open In Colab\"/></a>"
      ]
    },
    {
      "cell_type": "markdown",
      "source": [
        "[<img src=\"https://github.com/lourencocavalcante/LogosINPE/blob/main/logoinpe.png?raw=true\" width = 500 align=\"left\">](https://www.gov.br/inpe/pt-br)\n",
        "\n",
        "[<img src=\"https://github.com/lourencocavalcante/LogosINPE/blob/main/LogoCAP.png?raw=true\" width = 300 align=\"right\">](http://www.inpe.br/posgraduacao/cap/)"
      ],
      "metadata": {
        "id": "OCGrfcaNk9Ju"
      }
    },
    {
      "cell_type": "markdown",
      "source": [
        "# <span style=\"color:#336699\">Análise Exploratória de Dados (EDA) para investigar ocorrência de valores não realísticos e a correlação entre os dados do disdrômetro RD80 e do radiômetro de microondas MP3000A</span>\n",
        "<hr style=\"border:2px solid #0077b9;\">\n",
        "\n",
        "<br/>\n",
        "\n",
        "<div style=\"text-align: center;font-size: 100%;\">\n",
        "    <b>CAP-394 – Introdução à Ciência de Dados</b>\n",
        "    <br/>\n",
        "    <b>Docentes:</b> Dr. Rafael Duarte Coelho dos Santos e Dr. Gilberto Ribeiro de Queiroz\n",
        "    <br/><br/>\n",
        "    <b>Discente:</b> Lourenço José Cavalcante Neto\n",
        "    <br/>\n",
        "    <b>E-mail:</b> <a href=\"mailto:lourenco.cavalcante@ifto.edu.b\">lourenco.cavalcante@ifto.edu.br</a>\n",
        "\n",
        "</div>\n",
        "\n",
        "<br/>\n",
        "\n",
        "<div style=\"text-align: justify;  margin-left: 20%; margin-right: 20%;\">\n",
        "<b>Objetivo: </b> O principal objetivo deste notebook é apresentar o Pré-processamento e análise básica de dados meteorológicos, considerando a aquisição, extração e inserção no ambiente de execução, manutenção, armazenamento, limpeza, processamento, preparação e arquitetura dos dados.\n",
        "</div>"
      ],
      "metadata": {
        "id": "ect6m7UiI28E"
      }
    },
    {
      "cell_type": "markdown",
      "source": [
        "Este notebook também pode ser visualizado no diretório da disciplina CAP-394 no Github: https://github.com/lourencocavalcante/Introduction-to-Data-Science.git"
      ],
      "metadata": {
        "id": "nFcD5Gx3Vuyz"
      }
    },
    {
      "cell_type": "markdown",
      "source": [
        "# **Importação de módulos e bibliotecas**"
      ],
      "metadata": {
        "id": "-IUoRbDBTZZj"
      }
    },
    {
      "cell_type": "markdown",
      "source": [
        "Existem muitas bibliotecas nas quais podem ser utilizadas para realizar o pré-processamento de dados. Entre elas, podemos destacar a biblioteca **Pandas**. Trata-se de uma biblioteca para leitura, manipulação e análise de dados tabulados. Essa biblioteca oferece estruturas de dados e operações para manipular conjuntos massivos de tabelas numéricas e séries temporais de forma otimizada. No python, por convensão, as bibliotecas são importadas conforme podemos ver na célula abaixo:"
      ],
      "metadata": {
        "id": "iQa0kCsuTx3q"
      }
    },
    {
      "cell_type": "code",
      "source": [
        "import pandas as pd\n",
        "import numpy as np\n",
        "import seaborn as sns\n",
        "import matplotlib.pyplot as plt\n",
        "from matplotlib.pyplot import figure\n",
        "import math\n",
        "import calendar\n",
        "import datetime"
      ],
      "metadata": {
        "id": "HR79xHB6ULVt"
      },
      "execution_count": null,
      "outputs": []
    },
    {
      "cell_type": "markdown",
      "source": [
        "# **Dataset**"
      ],
      "metadata": {
        "id": "7Okfq4RbVmXD"
      }
    },
    {
      "cell_type": "markdown",
      "source": [
        "Os dados são de dois equipamentos instalados próximo à torre ATTO, em um sítio chamado Campina, na região Amazônica: **O Radiômetro de microondas MP3000A** e o **Disdrômetro RD80 (Joss)**. O MP3000A mede variáveis Ambiente, Radiância no espectro de onda do microonda em diversos canais e Estimativas de parâmetros de nuvens. Já o RD80 mede a distribuição das gotas de chuva que chegam à superfície.\n",
        "\n",
        "Os dados compreendem o período de 17 de março de 2020 a 07 Julho 2022."
      ],
      "metadata": {
        "id": "kFEDKqQBWe7K"
      }
    }
  ]
}