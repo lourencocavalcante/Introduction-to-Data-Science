{
  "nbformat": 4,
  "nbformat_minor": 0,
  "metadata": {
    "colab": {
      "provenance": [],
      "authorship_tag": "ABX9TyN7xAyvp54oWwtfQDAocLSn",
      "include_colab_link": true
    },
    "kernelspec": {
      "name": "python3",
      "display_name": "Python 3"
    },
    "language_info": {
      "name": "python"
    }
  },
  "cells": [
    {
      "cell_type": "markdown",
      "metadata": {
        "id": "view-in-github",
        "colab_type": "text"
      },
      "source": [
        "<a href=\"https://colab.research.google.com/github/lourencocavalcante/Introduction-to-Data-Science/blob/main/CAP394_2022_Fase1_Pre_Processando.ipynb\" target=\"_parent\"><img src=\"https://colab.research.google.com/assets/colab-badge.svg\" alt=\"Open In Colab\"/></a>"
      ]
    },
    {
      "cell_type": "markdown",
      "source": [
        "[<img src=\"https://github.com/lourencocavalcante/LogosINPE/blob/main/logoinpe.png?raw=true\" width = 500 align=\"left\">](https://www.gov.br/inpe/pt-br)\n",
        "\n",
        "[<img src=\"https://github.com/lourencocavalcante/LogosINPE/blob/main/LogoCAP.png?raw=true\" width = 300 align=\"right\">](http://www.inpe.br/posgraduacao/cap/)"
      ],
      "metadata": {
        "id": "OCGrfcaNk9Ju"
      }
    },
    {
      "cell_type": "markdown",
      "source": [
        "# <span style=\"color:#336699\">Análise Exploratória de Dados (EDA) para investigar ocorrência de valores não realísticos e a correlação entre os dados do disdrômetro RD80 e do radiômetro de microondas MP3000A</span>\n",
        "<hr style=\"border:2px solid #0077b9;\">\n",
        "\n",
        "<br/>\n",
        "\n",
        "<div style=\"text-align: center;font-size: 100%;\">\n",
        "    <b>CAP-394 – Introdução à Ciência de Dados</b>\n",
        "    <br/>\n",
        "    <b>Docentes:</b> Dr. Rafael Duarte Coelho dos Santos e Dr. Gilberto Ribeiro de Queiroz\n",
        "    <br/><br/>\n",
        "    <b>Discente:</b> Lourenço José Cavalcante Neto\n",
        "    <br/>\n",
        "    <b>E-mail:</b> <a href=\"mailto:lourenco.cavalcante@ifto.edu.b\">lourenco.cavalcante@ifto.edu.br</a>\n",
        "\n",
        "</div>\n",
        "\n",
        "<br/>\n",
        "\n",
        "<div style=\"text-align: justify;  margin-left: 20%; margin-right: 20%;\">\n",
        "<b>Objetivo: </b> O principal objetivo deste notebook é apresentar o Pré-processamento e análise básica de dados meteorológicos, considerando a aquisição, extração e inserção no ambiente de execução, manutenção, armazenamento, limpeza, processamento, preparação e arquitetura dos dados.\n",
        "</div>"
      ],
      "metadata": {
        "id": "ect6m7UiI28E"
      }
    },
    {
      "cell_type": "markdown",
      "source": [
        "Este notebook também pode ser visualizado no diretório da disciplina CAP-394 no Github: https://github.com/lourencocavalcante/Introduction-to-Data-Science.git"
      ],
      "metadata": {
        "id": "nFcD5Gx3Vuyz"
      }
    },
    {
      "cell_type": "markdown",
      "source": [
        "# **Importação de módulos e bibliotecas**"
      ],
      "metadata": {
        "id": "-IUoRbDBTZZj"
      }
    },
    {
      "cell_type": "markdown",
      "source": [
        "Existem muitas bibliotecas que podem ser utilizadas para realizar o pré-processamento de dados. Entre elas podemos destacar a biblioteca **Pandas**. Trata-se de uma biblioteca para leitura, manipulação e análise de dados tabulados. Essa biblioteca oferece estruturas de dados e operações para manipular conjuntos massivos de tabelas numéricas e séries temporais de forma otimizada. No python, por convensão, as bibliotecas são importadas conforme podemos ver na célula abaixo:"
      ],
      "metadata": {
        "id": "iQa0kCsuTx3q"
      }
    },
    {
      "cell_type": "code",
      "source": [
        "import pandas as pd\n",
        "import numpy as np\n",
        "import seaborn as sns\n",
        "import matplotlib.pyplot as plt\n",
        "from matplotlib.pyplot import figure\n",
        "import math\n",
        "import calendar\n",
        "import datetime"
      ],
      "metadata": {
        "id": "HR79xHB6ULVt"
      },
      "execution_count": 1,
      "outputs": []
    },
    {
      "cell_type": "markdown",
      "source": [
        "# **Dataset**"
      ],
      "metadata": {
        "id": "7Okfq4RbVmXD"
      }
    },
    {
      "cell_type": "markdown",
      "source": [
        "Os dados meteorológicos são oriundos de dois equipamentos (**Radiômetro de Microondas \"MP3000A\"** e o **Disdrômetro \"RD80\"**), ambos instalados próximo à torre ATTO, em um sítio chamado Campina, na região Amazônica. O MP3000A mede diversas variáveis ambiente, entre elas a radiância no espectro de onda do microonda em diversos canais e estimativas de parâmetros de nuvens. Já o RD80 mede a distribuição das gotas de chuva que chegam à superfície.\n",
        "\n",
        "Os dados compreendem o período de 17 de março de 2020 a 07 julho 2022.\n",
        "\n",
        "Temos quatro tipos de arquivos:\n",
        "\n",
        "**level1_output_sfc.txt**: \n",
        "Neste arquivo estão os dados do ambiente próximo à superfície.\n",
        "\n",
        "**level1_output_bt.txt**: \n",
        "Neste arquivos estão os dados das medidas dos canais do microonda.\n",
        "\n",
        "**level2_output_cld_atto.txt**: \n",
        "Neste arquivo estão as variáveis estimadas associadas a parâmetros de nuvens.\n",
        "\n",
        "**JWD_campina_report_RZLwcDmDtNdrop_b2.1_report.txt**: \n",
        "Neste arquivo estão dados de medida da distribuição das gotas de chuva que chegam à superfície."
      ],
      "metadata": {
        "id": "kFEDKqQBWe7K"
      }
    },
    {
      "cell_type": "markdown",
      "source": [
        "## **Obtendo os arquivos**"
      ],
      "metadata": {
        "id": "BwRSFhwpcAkb"
      }
    },
    {
      "cell_type": "code",
      "source": [
        "#Vamos baixar os dados do Google Drive para o Notebook\n",
        "\n",
        "!gdown --id 1DflICrG3vlewOXnLYrsEqhK0WFn2Bz0U #Down. WD_campina_report_RZLwcDmDtNdrop_b2.1_report\n",
        "!gdown --id 1HF3z0QjMhbOMMzvzhGLHmVHg0D6GQx5d #Down. level1_output_sfc\n",
        "!gdown --id 1exlLcdlPzLOPhzC9l97TNlMnysEH0AWk #Down. level1_output_bt\n",
        "!gdown --id 1suHWSYCt_3066gmPylMU9un9owYI3yVD #Down. level2_output_cld_atto"
      ],
      "metadata": {
        "colab": {
          "base_uri": "https://localhost:8080/"
        },
        "id": "o5eAC57TcOF9",
        "outputId": "27daf977-d1e2-43fa-be00-048613e8b3ef"
      },
      "execution_count": 2,
      "outputs": [
        {
          "output_type": "stream",
          "name": "stdout",
          "text": [
            "/usr/local/lib/python3.7/dist-packages/gdown/cli.py:131: FutureWarning: Option `--id` was deprecated in version 4.3.1 and will be removed in 5.0. You don't need to pass it anymore to use a file ID.\n",
            "  category=FutureWarning,\n",
            "Downloading...\n",
            "From: https://drive.google.com/uc?id=1DflICrG3vlewOXnLYrsEqhK0WFn2Bz0U\n",
            "To: /content/JWD_campina_report_RZLwcDmDtNdrop_b2.1_report.txt\n",
            "100% 147M/147M [00:00<00:00, 158MB/s]\n",
            "/usr/local/lib/python3.7/dist-packages/gdown/cli.py:131: FutureWarning: Option `--id` was deprecated in version 4.3.1 and will be removed in 5.0. You don't need to pass it anymore to use a file ID.\n",
            "  category=FutureWarning,\n",
            "Downloading...\n",
            "From: https://drive.google.com/uc?id=1HF3z0QjMhbOMMzvzhGLHmVHg0D6GQx5d\n",
            "To: /content/level1_output_sfc.txt\n",
            "100% 69.7M/69.7M [00:00<00:00, 299MB/s]\n",
            "/usr/local/lib/python3.7/dist-packages/gdown/cli.py:131: FutureWarning: Option `--id` was deprecated in version 4.3.1 and will be removed in 5.0. You don't need to pass it anymore to use a file ID.\n",
            "  category=FutureWarning,\n",
            "Downloading...\n",
            "From: https://drive.google.com/uc?id=1exlLcdlPzLOPhzC9l97TNlMnysEH0AWk\n",
            "To: /content/level1_output_bt.txt\n",
            "100% 168M/168M [00:01<00:00, 108MB/s]\n",
            "/usr/local/lib/python3.7/dist-packages/gdown/cli.py:131: FutureWarning: Option `--id` was deprecated in version 4.3.1 and will be removed in 5.0. You don't need to pass it anymore to use a file ID.\n",
            "  category=FutureWarning,\n",
            "Downloading...\n",
            "From: https://drive.google.com/uc?id=1suHWSYCt_3066gmPylMU9un9owYI3yVD\n",
            "To: /content/level2_output_cld_atto.txt\n",
            "100% 58.2M/58.2M [00:00<00:00, 241MB/s]\n"
          ]
        }
      ]
    },
    {
      "cell_type": "markdown",
      "source": [
        "Com o objetivo de facilitar a leitura dos dados e torná-los **tidy**, primeiramente será necessário carregá-los como um **dataframe**. Vamos carregar os dados e criar os dataframes:"
      ],
      "metadata": {
        "id": "-8o27PICcTgz"
      }
    },
    {
      "cell_type": "code",
      "source": [
        "#Abrindo os dados e criando os Dataframes\n",
        "df_rd80_joss = pd.read_table('./JWD_campina_report_RZLwcDmDtNdrop_b2.1_report.txt',header=None, delim_whitespace=True)\n",
        "df_mp3000A_1 = pd.read_table('./level1_output_sfc.txt',header=None,delim_whitespace=True)\n",
        "df_mp3000A_2 = pd.read_table('./level1_output_bt.txt',header=None,delim_whitespace=True)\n",
        "df_mp3000A_3 = pd.read_table('./level2_output_cld_atto.txt',header=None,delim_whitespace=True)"
      ],
      "metadata": {
        "id": "dEKpBOUGdBaM"
      },
      "execution_count": 3,
      "outputs": []
    }
  ]
}