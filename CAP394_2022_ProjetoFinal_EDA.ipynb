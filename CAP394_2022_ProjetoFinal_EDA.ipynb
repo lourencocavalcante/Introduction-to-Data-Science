{
  "nbformat": 4,
  "nbformat_minor": 0,
  "metadata": {
    "colab": {
      "provenance": [],
      "collapsed_sections": [],
      "machine_shape": "hm",
      "include_colab_link": true
    },
    "kernelspec": {
      "name": "python3",
      "display_name": "Python 3"
    },
    "language_info": {
      "name": "python"
    },
    "accelerator": "GPU",
    "gpuClass": "standard"
  },
  "cells": [
    {
      "cell_type": "markdown",
      "metadata": {
        "id": "view-in-github",
        "colab_type": "text"
      },
      "source": [
        "<a href=\"https://colab.research.google.com/github/lourencocavalcante/Introduction-to-Data-Science/blob/main/CAP394_2022_ProjetoFinal_EDA.ipynb\" target=\"_parent\"><img src=\"https://colab.research.google.com/assets/colab-badge.svg\" alt=\"Open In Colab\"/></a>"
      ]
    },
    {
      "cell_type": "markdown",
      "source": [
        "[<img src=\"https://github.com/lourencocavalcante/LogosINPE/blob/main/logoinpe.png?raw=true\" width = 500 align=\"left\">](https://www.gov.br/inpe/pt-br)\n",
        "\n",
        "[<img src=\"https://github.com/lourencocavalcante/LogosINPE/blob/main/LogoCAP.png?raw=true\" width = 300 align=\"right\">](http://www.inpe.br/posgraduacao/cap/)"
      ],
      "metadata": {
        "id": "OCGrfcaNk9Ju"
      }
    },
    {
      "cell_type": "markdown",
      "source": [
        "# <span style=\"color:#336699\">Uma análise exploratória de dados meteorologicos: investigando valores não realísticos e a correlação de atributos do disdrômetro RD80 e do radiômetro de microondas MP3000A</span>\n",
        "<hr style=\"border:2px solid #0077b9;\">\n",
        "\n",
        "<br/>\n",
        "\n",
        "<div style=\"text-align: center;font-size: 110%;\">\n",
        "    <b>CAP-394 – Introdução à Ciência de Dados</b>\n",
        "    <br/>\n",
        "    <b>Docentes:</b> Dr. Rafael Duarte Coelho dos Santos e Dr. Gilberto Ribeiro de Queiroz\n",
        "    <br/><br/>\n",
        "    <b>Discente:</b> Lourenço José Cavalcante Neto\n",
        "    <br/>\n",
        "    <b>E-mail:</b> <a href=\"mailto:lourenco.cavalcante@ifto.edu.b\">lourenco.cavalcante@ifto.edu.br</a>\n",
        "\n",
        "</div>\n",
        "\n",
        "<br/>\n",
        "\n",
        "<div style=\"text-align: justify;  margin-left: 20%; margin-right: 20%;\">\n",
        "<b>Motivação: </b> O presente projeto compõe o trabalho final da disciplina <i>CAP-394 - Introdução à Data Scienc</i>, do curso de Mestrado em Computação Aplicada do Instituto Nacional de Pesquisas Espaciais (INPE), ministrada pelos professores Dr. Rafael Duarte Coelho dos Santos e Dr. Gilberto Ribeiro de Queiroz. O principal objetivo é analizar dados meteorológicos oriundos de dois equipamentos ( Radiômetro de Microondas MP3000A e o Disdrômetro RD80) instalados nas proximidades da torre ATTO, em sítio chamado Campina, na região amazônica, para tentar responder as seguintes perguntas:\n",
        "<br/><br/>\n",
        "1. Através da análise de atributos, é possível identificar valores não realísticos? É possível serem identificadas correlações entre os dados do MP3000A e do RD80?\n",
        "<br/>\n",
        "2. Quais os períodos do dia em que as chuvas apresentaram maior intensidade (mm/h)?\n",
        "<br/>\n",
        "3. Através da análise é possível classificar a intensidade das chuvas?\n",
        "<br/>\n",
        "4. É possível serem identificadas correlações entre os atributos de Temperatura do Ambiente (°C), Temperatura no canal Infravermelho (°C), Umidade Relativa e a Intensidade da chuva (mm/h) ?\n",
        "<br/>\n",
        "5. É possível aplicar alguma técnica de Inteligência Artificial que faça a previsão de chuva e sua intensidade para curto prazo?\n",
        "</div>\n"
      ],
      "metadata": {
        "id": "ect6m7UiI28E"
      }
    },
    {
      "cell_type": "markdown",
      "source": [
        "# **Introdução**\n",
        "\n",
        "A ciência de dados é a prática de mineração de grandes conjuntos de dados brutos, estruturados e não estruturados, para identificar padrões e extrair deles insights acionáveis. Este é um campo interdisciplinar, e os fundamentos da ciência de dados incluem estatísticas, inferência, ciência da computação, análise preditiva, desenvolvimento de algoritmos de aprendizado de máquina e novas tecnologias para obter insights de big data.\n",
        "\n",
        "Este notebook contém uma Análise Exploratória de Dados meteorológicos, tal qual procuraremos identificar valores não realísticos, correlações entre os atributos, os períodos do dia em que as chuvas apresentaram maior intensidade (mm/h). Além disso, tentaremos classificar a intensidade das chuvas, tomando como referência os dados da variável **Rain Intensity(mm/h)**. Por fim, com base nos resultados obtidos com a análise, faremos uma avaliação se é possível não aplicar alguma técnica de Inteligência Artificial que faça a predição de chuva e sua intensidade fazendo o uso desses dados. \n",
        "\n",
        "Este notebook também pode ser visualizado no meu diretório de materiais e atividades da disciplina **CAP-394** no **Github**,  [Clicando aqui](https://github.com/lourencocavalcante/Introduction-to-Data-Science.git)."
      ],
      "metadata": {
        "id": "UTePmjPO0HTy"
      }
    },
    {
      "cell_type": "markdown",
      "source": [
        "## **Análise Exploratória de Dados (EDA)**\n",
        "\n",
        "A análise exploratória dos dados (AED) foi um termo que ganhou bastante popularidade quando Tukey publicou o livro Exploratory Data Analysis em 1977 que tratava uma “busca por conhecimento antes da análise de dados de fato”. Ocorre quando busca-se obter informações ocultas sobre os dados, tais como: variação, anomalias, distribuição, tendências, padrões e relações."
      ],
      "metadata": {
        "id": "m5edDOP0dMVZ"
      }
    },
    {
      "cell_type": "markdown",
      "metadata": {
        "id": "7Okfq4RbVmXD"
      },
      "source": [
        "## **Dataset**\n",
        "\n",
        "Os dados meteorológicos são oriundos de dois equipamentos (**Radiômetro de Microondas \"MP3000A\"** e o **Disdrômetro \"RD80\"**), ambos instalados próximo à torre ATTO, em um sítio chamado Campina, na região Amazônica. O MP3000A mede diversas variáveis ambiente, entre elas a radiância no espectro de onda do microonda em diversos canais e estimativas de parâmetros de nuvens. Já o RD80 mede a distribuição das gotas de chuva que chegam à superfície.\n",
        "\n",
        "Os dados compreendem o período de 17 de março de 2020 a 07 julho 2022."
      ]
    },
    {
      "cell_type": "markdown",
      "metadata": {
        "id": "-IUoRbDBTZZj"
      },
      "source": [
        "## **Importação de módulos e bibliotecas**\n",
        "São várias as bibliotecas que podem ser utilizadas para realizar o pré-processamento de dados. Entre elas podemos destacar a biblioteca **Pandas**. Trata-se de uma biblioteca para leitura, manipulação e análise de dados tabulados. Essa biblioteca oferece estruturas de dados e operações para manipular conjuntos massivos de tabelas numéricas e séries temporais de forma otimizada. No python, por convensão, as bibliotecas são importadas conforme podemos ver na célula abaixo:"
      ]
    },
    {
      "cell_type": "code",
      "execution_count": 169,
      "metadata": {
        "id": "HR79xHB6ULVt"
      },
      "outputs": [],
      "source": [
        "import pandas as pd\n",
        "from pandas import read_csv\n",
        "import numpy as np\n",
        "import seaborn as sns\n",
        "import matplotlib.pyplot as plt\n",
        "from matplotlib.pyplot import figure\n",
        "import math\n",
        "import calendar\n",
        "import datetime"
      ]
    },
    {
      "cell_type": "markdown",
      "metadata": {
        "id": "BwRSFhwpcAkb"
      },
      "source": [
        "## **Obtendo os arquivos de dados**"
      ]
    },
    {
      "cell_type": "code",
      "execution_count": 170,
      "metadata": {
        "colab": {
          "base_uri": "https://localhost:8080/"
        },
        "id": "o5eAC57TcOF9",
        "outputId": "f3c36cc4-a3dd-4eb4-8b20-7bc2eddda1a8"
      },
      "outputs": [
        {
          "output_type": "stream",
          "name": "stdout",
          "text": [
            "/usr/local/lib/python3.7/dist-packages/gdown/cli.py:131: FutureWarning: Option `--id` was deprecated in version 4.3.1 and will be removed in 5.0. You don't need to pass it anymore to use a file ID.\n",
            "  category=FutureWarning,\n",
            "Downloading...\n",
            "From: https://drive.google.com/uc?id=1pA0E4cUH0GdSD7EH_rARU5DqWOcGrcyW\n",
            "To: /content/df_RD80_JOSS_final.csv\n",
            "100% 34.9M/34.9M [00:00<00:00, 262MB/s]\n",
            "/usr/local/lib/python3.7/dist-packages/gdown/cli.py:131: FutureWarning: Option `--id` was deprecated in version 4.3.1 and will be removed in 5.0. You don't need to pass it anymore to use a file ID.\n",
            "  category=FutureWarning,\n",
            "Downloading...\n",
            "From: https://drive.google.com/uc?id=15YqFCbGZBuQDMO2dNh8hjMhhOJwRicUf\n",
            "To: /content/df_MP3000A_final.csv\n",
            "100% 410M/410M [00:01<00:00, 333MB/s]\n"
          ]
        }
      ],
      "source": [
        "#Vamos baixar os dados do Google Drive para o Notebook\n",
        "\n",
        " #Down. WD_campina_report_RZLwcDmDtNdrop_b2.1_report (df_RD80_JOSS_final)\n",
        "!gdown --id 1pA0E4cUH0GdSD7EH_rARU5DqWOcGrcyW\n",
        "\n",
        " #Down. level1_output_sfc, level1_output_bt, level2_output_cld_atto (df_MP3000A_final)\n",
        "!gdown --id 15YqFCbGZBuQDMO2dNh8hjMhhOJwRicUf"
      ]
    },
    {
      "cell_type": "markdown",
      "metadata": {
        "id": "-8o27PICcTgz"
      },
      "source": [
        "Temos 02 (dois) arquivos:\n",
        "\n",
        "* **df_MP3000A_final.csv**: \n",
        "`Neste arquivo estão os dados do ambiente próximo à superfície, dados das medidas dos canais do microonda e as variáveis estimadas associadas a parâmetros de nuvens.`\n",
        "\n",
        "* **df_RD80_JOSS_final.csv**: \n",
        "`Neste arquivo estão dados de medida da distribuição das gotas de chuva que chegam à superfície.`\n",
        "\n",
        "Com o objetivo de facilitar a leitura dos dados e torná-los **tidy**, primeiramente será necessário carregá-los como um **dataframe**. Vamos carregar os dados e criar os dataframes:"
      ]
    },
    {
      "cell_type": "code",
      "source": [
        "#Carregando os dados e criando os Dataframes\n",
        "df_RD80_JOSS=pd.read_csv('/content/df_RD80_JOSS_final.csv', index_col=[0])\n",
        "\n",
        "#Carregando os dados e criando os Dataframes\n",
        "df_MP3000A=pd.read_csv('/content/df_MP3000A_final.csv', index_col=[0])"
      ],
      "metadata": {
        "colab": {
          "base_uri": "https://localhost:8080/"
        },
        "id": "nwytCSUZOAe3",
        "outputId": "925f3081-473a-411a-e289-b069763e7f3d"
      },
      "execution_count": 171,
      "outputs": [
        {
          "output_type": "stream",
          "name": "stderr",
          "text": [
            "/usr/local/lib/python3.7/dist-packages/IPython/core/interactiveshell.py:3326: DtypeWarning: Columns (18) have mixed types.Specify dtype option on import or set low_memory=False.\n",
            "  exec(code_obj, self.user_global_ns, self.user_ns)\n"
          ]
        }
      ]
    },
    {
      "cell_type": "code",
      "source": [
        "#Vamos verificar o tamanho dos Datasets e visualizar as suas colunas.\n",
        "print('TAMANHO DO DATASET E QUANTIDADE DE ATRIBUTOS:\\n')\n",
        "print('Tamanho do dataset: ',df_RD80_JOSS.shape[0], ' - Quantidade de atributos: ', df_RD80_JOSS.shape[1])\n",
        "print('Tamanho do dataset: ',df_MP3000A.shape[0], ' - Quantidade de atributos: ', df_MP3000A.shape[1])"
      ],
      "metadata": {
        "colab": {
          "base_uri": "https://localhost:8080/"
        },
        "id": "lL3QNbhMY2E5",
        "outputId": "9145f4a7-c187-4ea5-a3e1-83c99e9f1370"
      },
      "execution_count": 172,
      "outputs": [
        {
          "output_type": "stream",
          "name": "stdout",
          "text": [
            "TAMANHO DO DATASET E QUANTIDADE DE ATRIBUTOS:\n",
            "\n",
            "Tamanho do dataset:  315420  - Quantidade de atributos:  18\n",
            "Tamanho do dataset:  1919064  - Quantidade de atributos:  36\n"
          ]
        }
      ]
    },
    {
      "cell_type": "markdown",
      "source": [
        "Dado tamanho significativo dos nossos Datasets, para evitar problemas com custo computacional, iremos utilizar **somente os dados do ano de 2022**. Vamos aplicar um filtro com a função **query()** para pegar somente os dados que quremos:"
      ],
      "metadata": {
        "id": "ij8_cxgWiWMh"
      }
    },
    {
      "cell_type": "markdown",
      "source": [
        "Obs.: O atributo **DataQuality** do Dataframe **df_MP3000A** que será usado como condição na queryindica dado bom. \n",
        "* DataQuality = 1 = Dado bom"
      ],
      "metadata": {
        "id": "5zO1n4PRcMN5"
      }
    },
    {
      "cell_type": "code",
      "source": [
        "df_RD80_JOSS = df_RD80_JOSS.query(\"(Datetime >= '2022-05-1' and Datetime <= '2022-07-31')\")\n",
        "df_MP3000A = df_MP3000A.query(\"((Datetime >= '2022-05-1' and Datetime <= '2022-07-31') and DataQuality == 1)\")"
      ],
      "metadata": {
        "id": "zsFNhBuainy7"
      },
      "execution_count": 173,
      "outputs": []
    },
    {
      "cell_type": "markdown",
      "source": [
        "**Novo tamanho dos Datasets**"
      ],
      "metadata": {
        "id": "SxXgLHYbc5Km"
      }
    },
    {
      "cell_type": "code",
      "source": [
        "#Vamos verificar o novo tamanho dos Datasets e visualizar as suas colunas.\n",
        "print('TAMANHO DO DATASET E QUANTIDADE DE ATRIBUTOS:\\n')\n",
        "print('Tamanho do dataset: ',df_RD80_JOSS.shape[0], ' - Quantidade de atributos: ', df_RD80_JOSS.shape[1])\n",
        "print('Tamanho do dataset: ',df_MP3000A.shape[0], ' - Quantidade de atributos: ', df_MP3000A.shape[1])"
      ],
      "metadata": {
        "colab": {
          "base_uri": "https://localhost:8080/"
        },
        "id": "vgENeIRWZMfL",
        "outputId": "b8e86b44-081a-4b04-b67e-a5d044756575"
      },
      "execution_count": 174,
      "outputs": [
        {
          "output_type": "stream",
          "name": "stdout",
          "text": [
            "TAMANHO DO DATASET E QUANTIDADE DE ATRIBUTOS:\n",
            "\n",
            "Tamanho do dataset:  64721  - Quantidade de atributos:  18\n",
            "Tamanho do dataset:  147877  - Quantidade de atributos:  36\n"
          ]
        }
      ]
    },
    {
      "cell_type": "code",
      "source": [
        "#Visualizar as colunas\n",
        "df_RD80_JOSS.columns"
      ],
      "metadata": {
        "colab": {
          "base_uri": "https://localhost:8080/"
        },
        "id": "JXOMPUYzPVgw",
        "outputId": "e56ae51c-e487-4681-f7c8-07e2f07d8c21"
      },
      "execution_count": 175,
      "outputs": [
        {
          "output_type": "execute_result",
          "data": {
            "text/plain": [
              "Index(['Datetime', 'Date', 'Year', 'Month', 'Day_of_week', 'Time',\n",
              "       'Rain_Intensity_mm_h', 'radar_reflectivity_1_mm6m3',\n",
              "       'Liquid_watercontent_g_m3', 'Mean_weight_diameter_mm',\n",
              "       'Time_integration_s', 'Light_Rain', 'Moderate_Rain', 'Heavy_Rain',\n",
              "       'Very_Heavy_Rain', 'Without_Rain', 'Class_Rain_id', 'Class_Rain'],\n",
              "      dtype='object')"
            ]
          },
          "metadata": {},
          "execution_count": 175
        }
      ]
    },
    {
      "cell_type": "code",
      "source": [
        "#Visualizar as colunas\n",
        "df_MP3000A.columns"
      ],
      "metadata": {
        "colab": {
          "base_uri": "https://localhost:8080/"
        },
        "id": "aGvQIbz7Pbhw",
        "outputId": "73ac60ef-74f6-4e8c-dd8a-355e7cf192ac"
      },
      "execution_count": 176,
      "outputs": [
        {
          "output_type": "execute_result",
          "data": {
            "text/plain": [
              "Index(['Datetime', 'Date', 'Year', 'Month', 'Day_of_week', 'Time',\n",
              "       'DataQuality', 'Tamb_K', 'Rh_percent', 'Pres_mb', 'Tir_K', 'Ch_22_234',\n",
              "       'Ch_22_500', 'Ch_23_034', 'Ch_23_834', 'Ch_25_000', 'Ch_26_234',\n",
              "       'Ch_28_000', 'Ch_30_000', 'Ch_51_248', 'Ch_51_760', 'Ch_52_280',\n",
              "       'Ch_52_804', 'Ch_53_336', 'Ch_53_848', 'Ch_54_400', 'Ch_54_940',\n",
              "       'Ch_55_500', 'Ch_56_020', 'Ch_56_660', 'Ch_57_288', 'Ch_57_964',\n",
              "       'Ch_58_800', 'Int_Vapor_cm', 'Int_Liquid_mm', 'Cloud_Base_km'],\n",
              "      dtype='object')"
            ]
          },
          "metadata": {},
          "execution_count": 176
        }
      ]
    },
    {
      "cell_type": "code",
      "source": [
        "#Vamos visualizar as primeiras 2 e últimas 2 linhas dos dados\n",
        "df_RD80_JOSS.loc[df_RD80_JOSS['Rain_Intensity_mm_h'] > 0].head(n=2).append(df_RD80_JOSS.loc[df_RD80_JOSS['Rain_Intensity_mm_h'] > 0].tail(n=2))"
      ],
      "metadata": {
        "colab": {
          "base_uri": "https://localhost:8080/",
          "height": 378
        },
        "id": "ON2hnFHLZzrz",
        "outputId": "b27ace01-9037-487d-ea66-8c65b770f069"
      },
      "execution_count": 177,
      "outputs": [
        {
          "output_type": "execute_result",
          "data": {
            "text/plain": [
              "                   Datetime        Date  Year Month Day_of_week      Time  \\\n",
              "250813  2022-05-10 01:54:00  2022-05-10  2022   May     Tuesday  01:54:00   \n",
              "250834  2022-05-10 02:15:00  2022-05-10  2022   May     Tuesday  02:15:00   \n",
              "314711  2022-06-28 21:21:00  2022-06-28  2022   Jun     Tuesday  21:21:00   \n",
              "314712  2022-06-28 21:22:00  2022-06-28  2022   Jun     Tuesday  21:22:00   \n",
              "\n",
              "        Rain_Intensity_mm_h  radar_reflectivity_1_mm6m3  \\\n",
              "250813              0.12869                    45.26331   \n",
              "250834              0.10736                    37.12886   \n",
              "314711              0.23103                    36.19424   \n",
              "314712              0.14332                    16.72017   \n",
              "\n",
              "        Liquid_watercontent_g_m3  Mean_weight_diameter_mm  Time_integration_s  \\\n",
              "250813                   0.00709                  1.39702                60.0   \n",
              "250834                   0.00577                  1.43824                60.0   \n",
              "314711                   0.01553                  1.04613                60.0   \n",
              "314712                   0.01099                  0.89704                60.0   \n",
              "\n",
              "        Light_Rain  Moderate_Rain  Heavy_Rain  Very_Heavy_Rain  Without_Rain  \\\n",
              "250813           1              0           0                0             0   \n",
              "250834           1              0           0                0             0   \n",
              "314711           1              0           0                0             0   \n",
              "314712           1              0           0                0             0   \n",
              "\n",
              "        Class_Rain_id   Class_Rain  \n",
              "250813              1  Chuva fraca  \n",
              "250834              1  Chuva fraca  \n",
              "314711              1  Chuva fraca  \n",
              "314712              1  Chuva fraca  "
            ],
            "text/html": [
              "\n",
              "  <div id=\"df-bff9bc2d-a6dc-4b69-8b23-f868237f7656\">\n",
              "    <div class=\"colab-df-container\">\n",
              "      <div>\n",
              "<style scoped>\n",
              "    .dataframe tbody tr th:only-of-type {\n",
              "        vertical-align: middle;\n",
              "    }\n",
              "\n",
              "    .dataframe tbody tr th {\n",
              "        vertical-align: top;\n",
              "    }\n",
              "\n",
              "    .dataframe thead th {\n",
              "        text-align: right;\n",
              "    }\n",
              "</style>\n",
              "<table border=\"1\" class=\"dataframe\">\n",
              "  <thead>\n",
              "    <tr style=\"text-align: right;\">\n",
              "      <th></th>\n",
              "      <th>Datetime</th>\n",
              "      <th>Date</th>\n",
              "      <th>Year</th>\n",
              "      <th>Month</th>\n",
              "      <th>Day_of_week</th>\n",
              "      <th>Time</th>\n",
              "      <th>Rain_Intensity_mm_h</th>\n",
              "      <th>radar_reflectivity_1_mm6m3</th>\n",
              "      <th>Liquid_watercontent_g_m3</th>\n",
              "      <th>Mean_weight_diameter_mm</th>\n",
              "      <th>Time_integration_s</th>\n",
              "      <th>Light_Rain</th>\n",
              "      <th>Moderate_Rain</th>\n",
              "      <th>Heavy_Rain</th>\n",
              "      <th>Very_Heavy_Rain</th>\n",
              "      <th>Without_Rain</th>\n",
              "      <th>Class_Rain_id</th>\n",
              "      <th>Class_Rain</th>\n",
              "    </tr>\n",
              "  </thead>\n",
              "  <tbody>\n",
              "    <tr>\n",
              "      <th>250813</th>\n",
              "      <td>2022-05-10 01:54:00</td>\n",
              "      <td>2022-05-10</td>\n",
              "      <td>2022</td>\n",
              "      <td>May</td>\n",
              "      <td>Tuesday</td>\n",
              "      <td>01:54:00</td>\n",
              "      <td>0.12869</td>\n",
              "      <td>45.26331</td>\n",
              "      <td>0.00709</td>\n",
              "      <td>1.39702</td>\n",
              "      <td>60.0</td>\n",
              "      <td>1</td>\n",
              "      <td>0</td>\n",
              "      <td>0</td>\n",
              "      <td>0</td>\n",
              "      <td>0</td>\n",
              "      <td>1</td>\n",
              "      <td>Chuva fraca</td>\n",
              "    </tr>\n",
              "    <tr>\n",
              "      <th>250834</th>\n",
              "      <td>2022-05-10 02:15:00</td>\n",
              "      <td>2022-05-10</td>\n",
              "      <td>2022</td>\n",
              "      <td>May</td>\n",
              "      <td>Tuesday</td>\n",
              "      <td>02:15:00</td>\n",
              "      <td>0.10736</td>\n",
              "      <td>37.12886</td>\n",
              "      <td>0.00577</td>\n",
              "      <td>1.43824</td>\n",
              "      <td>60.0</td>\n",
              "      <td>1</td>\n",
              "      <td>0</td>\n",
              "      <td>0</td>\n",
              "      <td>0</td>\n",
              "      <td>0</td>\n",
              "      <td>1</td>\n",
              "      <td>Chuva fraca</td>\n",
              "    </tr>\n",
              "    <tr>\n",
              "      <th>314711</th>\n",
              "      <td>2022-06-28 21:21:00</td>\n",
              "      <td>2022-06-28</td>\n",
              "      <td>2022</td>\n",
              "      <td>Jun</td>\n",
              "      <td>Tuesday</td>\n",
              "      <td>21:21:00</td>\n",
              "      <td>0.23103</td>\n",
              "      <td>36.19424</td>\n",
              "      <td>0.01553</td>\n",
              "      <td>1.04613</td>\n",
              "      <td>60.0</td>\n",
              "      <td>1</td>\n",
              "      <td>0</td>\n",
              "      <td>0</td>\n",
              "      <td>0</td>\n",
              "      <td>0</td>\n",
              "      <td>1</td>\n",
              "      <td>Chuva fraca</td>\n",
              "    </tr>\n",
              "    <tr>\n",
              "      <th>314712</th>\n",
              "      <td>2022-06-28 21:22:00</td>\n",
              "      <td>2022-06-28</td>\n",
              "      <td>2022</td>\n",
              "      <td>Jun</td>\n",
              "      <td>Tuesday</td>\n",
              "      <td>21:22:00</td>\n",
              "      <td>0.14332</td>\n",
              "      <td>16.72017</td>\n",
              "      <td>0.01099</td>\n",
              "      <td>0.89704</td>\n",
              "      <td>60.0</td>\n",
              "      <td>1</td>\n",
              "      <td>0</td>\n",
              "      <td>0</td>\n",
              "      <td>0</td>\n",
              "      <td>0</td>\n",
              "      <td>1</td>\n",
              "      <td>Chuva fraca</td>\n",
              "    </tr>\n",
              "  </tbody>\n",
              "</table>\n",
              "</div>\n",
              "      <button class=\"colab-df-convert\" onclick=\"convertToInteractive('df-bff9bc2d-a6dc-4b69-8b23-f868237f7656')\"\n",
              "              title=\"Convert this dataframe to an interactive table.\"\n",
              "              style=\"display:none;\">\n",
              "        \n",
              "  <svg xmlns=\"http://www.w3.org/2000/svg\" height=\"24px\"viewBox=\"0 0 24 24\"\n",
              "       width=\"24px\">\n",
              "    <path d=\"M0 0h24v24H0V0z\" fill=\"none\"/>\n",
              "    <path d=\"M18.56 5.44l.94 2.06.94-2.06 2.06-.94-2.06-.94-.94-2.06-.94 2.06-2.06.94zm-11 1L8.5 8.5l.94-2.06 2.06-.94-2.06-.94L8.5 2.5l-.94 2.06-2.06.94zm10 10l.94 2.06.94-2.06 2.06-.94-2.06-.94-.94-2.06-.94 2.06-2.06.94z\"/><path d=\"M17.41 7.96l-1.37-1.37c-.4-.4-.92-.59-1.43-.59-.52 0-1.04.2-1.43.59L10.3 9.45l-7.72 7.72c-.78.78-.78 2.05 0 2.83L4 21.41c.39.39.9.59 1.41.59.51 0 1.02-.2 1.41-.59l7.78-7.78 2.81-2.81c.8-.78.8-2.07 0-2.86zM5.41 20L4 18.59l7.72-7.72 1.47 1.35L5.41 20z\"/>\n",
              "  </svg>\n",
              "      </button>\n",
              "      \n",
              "  <style>\n",
              "    .colab-df-container {\n",
              "      display:flex;\n",
              "      flex-wrap:wrap;\n",
              "      gap: 12px;\n",
              "    }\n",
              "\n",
              "    .colab-df-convert {\n",
              "      background-color: #E8F0FE;\n",
              "      border: none;\n",
              "      border-radius: 50%;\n",
              "      cursor: pointer;\n",
              "      display: none;\n",
              "      fill: #1967D2;\n",
              "      height: 32px;\n",
              "      padding: 0 0 0 0;\n",
              "      width: 32px;\n",
              "    }\n",
              "\n",
              "    .colab-df-convert:hover {\n",
              "      background-color: #E2EBFA;\n",
              "      box-shadow: 0px 1px 2px rgba(60, 64, 67, 0.3), 0px 1px 3px 1px rgba(60, 64, 67, 0.15);\n",
              "      fill: #174EA6;\n",
              "    }\n",
              "\n",
              "    [theme=dark] .colab-df-convert {\n",
              "      background-color: #3B4455;\n",
              "      fill: #D2E3FC;\n",
              "    }\n",
              "\n",
              "    [theme=dark] .colab-df-convert:hover {\n",
              "      background-color: #434B5C;\n",
              "      box-shadow: 0px 1px 3px 1px rgba(0, 0, 0, 0.15);\n",
              "      filter: drop-shadow(0px 1px 2px rgba(0, 0, 0, 0.3));\n",
              "      fill: #FFFFFF;\n",
              "    }\n",
              "  </style>\n",
              "\n",
              "      <script>\n",
              "        const buttonEl =\n",
              "          document.querySelector('#df-bff9bc2d-a6dc-4b69-8b23-f868237f7656 button.colab-df-convert');\n",
              "        buttonEl.style.display =\n",
              "          google.colab.kernel.accessAllowed ? 'block' : 'none';\n",
              "\n",
              "        async function convertToInteractive(key) {\n",
              "          const element = document.querySelector('#df-bff9bc2d-a6dc-4b69-8b23-f868237f7656');\n",
              "          const dataTable =\n",
              "            await google.colab.kernel.invokeFunction('convertToInteractive',\n",
              "                                                     [key], {});\n",
              "          if (!dataTable) return;\n",
              "\n",
              "          const docLinkHtml = 'Like what you see? Visit the ' +\n",
              "            '<a target=\"_blank\" href=https://colab.research.google.com/notebooks/data_table.ipynb>data table notebook</a>'\n",
              "            + ' to learn more about interactive tables.';\n",
              "          element.innerHTML = '';\n",
              "          dataTable['output_type'] = 'display_data';\n",
              "          await google.colab.output.renderOutput(dataTable, element);\n",
              "          const docLink = document.createElement('div');\n",
              "          docLink.innerHTML = docLinkHtml;\n",
              "          element.appendChild(docLink);\n",
              "        }\n",
              "      </script>\n",
              "    </div>\n",
              "  </div>\n",
              "  "
            ]
          },
          "metadata": {},
          "execution_count": 177
        }
      ]
    },
    {
      "cell_type": "code",
      "source": [
        "#Vamos visualizar as primeiras 2 e últimas 2 linhas dos dados\n",
        "df_MP3000A.loc[df_MP3000A['DataQuality'] == 1].head(n=2).append(df_MP3000A.loc[df_MP3000A['DataQuality'] == 1].tail(n=2))"
      ],
      "metadata": {
        "colab": {
          "base_uri": "https://localhost:8080/",
          "height": 407
        },
        "id": "pRFM88UvbIfj",
        "outputId": "f208c7d2-2958-4fb0-b0b1-140e844697c0"
      },
      "execution_count": 178,
      "outputs": [
        {
          "output_type": "execute_result",
          "data": {
            "text/plain": [
              "                    Datetime        Date  Year Month Day_of_week      Time  \\\n",
              "590379   2022-05-10 00:04:19  2022-05-10  2022   May     Tuesday  00:04:19   \n",
              "1230085  2022-05-10 00:04:48  2022-05-10  2022   May     Tuesday  00:04:48   \n",
              "1919063  2022-06-01 09:19:59  2022-06-01  2022   Jun   Wednesday  09:19:59   \n",
              "639827   2022-06-01 09:20:02  2022-06-01  2022   Jun   Wednesday  09:20:02   \n",
              "\n",
              "         DataQuality  Tamb_K  Rh_percent  Pres_mb  ...  Ch_54_940  Ch_55_500  \\\n",
              "590379           1.0  298.47       97.04  1007.21  ...      0.000      0.000   \n",
              "1230085          1.0    0.00        0.00     0.00  ...    289.685    293.135   \n",
              "1919063          1.0    0.00        0.00     0.00  ...      0.000      0.000   \n",
              "639827           1.0  296.90       97.12  1006.71  ...      0.000      0.000   \n",
              "\n",
              "         Ch_56_020  Ch_56_660  Ch_57_288  Ch_57_964  Ch_58_800 Int_Vapor_cm  \\\n",
              "590379       0.000      0.000      0.000      0.000      0.000        0.000   \n",
              "1230085    294.981    295.672    295.473    296.788    295.883        0.000   \n",
              "1919063      0.000      0.000      0.000      0.000      0.000        4.176   \n",
              "639827       0.000      0.000      0.000      0.000      0.000        0.000   \n",
              "\n",
              "         Int_Liquid_mm  Cloud_Base_km  \n",
              "590379             0.0            0.0  \n",
              "1230085            0.0            0.0  \n",
              "1919063            0.0            0.0  \n",
              "639827             0.0            0.0  \n",
              "\n",
              "[4 rows x 36 columns]"
            ],
            "text/html": [
              "\n",
              "  <div id=\"df-8f468eea-6e58-4e01-bc0f-bb80a54869de\">\n",
              "    <div class=\"colab-df-container\">\n",
              "      <div>\n",
              "<style scoped>\n",
              "    .dataframe tbody tr th:only-of-type {\n",
              "        vertical-align: middle;\n",
              "    }\n",
              "\n",
              "    .dataframe tbody tr th {\n",
              "        vertical-align: top;\n",
              "    }\n",
              "\n",
              "    .dataframe thead th {\n",
              "        text-align: right;\n",
              "    }\n",
              "</style>\n",
              "<table border=\"1\" class=\"dataframe\">\n",
              "  <thead>\n",
              "    <tr style=\"text-align: right;\">\n",
              "      <th></th>\n",
              "      <th>Datetime</th>\n",
              "      <th>Date</th>\n",
              "      <th>Year</th>\n",
              "      <th>Month</th>\n",
              "      <th>Day_of_week</th>\n",
              "      <th>Time</th>\n",
              "      <th>DataQuality</th>\n",
              "      <th>Tamb_K</th>\n",
              "      <th>Rh_percent</th>\n",
              "      <th>Pres_mb</th>\n",
              "      <th>...</th>\n",
              "      <th>Ch_54_940</th>\n",
              "      <th>Ch_55_500</th>\n",
              "      <th>Ch_56_020</th>\n",
              "      <th>Ch_56_660</th>\n",
              "      <th>Ch_57_288</th>\n",
              "      <th>Ch_57_964</th>\n",
              "      <th>Ch_58_800</th>\n",
              "      <th>Int_Vapor_cm</th>\n",
              "      <th>Int_Liquid_mm</th>\n",
              "      <th>Cloud_Base_km</th>\n",
              "    </tr>\n",
              "  </thead>\n",
              "  <tbody>\n",
              "    <tr>\n",
              "      <th>590379</th>\n",
              "      <td>2022-05-10 00:04:19</td>\n",
              "      <td>2022-05-10</td>\n",
              "      <td>2022</td>\n",
              "      <td>May</td>\n",
              "      <td>Tuesday</td>\n",
              "      <td>00:04:19</td>\n",
              "      <td>1.0</td>\n",
              "      <td>298.47</td>\n",
              "      <td>97.04</td>\n",
              "      <td>1007.21</td>\n",
              "      <td>...</td>\n",
              "      <td>0.000</td>\n",
              "      <td>0.000</td>\n",
              "      <td>0.000</td>\n",
              "      <td>0.000</td>\n",
              "      <td>0.000</td>\n",
              "      <td>0.000</td>\n",
              "      <td>0.000</td>\n",
              "      <td>0.000</td>\n",
              "      <td>0.0</td>\n",
              "      <td>0.0</td>\n",
              "    </tr>\n",
              "    <tr>\n",
              "      <th>1230085</th>\n",
              "      <td>2022-05-10 00:04:48</td>\n",
              "      <td>2022-05-10</td>\n",
              "      <td>2022</td>\n",
              "      <td>May</td>\n",
              "      <td>Tuesday</td>\n",
              "      <td>00:04:48</td>\n",
              "      <td>1.0</td>\n",
              "      <td>0.00</td>\n",
              "      <td>0.00</td>\n",
              "      <td>0.00</td>\n",
              "      <td>...</td>\n",
              "      <td>289.685</td>\n",
              "      <td>293.135</td>\n",
              "      <td>294.981</td>\n",
              "      <td>295.672</td>\n",
              "      <td>295.473</td>\n",
              "      <td>296.788</td>\n",
              "      <td>295.883</td>\n",
              "      <td>0.000</td>\n",
              "      <td>0.0</td>\n",
              "      <td>0.0</td>\n",
              "    </tr>\n",
              "    <tr>\n",
              "      <th>1919063</th>\n",
              "      <td>2022-06-01 09:19:59</td>\n",
              "      <td>2022-06-01</td>\n",
              "      <td>2022</td>\n",
              "      <td>Jun</td>\n",
              "      <td>Wednesday</td>\n",
              "      <td>09:19:59</td>\n",
              "      <td>1.0</td>\n",
              "      <td>0.00</td>\n",
              "      <td>0.00</td>\n",
              "      <td>0.00</td>\n",
              "      <td>...</td>\n",
              "      <td>0.000</td>\n",
              "      <td>0.000</td>\n",
              "      <td>0.000</td>\n",
              "      <td>0.000</td>\n",
              "      <td>0.000</td>\n",
              "      <td>0.000</td>\n",
              "      <td>0.000</td>\n",
              "      <td>4.176</td>\n",
              "      <td>0.0</td>\n",
              "      <td>0.0</td>\n",
              "    </tr>\n",
              "    <tr>\n",
              "      <th>639827</th>\n",
              "      <td>2022-06-01 09:20:02</td>\n",
              "      <td>2022-06-01</td>\n",
              "      <td>2022</td>\n",
              "      <td>Jun</td>\n",
              "      <td>Wednesday</td>\n",
              "      <td>09:20:02</td>\n",
              "      <td>1.0</td>\n",
              "      <td>296.90</td>\n",
              "      <td>97.12</td>\n",
              "      <td>1006.71</td>\n",
              "      <td>...</td>\n",
              "      <td>0.000</td>\n",
              "      <td>0.000</td>\n",
              "      <td>0.000</td>\n",
              "      <td>0.000</td>\n",
              "      <td>0.000</td>\n",
              "      <td>0.000</td>\n",
              "      <td>0.000</td>\n",
              "      <td>0.000</td>\n",
              "      <td>0.0</td>\n",
              "      <td>0.0</td>\n",
              "    </tr>\n",
              "  </tbody>\n",
              "</table>\n",
              "<p>4 rows × 36 columns</p>\n",
              "</div>\n",
              "      <button class=\"colab-df-convert\" onclick=\"convertToInteractive('df-8f468eea-6e58-4e01-bc0f-bb80a54869de')\"\n",
              "              title=\"Convert this dataframe to an interactive table.\"\n",
              "              style=\"display:none;\">\n",
              "        \n",
              "  <svg xmlns=\"http://www.w3.org/2000/svg\" height=\"24px\"viewBox=\"0 0 24 24\"\n",
              "       width=\"24px\">\n",
              "    <path d=\"M0 0h24v24H0V0z\" fill=\"none\"/>\n",
              "    <path d=\"M18.56 5.44l.94 2.06.94-2.06 2.06-.94-2.06-.94-.94-2.06-.94 2.06-2.06.94zm-11 1L8.5 8.5l.94-2.06 2.06-.94-2.06-.94L8.5 2.5l-.94 2.06-2.06.94zm10 10l.94 2.06.94-2.06 2.06-.94-2.06-.94-.94-2.06-.94 2.06-2.06.94z\"/><path d=\"M17.41 7.96l-1.37-1.37c-.4-.4-.92-.59-1.43-.59-.52 0-1.04.2-1.43.59L10.3 9.45l-7.72 7.72c-.78.78-.78 2.05 0 2.83L4 21.41c.39.39.9.59 1.41.59.51 0 1.02-.2 1.41-.59l7.78-7.78 2.81-2.81c.8-.78.8-2.07 0-2.86zM5.41 20L4 18.59l7.72-7.72 1.47 1.35L5.41 20z\"/>\n",
              "  </svg>\n",
              "      </button>\n",
              "      \n",
              "  <style>\n",
              "    .colab-df-container {\n",
              "      display:flex;\n",
              "      flex-wrap:wrap;\n",
              "      gap: 12px;\n",
              "    }\n",
              "\n",
              "    .colab-df-convert {\n",
              "      background-color: #E8F0FE;\n",
              "      border: none;\n",
              "      border-radius: 50%;\n",
              "      cursor: pointer;\n",
              "      display: none;\n",
              "      fill: #1967D2;\n",
              "      height: 32px;\n",
              "      padding: 0 0 0 0;\n",
              "      width: 32px;\n",
              "    }\n",
              "\n",
              "    .colab-df-convert:hover {\n",
              "      background-color: #E2EBFA;\n",
              "      box-shadow: 0px 1px 2px rgba(60, 64, 67, 0.3), 0px 1px 3px 1px rgba(60, 64, 67, 0.15);\n",
              "      fill: #174EA6;\n",
              "    }\n",
              "\n",
              "    [theme=dark] .colab-df-convert {\n",
              "      background-color: #3B4455;\n",
              "      fill: #D2E3FC;\n",
              "    }\n",
              "\n",
              "    [theme=dark] .colab-df-convert:hover {\n",
              "      background-color: #434B5C;\n",
              "      box-shadow: 0px 1px 3px 1px rgba(0, 0, 0, 0.15);\n",
              "      filter: drop-shadow(0px 1px 2px rgba(0, 0, 0, 0.3));\n",
              "      fill: #FFFFFF;\n",
              "    }\n",
              "  </style>\n",
              "\n",
              "      <script>\n",
              "        const buttonEl =\n",
              "          document.querySelector('#df-8f468eea-6e58-4e01-bc0f-bb80a54869de button.colab-df-convert');\n",
              "        buttonEl.style.display =\n",
              "          google.colab.kernel.accessAllowed ? 'block' : 'none';\n",
              "\n",
              "        async function convertToInteractive(key) {\n",
              "          const element = document.querySelector('#df-8f468eea-6e58-4e01-bc0f-bb80a54869de');\n",
              "          const dataTable =\n",
              "            await google.colab.kernel.invokeFunction('convertToInteractive',\n",
              "                                                     [key], {});\n",
              "          if (!dataTable) return;\n",
              "\n",
              "          const docLinkHtml = 'Like what you see? Visit the ' +\n",
              "            '<a target=\"_blank\" href=https://colab.research.google.com/notebooks/data_table.ipynb>data table notebook</a>'\n",
              "            + ' to learn more about interactive tables.';\n",
              "          element.innerHTML = '';\n",
              "          dataTable['output_type'] = 'display_data';\n",
              "          await google.colab.output.renderOutput(dataTable, element);\n",
              "          const docLink = document.createElement('div');\n",
              "          docLink.innerHTML = docLinkHtml;\n",
              "          element.appendChild(docLink);\n",
              "        }\n",
              "      </script>\n",
              "    </div>\n",
              "  </div>\n",
              "  "
            ]
          },
          "metadata": {},
          "execution_count": 178
        }
      ]
    },
    {
      "cell_type": "markdown",
      "source": [
        "Vamos dividir a coluna hora do dia em diferentes sessões de 6h cada, para que possamos visualizar a série temporal da intensidade das chuvas (mm/h) por **Night**, **Morning**, **Afternoon**, **Evening**. "
      ],
      "metadata": {
        "id": "hZ0Eo1p1b5JY"
      }
    },
    {
      "cell_type": "code",
      "source": [
        "#Vamos converter o \"Datetime\" em um objeto datetime para que seja mais fácil realizar outras manipulações\n",
        "df_RD80_JOSS['Datetime'] = df_RD80_JOSS.Datetime.astype('datetime64')\n",
        "\n",
        "#Dividindo a coluna hora do dia em diferentes sessões em um dia\n",
        "df_RD80_JOSS=df_RD80_JOSS.assign(session=pd.cut(df_RD80_JOSS.Datetime.dt.hour,\n",
        "                              [0,6,12,18,23],\n",
        "                              labels=['Night','Morning','Afternoon','Evening'],\n",
        "                              include_lowest=True))"
      ],
      "metadata": {
        "id": "rmdoBJoFbriY"
      },
      "execution_count": 179,
      "outputs": []
    },
    {
      "cell_type": "code",
      "source": [
        "#Vamos converter o \"Datetime\" em um objeto datetime para que seja mais fácil realizar outras manipulações\n",
        "df_MP3000A['Datetime'] = df_MP3000A.Datetime.astype('datetime64')\n",
        "\n",
        "#Dividindo a coluna hora do dia em diferentes sessões em um dia\n",
        "df_MP3000A=df_MP3000A.assign(session=pd.cut(df_MP3000A.Datetime.dt.hour,\n",
        "                              [0,6,12,18,23],\n",
        "                              labels=['Night','Morning','Afternoon','Evening'],\n",
        "                              include_lowest=True))"
      ],
      "metadata": {
        "id": "JIKXUl5jI88d"
      },
      "execution_count": 180,
      "outputs": []
    },
    {
      "cell_type": "markdown",
      "source": [
        "## **Juntando os dados em um único Dataframe**"
      ],
      "metadata": {
        "id": "2_taQDuwCE0v"
      }
    },
    {
      "cell_type": "code",
      "source": [
        "#Agora vamos juntar os dados do mp3000A em um único Dataframe, utilizando a dunção **merge** do **pandas**.\n",
        "df_MP3000A_RD80_final = pd.merge(df_RD80_JOSS, df_MP3000A, how='outer', on = ['Datetime', 'Date','Year', 'Month', 'Day_of_week', 'Time', 'session'])"
      ],
      "metadata": {
        "id": "F_jWU42JB5X7"
      },
      "execution_count": 181,
      "outputs": []
    },
    {
      "cell_type": "code",
      "source": [
        "df_MP3000A_RD80_final['Datetime'] = df_MP3000A_RD80_final['Datetime'].astype(str)"
      ],
      "metadata": {
        "id": "Fq7mtfFlEwBd"
      },
      "execution_count": 182,
      "outputs": []
    },
    {
      "cell_type": "code",
      "source": [
        "df_MP3000A_RD80_final.session = df_MP3000A_RD80_final.session.astype(str)"
      ],
      "metadata": {
        "id": "GrMcMH47L0mM"
      },
      "execution_count": 183,
      "outputs": []
    },
    {
      "cell_type": "code",
      "source": [
        "for index, row in df_MP3000A_RD80_final.iterrows():\n",
        "\n",
        "    if (row['Rain_Intensity_mm_h'] >= 0.1) and (row['Rain_Intensity_mm_h'] <= 2.5):\n",
        "      df_MP3000A_RD80_final.loc[index,'Light_Rain'] = 1\n",
        "      df_MP3000A_RD80_final.loc[index,'Class_Rain'] = 'Chuva fraca'\n",
        "      df_MP3000A_RD80_final.loc[index,'Class_Rain_id'] = 1\n",
        "    elif(row['Rain_Intensity_mm_h']  > 2.5) and (row['Rain_Intensity_mm_h']  <= 10):\n",
        "      df_MP3000A_RD80_final.loc[index,'Moderate_Rain'] = 1\n",
        "      df_MP3000A_RD80_final.loc[index,'Class_Rain'] = 'Chuva moderada'\n",
        "      df_MP3000A_RD80_final.loc[index,'Class_Rain_id'] = 2\n",
        "    elif (row['Rain_Intensity_mm_h']  > 10) and (row['Rain_Intensity_mm_h']  <= 50):\n",
        "      df_MP3000A_RD80_final.loc[index,'Heavy_Rain'] = 1\n",
        "      df_MP3000A_RD80_final.loc[index,'Class_Rain'] = 'Chuva forte'\n",
        "      df_MP3000A_RD80_final.loc[index,'Class_Rain_id'] = 3\n",
        "    elif (row['Rain_Intensity_mm_h']  > 50):\n",
        "      df_MP3000A_RD80_final.loc[index,'Very_Heavy_Rain'] = 1\n",
        "      df_MP3000A_RD80_final.loc[index,'Class_Rain'] = 'Chuva muito forte'\n",
        "      df_MP3000A_RD80_final.loc[index,'Class_Rain_id'] = 4\n",
        "    else:\n",
        "      df_MP3000A_RD80_final.loc[index,'Without_Rain'] = 1\n",
        "      df_MP3000A_RD80_final.loc[index,'Class_Rain'] = 'Não choveu'\n",
        "      df_MP3000A_RD80_final.loc[index,'Class_Rain_id'] = 0"
      ],
      "metadata": {
        "id": "Vzjb4CBLLVXZ"
      },
      "execution_count": null,
      "outputs": []
    },
    {
      "cell_type": "code",
      "source": [
        "df_MP3000A_RD80_final.isna().sum()"
      ],
      "metadata": {
        "id": "-oDX98uCDE6V"
      },
      "execution_count": null,
      "outputs": []
    },
    {
      "cell_type": "code",
      "source": [
        "list_nan = ['Rain_Intensity_mm_h', 'radar_reflectivity_1_mm6m3',\n",
        "       'Liquid_watercontent_g_m3', 'Mean_weight_diameter_mm',\n",
        "       'Time_integration_s']\n",
        "\n",
        "for res in range(0,5):\n",
        "  df_MP3000A_RD80_final[list_nan[res]].fillna(value = 0,  inplace = True)"
      ],
      "metadata": {
        "id": "1cc4CGDtPMm1"
      },
      "execution_count": null,
      "outputs": []
    },
    {
      "cell_type": "code",
      "source": [
        "#Substituindo valores Nulos por 0 (zero)\n",
        "df_MP3000A_RD80_final.fillna(value = -999.99,  inplace = True)\n"
      ],
      "metadata": {
        "id": "EfBrNZcSDK5b"
      },
      "execution_count": null,
      "outputs": []
    },
    {
      "cell_type": "code",
      "source": [
        "df_MP3000A_RD80_final.isna().sum()"
      ],
      "metadata": {
        "id": "zGhRYlBNIDdG"
      },
      "execution_count": null,
      "outputs": []
    },
    {
      "cell_type": "code",
      "source": [
        "df_MP3000A_RD80_final.info()"
      ],
      "metadata": {
        "id": "vTTSmS5dLCP1"
      },
      "execution_count": null,
      "outputs": []
    },
    {
      "cell_type": "code",
      "source": [
        "df_MP3000A_RD80_final = df_MP3000A_RD80_final.sort_values(by=['Datetime'])"
      ],
      "metadata": {
        "id": "cwBpw7XPOuG9"
      },
      "execution_count": null,
      "outputs": []
    },
    {
      "cell_type": "code",
      "source": [
        "df_MP3000A_RD80_final.columns"
      ],
      "metadata": {
        "id": "ymLe1aQdPEty"
      },
      "execution_count": null,
      "outputs": []
    },
    {
      "cell_type": "code",
      "source": [
        "df_MP3000A_RD80_final = df_MP3000A_RD80_final.reindex(columns=['Datetime', 'Date', 'Year', 'Month', 'Day_of_week', 'Time','session',\n",
        "       'Rain_Intensity_mm_h', 'radar_reflectivity_1_mm6m3',\n",
        "       'Liquid_watercontent_g_m3', 'Mean_weight_diameter_mm',\n",
        "       'Time_integration_s', 'DataQuality', 'Tamb_K', 'Rh_percent', 'Pres_mb', 'Tir_K',\n",
        "       'Ch_22_234', 'Ch_22_500', 'Ch_23_034', 'Ch_23_834', 'Ch_25_000',\n",
        "       'Ch_26_234', 'Ch_28_000', 'Ch_30_000', 'Ch_51_248', 'Ch_51_760',\n",
        "       'Ch_52_280', 'Ch_52_804', 'Ch_53_336', 'Ch_53_848', 'Ch_54_400',\n",
        "       'Ch_54_940', 'Ch_55_500', 'Ch_56_020', 'Ch_56_660', 'Ch_57_288',\n",
        "       'Ch_57_964', 'Ch_58_800', 'Int_Vapor_cm', 'Int_Liquid_mm',\n",
        "       'Cloud_Base_km', 'Light_Rain', 'Moderate_Rain', 'Heavy_Rain',\n",
        "       'Very_Heavy_Rain', 'Without_Rain', 'Class_Rain_id', 'Class_Rain'])"
      ],
      "metadata": {
        "id": "lwmsoB2fPOGZ"
      },
      "execution_count": null,
      "outputs": []
    },
    {
      "cell_type": "code",
      "source": [
        "#Salvando/Exportando os Dataframes para o formato CSV\n",
        "df_MP3000A_RD80_final.to_csv('./df_MP3000A_RD80_final.csv')"
      ],
      "metadata": {
        "id": "NTSEZTJUP0JC"
      },
      "execution_count": null,
      "outputs": []
    },
    {
      "cell_type": "markdown",
      "source": [
        "**Primeira visualização dos nosos dados**"
      ],
      "metadata": {
        "id": "YFtzxI9KjgPa"
      }
    },
    {
      "cell_type": "code",
      "source": [
        "#Vamos visualizar as primeiras 2 e últimas 2 linhas dos dados\n",
        "df_MP3000A_RD80_final.loc[df_MP3000A_RD80_final['DataQuality'] > 0].head(n=2).append(df_MP3000A_RD80_final.loc[df_MP3000A_RD80_final['DataQuality'] > 0].tail(n=2))"
      ],
      "metadata": {
        "id": "ica2M9F7P8Ff"
      },
      "execution_count": null,
      "outputs": []
    },
    {
      "cell_type": "code",
      "execution_count": null,
      "metadata": {
        "id": "Gk3dDYL8fN3b"
      },
      "outputs": [],
      "source": [
        "#Vamos verificar o tamanho dos Datasets e visualizar as suas colunas.\n",
        "print('TAMANHO DO DATASET E QUANTIDADE DE ATRIBUTOS:\\n')\n",
        "print('Tamanho do dataset: ',df_MP3000A_RD80_final.shape[0], ' - Quantidade de atributos: ', df_MP3000A_RD80_final.shape[1])"
      ]
    },
    {
      "cell_type": "code",
      "source": [
        "df_MP3000A_RD80_final.columns"
      ],
      "metadata": {
        "id": "igpSwTI8niIp"
      },
      "execution_count": null,
      "outputs": []
    },
    {
      "cell_type": "markdown",
      "source": [
        "No **df_MP3000A_final**, a **unidade de medida** dos canais Ch 22.234, Ch 22.500, Ch 23.034, Ch 23.834, Ch 25.000, Ch 26.234, Ch 28.000, Ch 30.000, Ch 51.248, Ch 51.760, Ch 52.280, Ch 52.804, Ch 53.336, Ch 53.848, Ch 54.400, Ch 54.940, Ch 55.500, Ch 56.020, Ch 56.660, Ch 57.288, Ch 57.964, Ch 58.800 é em **K (Kelvin**). Assim como é para **Tamb** e **Tir**. Vamos aplicar a conversão de **K (Kelvin)** para **°C (Celsius)**."
      ],
      "metadata": {
        "id": "KTGvl2oIj4db"
      }
    },
    {
      "cell_type": "code",
      "source": [
        "df_MP3000A_RD80_final[['Tamb_K', 'Tir_K', 'Ch_22_234',\n",
        "       'Ch_22_500', 'Ch_23_034', 'Ch_23_834', 'Ch_25_000', 'Ch_26_234',\n",
        "       'Ch_28_000', 'Ch_30_000', 'Ch_51_248', 'Ch_51_760', 'Ch_52_280',\n",
        "       'Ch_52_804', 'Ch_53_336', 'Ch_53_848', 'Ch_54_400', 'Ch_54_940',\n",
        "       'Ch_55_500', 'Ch_56_020', 'Ch_56_660', 'Ch_57_288', 'Ch_57_964',\n",
        "       'Ch_58_800']] = df_MP3000A_RD80_final[['Tamb_K', 'Tir_K', 'Ch_22_234',\n",
        "       'Ch_22_500', 'Ch_23_034', 'Ch_23_834', 'Ch_25_000', 'Ch_26_234',\n",
        "       'Ch_28_000', 'Ch_30_000', 'Ch_51_248', 'Ch_51_760', 'Ch_52_280',\n",
        "       'Ch_52_804', 'Ch_53_336', 'Ch_53_848', 'Ch_54_400', 'Ch_54_940',\n",
        "       'Ch_55_500', 'Ch_56_020', 'Ch_56_660', 'Ch_57_288', 'Ch_57_964',\n",
        "       'Ch_58_800']].astype(float)"
      ],
      "metadata": {
        "id": "FAKTlRD6wW0C"
      },
      "execution_count": null,
      "outputs": []
    },
    {
      "cell_type": "code",
      "source": [
        "\n",
        "convert_k_c = ['Tamb_K', 'Tir_K', 'Ch_22_234',\n",
        "       'Ch_22_500', 'Ch_23_034', 'Ch_23_834', 'Ch_25_000', 'Ch_26_234',\n",
        "       'Ch_28_000', 'Ch_30_000', 'Ch_51_248', 'Ch_51_760', 'Ch_52_280',\n",
        "       'Ch_52_804', 'Ch_53_336', 'Ch_53_848', 'Ch_54_400', 'Ch_54_940',\n",
        "       'Ch_55_500', 'Ch_56_020', 'Ch_56_660', 'Ch_57_288', 'Ch_57_964',\n",
        "       'Ch_58_800']\n",
        "\n",
        "for k_c in range(0, len(convert_k_c)):\n",
        "  df_MP3000A_RD80_final[convert_k_c[k_c]][df_MP3000A_RD80_final[convert_k_c[k_c]] != 0] = (df_MP3000A_RD80_final[convert_k_c[k_c]])-273.15\n"
      ],
      "metadata": {
        "id": "tWB3X6OfTh96"
      },
      "execution_count": null,
      "outputs": []
    },
    {
      "cell_type": "code",
      "source": [
        "#Vamos visualizar as primeiras 2 e últimas 2 linhas dos dados\n",
        "df_MP3000A_RD80_final.loc[df_MP3000A_RD80_final['DataQuality'] > 0].head(n=2).append(df_MP3000A_RD80_final.loc[df_MP3000A_RD80_final['DataQuality'] > 0].tail(n=2))"
      ],
      "metadata": {
        "id": "pBL96JcvxQ26"
      },
      "execution_count": null,
      "outputs": []
    },
    {
      "cell_type": "markdown",
      "source": [
        "Vamos visualizar o acumulado da intensidade da chuva para todo o período dos dados, olhando apenas os registros de chuva, usando como referência a variável Rain_Intensity_mm_h."
      ],
      "metadata": {
        "id": "O_yEyMxzwuqJ"
      }
    },
    {
      "cell_type": "code",
      "source": [
        "#Plotando o acumulado da intensidade da chuva por horário do dia\n",
        "df_RD80_JOSS_temp= df_MP3000A_RD80_final.query(\"(Rain_Intensity_mm_h > 0)\")\n",
        "\n",
        "ax = plt.gca()\n",
        "plt.rcParams[\"figure.figsize\"] = [21,5]\n",
        "df_RD80_JOSS_temp.plot(kind=\"line\",x=\"Datetime\",y=\"Rain_Intensity_mm_h\",label='Intensidade de chuva (mm/h)', ax=ax)\n",
        "#df_RD80_JOSS_final.plot(kind='line',x='Date',y=\"Int_Liquid_mm\", label='Conteúdo de água líquida integrado na nuvem (mm)', ax=ax)"
      ],
      "metadata": {
        "id": "1O54suROwWFP"
      },
      "execution_count": null,
      "outputs": []
    },
    {
      "cell_type": "markdown",
      "source": [
        "Agora vamos plotar a série temporal da intensidade das chuvas, separando os dados por períodos do dia: Night, Morning, Afternoon e Evening (Noite, Manhã, Tarde e Começo da noite)."
      ],
      "metadata": {
        "id": "ZQukk9ZTdnOw"
      }
    },
    {
      "cell_type": "code",
      "source": [
        "df_RD80_JOSS_temp= df_MP3000A_RD80_final.query(\"(Rain_Intensity_mm_h > 0)\")\n",
        "\n",
        "labels=['Night','Morning','Afternoon','Evening']\n",
        "\n",
        "figure(figsize=(21,7),dpi=80)\n",
        "plt.suptitle('SÉRIE TEMPORAL DA INTENSIDADE DAS CHUVAS', size=14)\n",
        "for res in range(0,4):\n",
        "    tot = round(df_RD80_JOSS_temp.Rain_Intensity_mm_h.loc[df_RD80_JOSS_temp.session == labels[res]].sum(),2)\n",
        "    plt.subplot(2,2,res+1)\n",
        "    plt.title(str(tot)+' milímetros de água no período('+labels[res]+')')\n",
        "    #plt.xlabel(\"\")\n",
        "    plt.ylabel(\"Intensidade das chuvas (mm/h)\")\n",
        "    plt.plot(df_RD80_JOSS_temp.loc[df_RD80_JOSS_temp.session == labels[res]]['Rain_Intensity_mm_h'], label=labels[res])\n",
        "    plt.legend()\n",
        "plt.show()"
      ],
      "metadata": {
        "id": "u1w496lXLPE7"
      },
      "execution_count": null,
      "outputs": []
    },
    {
      "cell_type": "code",
      "source": [
        "df_RD80_JOSS_temp= df_MP3000A_RD80_final.query(\"(Rain_Intensity_mm_h > 0)\")\n",
        "labels=['Night','Morning','Afternoon','Evening']\n",
        "\n",
        "figure(figsize=(16,6),dpi=80)\n",
        "plt.suptitle('HISTOGRAMAS - INTENSIDADE DAS CHUVAS', size=14)\n",
        "for res in range(0,4):\n",
        "    tot = round(df_RD80_JOSS_temp.Rain_Intensity_mm_h.loc[df_RD80_JOSS_temp.session == labels[res]].sum(),2)\n",
        "    plt.subplot(2,2,res+1)\n",
        "    plt.title(str(tot)+' milímetros de água no período('+labels[res]+')')\n",
        "    #plt.xlabel(\"\")\n",
        "    plt.ylabel(\"Frequência Absoluta\")\n",
        "    plt.hist(df_RD80_JOSS_temp.loc[df_RD80_JOSS_temp.session == labels[res]]['Rain_Intensity_mm_h'], label=labels[res], color='b', alpha=0.7 )\n",
        "    plt.legend()\n",
        "plt.show()"
      ],
      "metadata": {
        "id": "55-dEUqGGsvx"
      },
      "execution_count": null,
      "outputs": []
    },
    {
      "cell_type": "markdown",
      "source": [
        "Como podemos ver, os resultados dos gráficos acima nos levam a inferir que ocorreu uma maior intensidade de chuva no período da **tarde (Afternoon)** durante todo o período observado, chegando a uma Frequência Absoluta de mais de 800."
      ],
      "metadata": {
        "id": "gVeg_brAK-fB"
      }
    },
    {
      "cell_type": "markdown",
      "source": [
        "Agora vamos visualizar este dado de forma separada, executando o código da célula abaixo."
      ],
      "metadata": {
        "id": "INAA7dfpfAYI"
      }
    },
    {
      "cell_type": "code",
      "source": [
        "#Plotando o acumulado da intensidade da chuva do período da tarde (Afternoon)\n",
        "df_RD80_JOSS_temp= df_MP3000A_RD80_final.query(\"(Rain_Intensity_mm_h > 0 and session == 'Afternoon')\")\n",
        "plt.figure(figsize=(16, 4))\n",
        "plt.plot(df_RD80_JOSS_temp.Rain_Intensity_mm_h)"
      ],
      "metadata": {
        "id": "Hm8tYhAAVDXN"
      },
      "execution_count": null,
      "outputs": []
    },
    {
      "cell_type": "code",
      "source": [
        "#Relação entre duas variáveis categóricas\n",
        "\n",
        "df_RD80_JOSS_temp= df_MP3000A_RD80_final.query(\"(Rain_Intensity_mm_h > 0 and DataQuality > 0)\")\n",
        "\n",
        "figure(figsize=(10,4),dpi=80)\n",
        "plt.suptitle('Relação entre duas variáveis categóricas (Sessão do dia e Categoria da chuva)', size=14)\n",
        "sns.countplot(x=\"session\", hue = \"Class_Rain\", data = df_RD80_JOSS_temp)"
      ],
      "metadata": {
        "id": "kaE2f6KxRQHq"
      },
      "execution_count": null,
      "outputs": []
    },
    {
      "cell_type": "code",
      "source": [
        "# Relação entre variável categórica e contínua\n",
        "\n",
        "df_RD80_JOSS_temp= df_MP3000A_RD80_final.query(\"(Rain_Intensity_mm_h > 0 and DataQuality > 0)\")\n",
        "\n",
        "figure(figsize=(10,4),dpi=80)\n",
        "plt.suptitle('Relação entre variável categórica e contínua:\\nMês do ano e Intensidade de chuva (mm/h)', fontdict={'fontsize':16})\n",
        "sns.boxplot(x=\"Month\", y=\"Rain_Intensity_mm_h\", data = df_RD80_JOSS_temp)"
      ],
      "metadata": {
        "id": "k02vKJ3le3Gz"
      },
      "execution_count": null,
      "outputs": []
    },
    {
      "cell_type": "code",
      "source": [
        "# Relação entre variável categórica e contínua\n",
        "\n",
        "df_RD80_JOSS_temp= df_MP3000A_RD80_final.query(\"(Rain_Intensity_mm_h > 0 and DataQuality > 0)\")\n",
        "\n",
        "figure(figsize=(10,4),dpi=80)\n",
        "plt.suptitle('Relação entre variável categórica e contínua:\\nSessão do dia e Intensidade de chuva (mm/h)', fontdict={'fontsize':16})\n",
        "sns.boxplot(x=\"session\", y=\"Rain_Intensity_mm_h\", data = df_RD80_JOSS_temp)"
      ],
      "metadata": {
        "id": "mXRKEOLIjWpC"
      },
      "execution_count": null,
      "outputs": []
    },
    {
      "cell_type": "code",
      "source": [
        "labels=['Chuva fraca','Chuva moderada','Chuva forte','Chuva muito forte']\n",
        "\n",
        "figure(figsize=(21,7),dpi=80)\n",
        "plt.suptitle('SÉRIE TEMPORAL DA INTENSIDADE DAS CHUVAS', size=14)\n",
        "for res in range(0,4):\n",
        "    tot = round(df_RD80_JOSS_temp.Rain_Intensity_mm_h.loc[df_RD80_JOSS_temp.Class_Rain == labels[res]].sum(),2)\n",
        "    plt.subplot(2,2,res+1)\n",
        "    plt.title(str(tot)+' milímetros de água no período('+labels[res]+')')\n",
        "    #plt.xlabel(\"\")\n",
        "    plt.ylabel(\"Intensidade das chuvas (mm/h)\")\n",
        "    plt.plot(df_RD80_JOSS_temp.loc[df_RD80_JOSS_temp.Class_Rain == labels[res]]['Rain_Intensity_mm_h'], label=labels[res])\n",
        "    plt.legend()\n",
        "plt.show()"
      ],
      "metadata": {
        "id": "ivuau9_KiSHd"
      },
      "execution_count": null,
      "outputs": []
    },
    {
      "cell_type": "code",
      "source": [
        "df_MP3000A_RD80_final.columns"
      ],
      "metadata": {
        "id": "Jf5R_BFEXYDr"
      },
      "execution_count": null,
      "outputs": []
    },
    {
      "cell_type": "code",
      "source": [
        "# Criando heatmap de Sessão do dia vs Mês vs Intesnsidade da chuva (mm/h)\n",
        "result = pd.pivot_table(data=df_MP3000A_RD80_final, index='session', columns='Class_Rain', values='Rain_Intensity_mm_h')\n",
        "plt.figure(figsize=(12, 5))\n",
        "heatmap = sns.heatmap(result, annot=True, cmap = 'RdYlGn', center=0.117)\n",
        "heatmap.set_title('Sessão do dia vs Mês vs Intesnsidade da chuva (mm/h)', fontdict={'fontsize':14}, pad=12);\n",
        "plt.tight_layout()\n",
        "plt.savefig('heatmap2.png')\n",
        "plt.show()"
      ],
      "metadata": {
        "id": "K5npcTqrU9ne"
      },
      "execution_count": null,
      "outputs": []
    },
    {
      "cell_type": "markdown",
      "source": [
        "Vamos visualizar o acumulado da intensidade da chuva para todo o período dos dados, olhando apenas os registros de chuva, usando como referência a variável Rain_Intensity_mm_h."
      ],
      "metadata": {
        "id": "2x0uQTsTNGPp"
      }
    },
    {
      "cell_type": "code",
      "source": [
        "#Plotando o acumulado da intensidade da chuva por horário do dia\n",
        "df_filter_MP3000A_RD80_final = df_MP3000A_RD80_final.query(\"(Datetime >= '2022-05-19' and Datetime <= '2022-05-24' and DataQuality == 1)\")\n",
        "\n",
        "ax = plt.gca()\n",
        "plt.rcParams[\"figure.figsize\"] = [21,5]\n",
        "\n",
        "df_filter_MP3000A_RD80_final.plot(kind='line',x='Datetime',y=\"Tamb_K\", label='Tamb_K', ax=ax)\n",
        "df_filter_MP3000A_RD80_final.plot(kind='line',x='Datetime',y=\"Tir_K\", label='Tir_K', ax=ax)\n",
        "df_filter_MP3000A_RD80_final.plot(kind='line',x='Datetime',y=\"Int_Liquid_mm\", label='Int_Liquid_mm', ax=ax)\n",
        "df_filter_MP3000A_RD80_final.plot(kind=\"line\",x=\"Datetime\",y=\"Rain_Intensity_mm_h\",label='Intensidade de chuva (mm/h)', ax=ax)"
      ],
      "metadata": {
        "id": "xXmeMITVNJI0"
      },
      "execution_count": null,
      "outputs": []
    },
    {
      "cell_type": "code",
      "source": [
        "corr = df_MP3000A_RD80_final.corr()\n",
        "\n",
        "plt.figure(figsize=(25, 12))\n",
        "heatmap = sns.heatmap(corr[(corr >= 0.30) | (corr <= -0.30)], vmin=0, vmax=1, annot=True, cmap = 'RdYlGn')\n",
        "heatmap.set_title('Correlation Heatmap', fontdict={'fontsize':16}, pad=12)\n",
        "plt.tight_layout()\n",
        "plt.savefig('heatmap1.png')\n",
        "plt.show()"
      ],
      "metadata": {
        "id": "lppChAtubcuu"
      },
      "execution_count": null,
      "outputs": []
    },
    {
      "cell_type": "markdown",
      "source": [
        "# **Considerações finais**\n",
        "\n",
        "A partir da EDA, foi possível responder as perguntas levantadas no início do presente projeto. Ou seja, atravé da Anaálise Eploratória nos Dados, podemos dizer que:\n",
        "\n",
        "* Através da análise de atributos, foi possível identificar valores não realísticos nos dados e, foram identificadas correlações entre os dados do MP3000A e do RD80, após juntá-los e gerarmos o Heatmap dos dados juntos.\n",
        "\n",
        "* Como vimos, o período do dia em que apresentou a maior intensidade de chuva (acúmulo total no período observado) foi no horário da tarde (Afternoon)\n",
        "* Através da análise foi possível classificar/categorizar a intensidade das chuvas em: Não choveu, Chuva fraca, Chuva moderada, Chuva forte e Chuva muito forte.\n",
        "\n",
        "* Foram identificadas correlações entre os atributos de Temperatura do Ambiente (°C), Temperatura no canal Infravermelho (°C), Umidade Relativa e a Intensidade da chuva (mm/h). \n",
        "\n",
        "Um dado bem relevante e que chamou bastante atenção. Foi possível perceber de forma clara e evidente que na medida em que a Temperatura do Ambiente (°C)(**Tamb_K**), Temperatura no canal Infravermelho (°C)(**Tir_K**)Conteúdo de água líquida integrado na nuvem (**Int_Liquid_mm**) aumentam, foi detectada a ocorrência chuva e relação direta com a sua intensidade (mm/h). Dado que nos leva a entender e propor, para um trabalho futuro, a aplicação de alguma técnica de Inteligência Artificial que faça a predição de chuva e sua intensidade, utilizando esses atributos.\n",
        "\n",
        "."
      ],
      "metadata": {
        "id": "BdyYRr2GCYd5"
      }
    },
    {
      "cell_type": "markdown",
      "metadata": {
        "id": "33jPwgUyd9iL"
      },
      "source": [
        "# **Referências**\n",
        "\n",
        "BRUCE, A.; BRUCE, P. Estatística Prática para Cientistas de Dados. [S.l.]: Alta Books, 2019. ISBN 9788550810805.\n",
        "\n",
        "COX, V. Exploratory Data Analysis. In: Translating Statistics to Make Decisions. [S.l.]: Apress, Berkeley, CA, 2017. ISBN 978-1-4842-2256-0.\n",
        "\n",
        "ESCOVEDO, T.; KOSHIYAMA, A. Introdução a Data Science: Algoritmos de Machine\n",
        "Learning e métodos de análise. [S.l.]: Casa do Código, 2020. ISBN 9788572540551.\n",
        "\n",
        "IGUAL, L. et al. Introduction to Data Science: A Python Approach to Concepts, Techniques and Applications. [S.l.]: Springer International Publishing, 2017. (Undergraduate Topics in Computer Science). ISBN 9783319500171.\n",
        "\n",
        "ROSE, T.; CREWELL, S.; LÖHNERT, U.; SIMMER, C. A network suitable microwave radiometer for operational monitoring of the cloudy atmosphere, Atmos. Res., 75, 183–200, 2005.\n",
        "\n",
        "Tukey, John (1977). Exploratory Data Analysis. Addison-Wesley Publishing Company.\n",
        "\n",
        "https://cienciadedadosuff.github.io/cursos/notebooks/caderno-3.html\n",
        "\n",
        "https://gomesfellipe.github.io/post/2018-05-26-smarteademachinelearning/smarteademachinelearning/"
      ]
    }
  ]
}